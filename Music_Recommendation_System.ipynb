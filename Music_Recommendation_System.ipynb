{
  "cells": [
    {
      "cell_type": "markdown",
      "metadata": {
        "id": "DyAjEw4OHmDb"
      },
      "source": [
        "# **Music Recommendation System**"
      ]
    },
    {
      "cell_type": "markdown",
      "source": [
        "## **Problem Definition**\n",
        "\n",
        "### **The Context:**\n",
        "\n",
        " - There are many songs getting released over time and many platforms for a user to listen to songs. In this fast paced world, users have limited time to listen to songs and choosing what songs to listen can also be a daunting task. This can in turn, reduce time user spents on spotify and also reduce the user base. Therefore, it is important to be able to recommend songs for a user that the user is most likely to like. Not only will this provide good user experience and increase listnership, itwill also help the artist to reach the right audience. Overall, this is a win-win situation for users, artist and spotify.\n",
        "\n",
        "### **The objective:**\n",
        "\n",
        " - Goal of this project is to build a recommendation system that will predict ten songs for a given user, that user is most likley going to listen.\n",
        "\n",
        "### **The key questions:**\n",
        "\n",
        "- What do we recommend to a new user who hasn't played any song on spotify ?\n",
        "\n",
        "- How do we find similar songs to songs that a user is listening frequently ?\n",
        "\n",
        "- How to find similar users based on what users listening ? so that when a  user listens to a song, that can be recommended to simiilar users.\n",
        "\n",
        "- How can we find similar songs based on attributes of songs such as name, artist and release date.\n",
        "\n",
        "### **The problem formulation**:\n",
        "\n",
        "- There are many models/techniques available in data science that can be applied to historical data to make predictions.\n",
        "\n",
        "  ## *Techniques/models are as follows*:\n",
        "\n",
        "  - Popularity-Based Recommendation Systems\n",
        "  - User User Similarity-Based Collaborative Filtering\n",
        "  - Item Item Similarity-based collaborative filtering recommendation systems\n",
        "  - Model Based Collaborative Filtering - Matrix Factorization\n",
        "  - Cluster Based Recommendation System\n",
        "  - Content Based Recommendation Systems"
      ],
      "metadata": {
        "id": "FMCaC7Q_tq1m"
      }
    },
    {
      "cell_type": "markdown",
      "metadata": {
        "id": "BVUiyhYTHS1t"
      },
      "source": [
        "## **Data Dictionary**\n",
        "\n",
        "The core data is the Taste Profile Subset released by the Echo Nest as part of the Million Song Dataset. There are two files in this dataset. The first file contains the details about the song id, titles, release, artist name, and the year of release. The second file contains the user id, song id, and the play count of users.\n",
        "\n",
        "song_data\n",
        "\n",
        "song_id - A unique id given to every song\n",
        "\n",
        "title - Title of the song\n",
        "\n",
        "Release - Name of the released album\n",
        "\n",
        "Artist_name - Name of the artist\n",
        "\n",
        "year - Year of release\n",
        "\n",
        "count_data\n",
        "\n",
        "user _id - A unique id given to the user\n",
        "\n",
        "song_id - A unique id given to the song\n",
        "\n",
        "play_count - Number of times the song was played\n",
        "\n",
        "## **Data Source**\n",
        "http://millionsongdataset.com/"
      ]
    },
    {
      "cell_type": "markdown",
      "metadata": {
        "id": "NRJtXkTrHxMQ"
      },
      "source": [
        "### **Importing Libraries and the Dataset**"
      ]
    },
    {
      "cell_type": "code",
      "execution_count": null,
      "metadata": {
        "id": "6SRzOPXI2Efn",
        "colab": {
          "base_uri": "https://localhost:8080/"
        },
        "outputId": "98afd343-ec70-4e64-b050-f1b0745e20e2"
      },
      "outputs": [
        {
          "output_type": "stream",
          "name": "stdout",
          "text": [
            "Mounted at /content/drive\n"
          ]
        }
      ],
      "source": [
        "# Mounting the drive\n",
        "from google.colab import drive\n",
        "drive.mount('/content/drive')"
      ]
    },
    {
      "cell_type": "code",
      "execution_count": null,
      "metadata": {
        "id": "R4YvKrpzId3K"
      },
      "outputs": [],
      "source": [
        "# Used to ignore the warning given as output of the code\n",
        "import warnings\n",
        "warnings.filterwarnings('ignore')\n",
        "\n",
        "# Basic libraries of python for numeric and dataframe computations\n",
        "import numpy as np\n",
        "import pandas as pd\n",
        "\n",
        "# Import Matplotlib the Basic library for data visualization\n",
        "import matplotlib.pyplot as plt\n",
        "\n",
        "# Import seaborn - Slightly advanced library for data visualization\n",
        "import seaborn as sns\n",
        "\n",
        "# Import the required library to compute the cosine similarity between two vectors\n",
        "from sklearn.metrics.pairwise import cosine_similarity\n",
        "\n",
        "# Import defaultdict from collections A dictionary output that does not raise a key error\n",
        "from collections import defaultdict\n",
        "\n",
        "# Impoort mean_squared_error : a performance metrics in sklearn\n",
        "from sklearn.metrics import mean_squared_error"
      ]
    },
    {
      "cell_type": "markdown",
      "metadata": {
        "id": "bUGKX140wf-S"
      },
      "source": [
        "### **Load the dataset**"
      ]
    },
    {
      "cell_type": "code",
      "execution_count": null,
      "metadata": {
        "id": "si6ulhIYImck"
      },
      "outputs": [],
      "source": [
        "# Importing the datasets\n",
        "song_df = pd.read_csv('/content/drive/MyDrive/capstone/song_data.csv')\n",
        "count_df = pd.read_csv('/content/drive/MyDrive/capstone/count_data.csv')"
      ]
    },
    {
      "cell_type": "markdown",
      "metadata": {
        "id": "12TKB2M7XyC6"
      },
      "source": [
        "### **Understanding the data by viewing a few observations**"
      ]
    },
    {
      "cell_type": "code",
      "execution_count": null,
      "metadata": {
        "id": "GCLzBuYiXlPM",
        "colab": {
          "base_uri": "https://localhost:8080/",
          "height": 363
        },
        "outputId": "b4dfc9e0-65ae-45bf-b200-39a1e2730cb1"
      },
      "outputs": [
        {
          "output_type": "execute_result",
          "data": {
            "text/plain": [
              "              song_id                                              title  \\\n",
              "0  SOQMMHC12AB0180CB8                                       Silent Night   \n",
              "1  SOVFVAK12A8C1350D9                                        Tanssi vaan   \n",
              "2  SOGTUKN12AB017F4F1                                  No One Could Ever   \n",
              "3  SOBNYVR12A8C13558C                                      Si Vos Querés   \n",
              "4  SOHSBXH12A8C13B0DF                                   Tangle Of Aspens   \n",
              "5  SOZVAPQ12A8C13B63C  Symphony No. 1 G minor \"Sinfonie Serieuse\"/All...   \n",
              "6  SOQVRHI12A6D4FB2D7                                   We Have Got Love   \n",
              "7  SOEYRFT12AB018936C                                  2 Da Beat Ch'yall   \n",
              "8  SOPMIYT12A6D4F851E                                            Goodbye   \n",
              "9  SOJCFMH12A8C13B0C2                         Mama_ mama can't you see ?   \n",
              "\n",
              "                                release  \\\n",
              "0                 Monster Ballads X-Mas   \n",
              "1                           Karkuteillä   \n",
              "2                                Butter   \n",
              "3                               De Culo   \n",
              "4  Rene Ablaze Presents Winter Sessions   \n",
              "5      Berwald: Symphonies Nos. 1/2/3/4   \n",
              "6             Strictly The Best Vol. 34   \n",
              "7                               Da Bomb   \n",
              "8                             Danny Boy   \n",
              "9  March to cadence with the US marines   \n",
              "\n",
              "                                      artist_name  year  \n",
              "0                                Faster Pussy cat  2003  \n",
              "1                                Karkkiautomaatti  1995  \n",
              "2                                  Hudson Mohawke  2006  \n",
              "3                                     Yerba Brava  2003  \n",
              "4                                      Der Mystic     0  \n",
              "5                                David Montgomery     0  \n",
              "6                              Sasha / Turbulence     0  \n",
              "7                                      Kris Kross  1993  \n",
              "8                                    Joseph Locke     0  \n",
              "9  The Sun Harbor's Chorus-Documentary Recordings     0  "
            ],
            "text/html": [
              "\n",
              "  <div id=\"df-4d78dd33-b95b-4ae4-815c-4792544e0bae\">\n",
              "    <div class=\"colab-df-container\">\n",
              "      <div>\n",
              "<style scoped>\n",
              "    .dataframe tbody tr th:only-of-type {\n",
              "        vertical-align: middle;\n",
              "    }\n",
              "\n",
              "    .dataframe tbody tr th {\n",
              "        vertical-align: top;\n",
              "    }\n",
              "\n",
              "    .dataframe thead th {\n",
              "        text-align: right;\n",
              "    }\n",
              "</style>\n",
              "<table border=\"1\" class=\"dataframe\">\n",
              "  <thead>\n",
              "    <tr style=\"text-align: right;\">\n",
              "      <th></th>\n",
              "      <th>song_id</th>\n",
              "      <th>title</th>\n",
              "      <th>release</th>\n",
              "      <th>artist_name</th>\n",
              "      <th>year</th>\n",
              "    </tr>\n",
              "  </thead>\n",
              "  <tbody>\n",
              "    <tr>\n",
              "      <th>0</th>\n",
              "      <td>SOQMMHC12AB0180CB8</td>\n",
              "      <td>Silent Night</td>\n",
              "      <td>Monster Ballads X-Mas</td>\n",
              "      <td>Faster Pussy cat</td>\n",
              "      <td>2003</td>\n",
              "    </tr>\n",
              "    <tr>\n",
              "      <th>1</th>\n",
              "      <td>SOVFVAK12A8C1350D9</td>\n",
              "      <td>Tanssi vaan</td>\n",
              "      <td>Karkuteillä</td>\n",
              "      <td>Karkkiautomaatti</td>\n",
              "      <td>1995</td>\n",
              "    </tr>\n",
              "    <tr>\n",
              "      <th>2</th>\n",
              "      <td>SOGTUKN12AB017F4F1</td>\n",
              "      <td>No One Could Ever</td>\n",
              "      <td>Butter</td>\n",
              "      <td>Hudson Mohawke</td>\n",
              "      <td>2006</td>\n",
              "    </tr>\n",
              "    <tr>\n",
              "      <th>3</th>\n",
              "      <td>SOBNYVR12A8C13558C</td>\n",
              "      <td>Si Vos Querés</td>\n",
              "      <td>De Culo</td>\n",
              "      <td>Yerba Brava</td>\n",
              "      <td>2003</td>\n",
              "    </tr>\n",
              "    <tr>\n",
              "      <th>4</th>\n",
              "      <td>SOHSBXH12A8C13B0DF</td>\n",
              "      <td>Tangle Of Aspens</td>\n",
              "      <td>Rene Ablaze Presents Winter Sessions</td>\n",
              "      <td>Der Mystic</td>\n",
              "      <td>0</td>\n",
              "    </tr>\n",
              "    <tr>\n",
              "      <th>5</th>\n",
              "      <td>SOZVAPQ12A8C13B63C</td>\n",
              "      <td>Symphony No. 1 G minor \"Sinfonie Serieuse\"/All...</td>\n",
              "      <td>Berwald: Symphonies Nos. 1/2/3/4</td>\n",
              "      <td>David Montgomery</td>\n",
              "      <td>0</td>\n",
              "    </tr>\n",
              "    <tr>\n",
              "      <th>6</th>\n",
              "      <td>SOQVRHI12A6D4FB2D7</td>\n",
              "      <td>We Have Got Love</td>\n",
              "      <td>Strictly The Best Vol. 34</td>\n",
              "      <td>Sasha / Turbulence</td>\n",
              "      <td>0</td>\n",
              "    </tr>\n",
              "    <tr>\n",
              "      <th>7</th>\n",
              "      <td>SOEYRFT12AB018936C</td>\n",
              "      <td>2 Da Beat Ch'yall</td>\n",
              "      <td>Da Bomb</td>\n",
              "      <td>Kris Kross</td>\n",
              "      <td>1993</td>\n",
              "    </tr>\n",
              "    <tr>\n",
              "      <th>8</th>\n",
              "      <td>SOPMIYT12A6D4F851E</td>\n",
              "      <td>Goodbye</td>\n",
              "      <td>Danny Boy</td>\n",
              "      <td>Joseph Locke</td>\n",
              "      <td>0</td>\n",
              "    </tr>\n",
              "    <tr>\n",
              "      <th>9</th>\n",
              "      <td>SOJCFMH12A8C13B0C2</td>\n",
              "      <td>Mama_ mama can't you see ?</td>\n",
              "      <td>March to cadence with the US marines</td>\n",
              "      <td>The Sun Harbor's Chorus-Documentary Recordings</td>\n",
              "      <td>0</td>\n",
              "    </tr>\n",
              "  </tbody>\n",
              "</table>\n",
              "</div>\n",
              "      <button class=\"colab-df-convert\" onclick=\"convertToInteractive('df-4d78dd33-b95b-4ae4-815c-4792544e0bae')\"\n",
              "              title=\"Convert this dataframe to an interactive table.\"\n",
              "              style=\"display:none;\">\n",
              "        \n",
              "  <svg xmlns=\"http://www.w3.org/2000/svg\" height=\"24px\"viewBox=\"0 0 24 24\"\n",
              "       width=\"24px\">\n",
              "    <path d=\"M0 0h24v24H0V0z\" fill=\"none\"/>\n",
              "    <path d=\"M18.56 5.44l.94 2.06.94-2.06 2.06-.94-2.06-.94-.94-2.06-.94 2.06-2.06.94zm-11 1L8.5 8.5l.94-2.06 2.06-.94-2.06-.94L8.5 2.5l-.94 2.06-2.06.94zm10 10l.94 2.06.94-2.06 2.06-.94-2.06-.94-.94-2.06-.94 2.06-2.06.94z\"/><path d=\"M17.41 7.96l-1.37-1.37c-.4-.4-.92-.59-1.43-.59-.52 0-1.04.2-1.43.59L10.3 9.45l-7.72 7.72c-.78.78-.78 2.05 0 2.83L4 21.41c.39.39.9.59 1.41.59.51 0 1.02-.2 1.41-.59l7.78-7.78 2.81-2.81c.8-.78.8-2.07 0-2.86zM5.41 20L4 18.59l7.72-7.72 1.47 1.35L5.41 20z\"/>\n",
              "  </svg>\n",
              "      </button>\n",
              "      \n",
              "  <style>\n",
              "    .colab-df-container {\n",
              "      display:flex;\n",
              "      flex-wrap:wrap;\n",
              "      gap: 12px;\n",
              "    }\n",
              "\n",
              "    .colab-df-convert {\n",
              "      background-color: #E8F0FE;\n",
              "      border: none;\n",
              "      border-radius: 50%;\n",
              "      cursor: pointer;\n",
              "      display: none;\n",
              "      fill: #1967D2;\n",
              "      height: 32px;\n",
              "      padding: 0 0 0 0;\n",
              "      width: 32px;\n",
              "    }\n",
              "\n",
              "    .colab-df-convert:hover {\n",
              "      background-color: #E2EBFA;\n",
              "      box-shadow: 0px 1px 2px rgba(60, 64, 67, 0.3), 0px 1px 3px 1px rgba(60, 64, 67, 0.15);\n",
              "      fill: #174EA6;\n",
              "    }\n",
              "\n",
              "    [theme=dark] .colab-df-convert {\n",
              "      background-color: #3B4455;\n",
              "      fill: #D2E3FC;\n",
              "    }\n",
              "\n",
              "    [theme=dark] .colab-df-convert:hover {\n",
              "      background-color: #434B5C;\n",
              "      box-shadow: 0px 1px 3px 1px rgba(0, 0, 0, 0.15);\n",
              "      filter: drop-shadow(0px 1px 2px rgba(0, 0, 0, 0.3));\n",
              "      fill: #FFFFFF;\n",
              "    }\n",
              "  </style>\n",
              "\n",
              "      <script>\n",
              "        const buttonEl =\n",
              "          document.querySelector('#df-4d78dd33-b95b-4ae4-815c-4792544e0bae button.colab-df-convert');\n",
              "        buttonEl.style.display =\n",
              "          google.colab.kernel.accessAllowed ? 'block' : 'none';\n",
              "\n",
              "        async function convertToInteractive(key) {\n",
              "          const element = document.querySelector('#df-4d78dd33-b95b-4ae4-815c-4792544e0bae');\n",
              "          const dataTable =\n",
              "            await google.colab.kernel.invokeFunction('convertToInteractive',\n",
              "                                                     [key], {});\n",
              "          if (!dataTable) return;\n",
              "\n",
              "          const docLinkHtml = 'Like what you see? Visit the ' +\n",
              "            '<a target=\"_blank\" href=https://colab.research.google.com/notebooks/data_table.ipynb>data table notebook</a>'\n",
              "            + ' to learn more about interactive tables.';\n",
              "          element.innerHTML = '';\n",
              "          dataTable['output_type'] = 'display_data';\n",
              "          await google.colab.output.renderOutput(dataTable, element);\n",
              "          const docLink = document.createElement('div');\n",
              "          docLink.innerHTML = docLinkHtml;\n",
              "          element.appendChild(docLink);\n",
              "        }\n",
              "      </script>\n",
              "    </div>\n",
              "  </div>\n",
              "  "
            ]
          },
          "metadata": {},
          "execution_count": 4
        }
      ],
      "source": [
        "# See top 10 records of count_df data\n",
        "song_df.head(10)"
      ]
    },
    {
      "cell_type": "code",
      "execution_count": null,
      "metadata": {
        "id": "tV1ed0ApXpu3",
        "colab": {
          "base_uri": "https://localhost:8080/",
          "height": 363
        },
        "outputId": "fb7bc6d4-4f3f-478a-b338-2699ab0643be"
      },
      "outputs": [
        {
          "output_type": "execute_result",
          "data": {
            "text/plain": [
              "   Unnamed: 0                                   user_id             song_id  \\\n",
              "0           0  b80344d063b5ccb3212f76538f3d9e43d87dca9e  SOAKIMP12A8C130995   \n",
              "1           1  b80344d063b5ccb3212f76538f3d9e43d87dca9e  SOBBMDR12A8C13253B   \n",
              "2           2  b80344d063b5ccb3212f76538f3d9e43d87dca9e  SOBXHDL12A81C204C0   \n",
              "3           3  b80344d063b5ccb3212f76538f3d9e43d87dca9e  SOBYHAJ12A6701BF1D   \n",
              "4           4  b80344d063b5ccb3212f76538f3d9e43d87dca9e  SODACBL12A8C13C273   \n",
              "5           5  b80344d063b5ccb3212f76538f3d9e43d87dca9e  SODDNQT12A6D4F5F7E   \n",
              "6           6  b80344d063b5ccb3212f76538f3d9e43d87dca9e  SODXRTY12AB0180F3B   \n",
              "7           7  b80344d063b5ccb3212f76538f3d9e43d87dca9e  SOFGUAY12AB017B0A8   \n",
              "8           8  b80344d063b5ccb3212f76538f3d9e43d87dca9e  SOFRQTD12A81C233C0   \n",
              "9           9  b80344d063b5ccb3212f76538f3d9e43d87dca9e  SOHQWYZ12A6D4FA701   \n",
              "\n",
              "   play_count  \n",
              "0           1  \n",
              "1           2  \n",
              "2           1  \n",
              "3           1  \n",
              "4           1  \n",
              "5           5  \n",
              "6           1  \n",
              "7           1  \n",
              "8           1  \n",
              "9           1  "
            ],
            "text/html": [
              "\n",
              "  <div id=\"df-a2ab2deb-fea6-4167-81eb-57eef0dd5a7b\">\n",
              "    <div class=\"colab-df-container\">\n",
              "      <div>\n",
              "<style scoped>\n",
              "    .dataframe tbody tr th:only-of-type {\n",
              "        vertical-align: middle;\n",
              "    }\n",
              "\n",
              "    .dataframe tbody tr th {\n",
              "        vertical-align: top;\n",
              "    }\n",
              "\n",
              "    .dataframe thead th {\n",
              "        text-align: right;\n",
              "    }\n",
              "</style>\n",
              "<table border=\"1\" class=\"dataframe\">\n",
              "  <thead>\n",
              "    <tr style=\"text-align: right;\">\n",
              "      <th></th>\n",
              "      <th>Unnamed: 0</th>\n",
              "      <th>user_id</th>\n",
              "      <th>song_id</th>\n",
              "      <th>play_count</th>\n",
              "    </tr>\n",
              "  </thead>\n",
              "  <tbody>\n",
              "    <tr>\n",
              "      <th>0</th>\n",
              "      <td>0</td>\n",
              "      <td>b80344d063b5ccb3212f76538f3d9e43d87dca9e</td>\n",
              "      <td>SOAKIMP12A8C130995</td>\n",
              "      <td>1</td>\n",
              "    </tr>\n",
              "    <tr>\n",
              "      <th>1</th>\n",
              "      <td>1</td>\n",
              "      <td>b80344d063b5ccb3212f76538f3d9e43d87dca9e</td>\n",
              "      <td>SOBBMDR12A8C13253B</td>\n",
              "      <td>2</td>\n",
              "    </tr>\n",
              "    <tr>\n",
              "      <th>2</th>\n",
              "      <td>2</td>\n",
              "      <td>b80344d063b5ccb3212f76538f3d9e43d87dca9e</td>\n",
              "      <td>SOBXHDL12A81C204C0</td>\n",
              "      <td>1</td>\n",
              "    </tr>\n",
              "    <tr>\n",
              "      <th>3</th>\n",
              "      <td>3</td>\n",
              "      <td>b80344d063b5ccb3212f76538f3d9e43d87dca9e</td>\n",
              "      <td>SOBYHAJ12A6701BF1D</td>\n",
              "      <td>1</td>\n",
              "    </tr>\n",
              "    <tr>\n",
              "      <th>4</th>\n",
              "      <td>4</td>\n",
              "      <td>b80344d063b5ccb3212f76538f3d9e43d87dca9e</td>\n",
              "      <td>SODACBL12A8C13C273</td>\n",
              "      <td>1</td>\n",
              "    </tr>\n",
              "    <tr>\n",
              "      <th>5</th>\n",
              "      <td>5</td>\n",
              "      <td>b80344d063b5ccb3212f76538f3d9e43d87dca9e</td>\n",
              "      <td>SODDNQT12A6D4F5F7E</td>\n",
              "      <td>5</td>\n",
              "    </tr>\n",
              "    <tr>\n",
              "      <th>6</th>\n",
              "      <td>6</td>\n",
              "      <td>b80344d063b5ccb3212f76538f3d9e43d87dca9e</td>\n",
              "      <td>SODXRTY12AB0180F3B</td>\n",
              "      <td>1</td>\n",
              "    </tr>\n",
              "    <tr>\n",
              "      <th>7</th>\n",
              "      <td>7</td>\n",
              "      <td>b80344d063b5ccb3212f76538f3d9e43d87dca9e</td>\n",
              "      <td>SOFGUAY12AB017B0A8</td>\n",
              "      <td>1</td>\n",
              "    </tr>\n",
              "    <tr>\n",
              "      <th>8</th>\n",
              "      <td>8</td>\n",
              "      <td>b80344d063b5ccb3212f76538f3d9e43d87dca9e</td>\n",
              "      <td>SOFRQTD12A81C233C0</td>\n",
              "      <td>1</td>\n",
              "    </tr>\n",
              "    <tr>\n",
              "      <th>9</th>\n",
              "      <td>9</td>\n",
              "      <td>b80344d063b5ccb3212f76538f3d9e43d87dca9e</td>\n",
              "      <td>SOHQWYZ12A6D4FA701</td>\n",
              "      <td>1</td>\n",
              "    </tr>\n",
              "  </tbody>\n",
              "</table>\n",
              "</div>\n",
              "      <button class=\"colab-df-convert\" onclick=\"convertToInteractive('df-a2ab2deb-fea6-4167-81eb-57eef0dd5a7b')\"\n",
              "              title=\"Convert this dataframe to an interactive table.\"\n",
              "              style=\"display:none;\">\n",
              "        \n",
              "  <svg xmlns=\"http://www.w3.org/2000/svg\" height=\"24px\"viewBox=\"0 0 24 24\"\n",
              "       width=\"24px\">\n",
              "    <path d=\"M0 0h24v24H0V0z\" fill=\"none\"/>\n",
              "    <path d=\"M18.56 5.44l.94 2.06.94-2.06 2.06-.94-2.06-.94-.94-2.06-.94 2.06-2.06.94zm-11 1L8.5 8.5l.94-2.06 2.06-.94-2.06-.94L8.5 2.5l-.94 2.06-2.06.94zm10 10l.94 2.06.94-2.06 2.06-.94-2.06-.94-.94-2.06-.94 2.06-2.06.94z\"/><path d=\"M17.41 7.96l-1.37-1.37c-.4-.4-.92-.59-1.43-.59-.52 0-1.04.2-1.43.59L10.3 9.45l-7.72 7.72c-.78.78-.78 2.05 0 2.83L4 21.41c.39.39.9.59 1.41.59.51 0 1.02-.2 1.41-.59l7.78-7.78 2.81-2.81c.8-.78.8-2.07 0-2.86zM5.41 20L4 18.59l7.72-7.72 1.47 1.35L5.41 20z\"/>\n",
              "  </svg>\n",
              "      </button>\n",
              "      \n",
              "  <style>\n",
              "    .colab-df-container {\n",
              "      display:flex;\n",
              "      flex-wrap:wrap;\n",
              "      gap: 12px;\n",
              "    }\n",
              "\n",
              "    .colab-df-convert {\n",
              "      background-color: #E8F0FE;\n",
              "      border: none;\n",
              "      border-radius: 50%;\n",
              "      cursor: pointer;\n",
              "      display: none;\n",
              "      fill: #1967D2;\n",
              "      height: 32px;\n",
              "      padding: 0 0 0 0;\n",
              "      width: 32px;\n",
              "    }\n",
              "\n",
              "    .colab-df-convert:hover {\n",
              "      background-color: #E2EBFA;\n",
              "      box-shadow: 0px 1px 2px rgba(60, 64, 67, 0.3), 0px 1px 3px 1px rgba(60, 64, 67, 0.15);\n",
              "      fill: #174EA6;\n",
              "    }\n",
              "\n",
              "    [theme=dark] .colab-df-convert {\n",
              "      background-color: #3B4455;\n",
              "      fill: #D2E3FC;\n",
              "    }\n",
              "\n",
              "    [theme=dark] .colab-df-convert:hover {\n",
              "      background-color: #434B5C;\n",
              "      box-shadow: 0px 1px 3px 1px rgba(0, 0, 0, 0.15);\n",
              "      filter: drop-shadow(0px 1px 2px rgba(0, 0, 0, 0.3));\n",
              "      fill: #FFFFFF;\n",
              "    }\n",
              "  </style>\n",
              "\n",
              "      <script>\n",
              "        const buttonEl =\n",
              "          document.querySelector('#df-a2ab2deb-fea6-4167-81eb-57eef0dd5a7b button.colab-df-convert');\n",
              "        buttonEl.style.display =\n",
              "          google.colab.kernel.accessAllowed ? 'block' : 'none';\n",
              "\n",
              "        async function convertToInteractive(key) {\n",
              "          const element = document.querySelector('#df-a2ab2deb-fea6-4167-81eb-57eef0dd5a7b');\n",
              "          const dataTable =\n",
              "            await google.colab.kernel.invokeFunction('convertToInteractive',\n",
              "                                                     [key], {});\n",
              "          if (!dataTable) return;\n",
              "\n",
              "          const docLinkHtml = 'Like what you see? Visit the ' +\n",
              "            '<a target=\"_blank\" href=https://colab.research.google.com/notebooks/data_table.ipynb>data table notebook</a>'\n",
              "            + ' to learn more about interactive tables.';\n",
              "          element.innerHTML = '';\n",
              "          dataTable['output_type'] = 'display_data';\n",
              "          await google.colab.output.renderOutput(dataTable, element);\n",
              "          const docLink = document.createElement('div');\n",
              "          docLink.innerHTML = docLinkHtml;\n",
              "          element.appendChild(docLink);\n",
              "        }\n",
              "      </script>\n",
              "    </div>\n",
              "  </div>\n",
              "  "
            ]
          },
          "metadata": {},
          "execution_count": 5
        }
      ],
      "source": [
        "# See top 10 records of song_df data\n",
        "count_df.head(10)"
      ]
    },
    {
      "cell_type": "markdown",
      "metadata": {
        "id": "bvKb5FHcXzcN"
      },
      "source": [
        "### **Let us check the data types and and missing values of each column**"
      ]
    },
    {
      "cell_type": "code",
      "execution_count": null,
      "metadata": {
        "id": "yyoHc_cnX19J",
        "colab": {
          "base_uri": "https://localhost:8080/"
        },
        "outputId": "90389346-71ab-4d81-b5e5-f33df757ad66"
      },
      "outputs": [
        {
          "output_type": "stream",
          "name": "stdout",
          "text": [
            "<class 'pandas.core.frame.DataFrame'>\n",
            "RangeIndex: 2000000 entries, 0 to 1999999\n",
            "Data columns (total 4 columns):\n",
            " #   Column      Dtype \n",
            "---  ------      ----- \n",
            " 0   Unnamed: 0  int64 \n",
            " 1   user_id     object\n",
            " 2   song_id     object\n",
            " 3   play_count  int64 \n",
            "dtypes: int64(2), object(2)\n",
            "memory usage: 61.0+ MB\n"
          ]
        }
      ],
      "source": [
        "# See the info of the count_df data\n",
        "count_df.info()"
      ]
    },
    {
      "cell_type": "code",
      "execution_count": null,
      "metadata": {
        "id": "rz3zDx_LX42y",
        "colab": {
          "base_uri": "https://localhost:8080/"
        },
        "outputId": "02a17008-cb57-485f-9ba1-69cefa4e8f4d"
      },
      "outputs": [
        {
          "output_type": "stream",
          "name": "stdout",
          "text": [
            "<class 'pandas.core.frame.DataFrame'>\n",
            "RangeIndex: 1000000 entries, 0 to 999999\n",
            "Data columns (total 5 columns):\n",
            " #   Column       Non-Null Count    Dtype \n",
            "---  ------       --------------    ----- \n",
            " 0   song_id      1000000 non-null  object\n",
            " 1   title        999985 non-null   object\n",
            " 2   release      999995 non-null   object\n",
            " 3   artist_name  1000000 non-null  object\n",
            " 4   year         1000000 non-null  int64 \n",
            "dtypes: int64(1), object(4)\n",
            "memory usage: 38.1+ MB\n"
          ]
        },
        {
          "output_type": "execute_result",
          "data": {
            "text/plain": [
              "(1000000, 5)"
            ]
          },
          "metadata": {},
          "execution_count": 7
        }
      ],
      "source": [
        "# See the info of the song_df data\n",
        "song_df.info()\n",
        "song_df[song_df['song_id'] == 'SOUYQYY12AF72A000F']\n",
        "song_df.shape"
      ]
    },
    {
      "cell_type": "markdown",
      "metadata": {
        "id": "Ze2TlWxpYadn"
      },
      "source": [
        "#### **Observations and Insights:_____________**\n"
      ]
    },
    {
      "cell_type": "code",
      "execution_count": null,
      "metadata": {
        "id": "oTeurvID2T9U",
        "colab": {
          "base_uri": "https://localhost:8080/",
          "height": 206
        },
        "outputId": "13a6190d-1593-4162-f3f8-3b363d924979"
      },
      "outputs": [
        {
          "output_type": "execute_result",
          "data": {
            "text/plain": [
              "                                    user_id             song_id  play_count  \\\n",
              "0  b80344d063b5ccb3212f76538f3d9e43d87dca9e  SOAKIMP12A8C130995           1   \n",
              "1  b80344d063b5ccb3212f76538f3d9e43d87dca9e  SOBBMDR12A8C13253B           2   \n",
              "2  b80344d063b5ccb3212f76538f3d9e43d87dca9e  SOBXHDL12A81C204C0           1   \n",
              "3  b80344d063b5ccb3212f76538f3d9e43d87dca9e  SOBYHAJ12A6701BF1D           1   \n",
              "4  b80344d063b5ccb3212f76538f3d9e43d87dca9e  SODACBL12A8C13C273           1   \n",
              "\n",
              "             title                        release    artist_name  year  \n",
              "0         The Cove             Thicker Than Water   Jack Johnson     0  \n",
              "1  Entre Dos Aguas            Flamenco Para Niños  Paco De Lucia  1976  \n",
              "2         Stronger                     Graduation     Kanye West  2007  \n",
              "3   Constellations              In Between Dreams   Jack Johnson  2005  \n",
              "4     Learn To Fly  There Is Nothing Left To Lose   Foo Fighters  1999  "
            ],
            "text/html": [
              "\n",
              "  <div id=\"df-bc1f5056-f3c4-4df1-a21a-c9720e8360e5\">\n",
              "    <div class=\"colab-df-container\">\n",
              "      <div>\n",
              "<style scoped>\n",
              "    .dataframe tbody tr th:only-of-type {\n",
              "        vertical-align: middle;\n",
              "    }\n",
              "\n",
              "    .dataframe tbody tr th {\n",
              "        vertical-align: top;\n",
              "    }\n",
              "\n",
              "    .dataframe thead th {\n",
              "        text-align: right;\n",
              "    }\n",
              "</style>\n",
              "<table border=\"1\" class=\"dataframe\">\n",
              "  <thead>\n",
              "    <tr style=\"text-align: right;\">\n",
              "      <th></th>\n",
              "      <th>user_id</th>\n",
              "      <th>song_id</th>\n",
              "      <th>play_count</th>\n",
              "      <th>title</th>\n",
              "      <th>release</th>\n",
              "      <th>artist_name</th>\n",
              "      <th>year</th>\n",
              "    </tr>\n",
              "  </thead>\n",
              "  <tbody>\n",
              "    <tr>\n",
              "      <th>0</th>\n",
              "      <td>b80344d063b5ccb3212f76538f3d9e43d87dca9e</td>\n",
              "      <td>SOAKIMP12A8C130995</td>\n",
              "      <td>1</td>\n",
              "      <td>The Cove</td>\n",
              "      <td>Thicker Than Water</td>\n",
              "      <td>Jack Johnson</td>\n",
              "      <td>0</td>\n",
              "    </tr>\n",
              "    <tr>\n",
              "      <th>1</th>\n",
              "      <td>b80344d063b5ccb3212f76538f3d9e43d87dca9e</td>\n",
              "      <td>SOBBMDR12A8C13253B</td>\n",
              "      <td>2</td>\n",
              "      <td>Entre Dos Aguas</td>\n",
              "      <td>Flamenco Para Niños</td>\n",
              "      <td>Paco De Lucia</td>\n",
              "      <td>1976</td>\n",
              "    </tr>\n",
              "    <tr>\n",
              "      <th>2</th>\n",
              "      <td>b80344d063b5ccb3212f76538f3d9e43d87dca9e</td>\n",
              "      <td>SOBXHDL12A81C204C0</td>\n",
              "      <td>1</td>\n",
              "      <td>Stronger</td>\n",
              "      <td>Graduation</td>\n",
              "      <td>Kanye West</td>\n",
              "      <td>2007</td>\n",
              "    </tr>\n",
              "    <tr>\n",
              "      <th>3</th>\n",
              "      <td>b80344d063b5ccb3212f76538f3d9e43d87dca9e</td>\n",
              "      <td>SOBYHAJ12A6701BF1D</td>\n",
              "      <td>1</td>\n",
              "      <td>Constellations</td>\n",
              "      <td>In Between Dreams</td>\n",
              "      <td>Jack Johnson</td>\n",
              "      <td>2005</td>\n",
              "    </tr>\n",
              "    <tr>\n",
              "      <th>4</th>\n",
              "      <td>b80344d063b5ccb3212f76538f3d9e43d87dca9e</td>\n",
              "      <td>SODACBL12A8C13C273</td>\n",
              "      <td>1</td>\n",
              "      <td>Learn To Fly</td>\n",
              "      <td>There Is Nothing Left To Lose</td>\n",
              "      <td>Foo Fighters</td>\n",
              "      <td>1999</td>\n",
              "    </tr>\n",
              "  </tbody>\n",
              "</table>\n",
              "</div>\n",
              "      <button class=\"colab-df-convert\" onclick=\"convertToInteractive('df-bc1f5056-f3c4-4df1-a21a-c9720e8360e5')\"\n",
              "              title=\"Convert this dataframe to an interactive table.\"\n",
              "              style=\"display:none;\">\n",
              "        \n",
              "  <svg xmlns=\"http://www.w3.org/2000/svg\" height=\"24px\"viewBox=\"0 0 24 24\"\n",
              "       width=\"24px\">\n",
              "    <path d=\"M0 0h24v24H0V0z\" fill=\"none\"/>\n",
              "    <path d=\"M18.56 5.44l.94 2.06.94-2.06 2.06-.94-2.06-.94-.94-2.06-.94 2.06-2.06.94zm-11 1L8.5 8.5l.94-2.06 2.06-.94-2.06-.94L8.5 2.5l-.94 2.06-2.06.94zm10 10l.94 2.06.94-2.06 2.06-.94-2.06-.94-.94-2.06-.94 2.06-2.06.94z\"/><path d=\"M17.41 7.96l-1.37-1.37c-.4-.4-.92-.59-1.43-.59-.52 0-1.04.2-1.43.59L10.3 9.45l-7.72 7.72c-.78.78-.78 2.05 0 2.83L4 21.41c.39.39.9.59 1.41.59.51 0 1.02-.2 1.41-.59l7.78-7.78 2.81-2.81c.8-.78.8-2.07 0-2.86zM5.41 20L4 18.59l7.72-7.72 1.47 1.35L5.41 20z\"/>\n",
              "  </svg>\n",
              "      </button>\n",
              "      \n",
              "  <style>\n",
              "    .colab-df-container {\n",
              "      display:flex;\n",
              "      flex-wrap:wrap;\n",
              "      gap: 12px;\n",
              "    }\n",
              "\n",
              "    .colab-df-convert {\n",
              "      background-color: #E8F0FE;\n",
              "      border: none;\n",
              "      border-radius: 50%;\n",
              "      cursor: pointer;\n",
              "      display: none;\n",
              "      fill: #1967D2;\n",
              "      height: 32px;\n",
              "      padding: 0 0 0 0;\n",
              "      width: 32px;\n",
              "    }\n",
              "\n",
              "    .colab-df-convert:hover {\n",
              "      background-color: #E2EBFA;\n",
              "      box-shadow: 0px 1px 2px rgba(60, 64, 67, 0.3), 0px 1px 3px 1px rgba(60, 64, 67, 0.15);\n",
              "      fill: #174EA6;\n",
              "    }\n",
              "\n",
              "    [theme=dark] .colab-df-convert {\n",
              "      background-color: #3B4455;\n",
              "      fill: #D2E3FC;\n",
              "    }\n",
              "\n",
              "    [theme=dark] .colab-df-convert:hover {\n",
              "      background-color: #434B5C;\n",
              "      box-shadow: 0px 1px 3px 1px rgba(0, 0, 0, 0.15);\n",
              "      filter: drop-shadow(0px 1px 2px rgba(0, 0, 0, 0.3));\n",
              "      fill: #FFFFFF;\n",
              "    }\n",
              "  </style>\n",
              "\n",
              "      <script>\n",
              "        const buttonEl =\n",
              "          document.querySelector('#df-bc1f5056-f3c4-4df1-a21a-c9720e8360e5 button.colab-df-convert');\n",
              "        buttonEl.style.display =\n",
              "          google.colab.kernel.accessAllowed ? 'block' : 'none';\n",
              "\n",
              "        async function convertToInteractive(key) {\n",
              "          const element = document.querySelector('#df-bc1f5056-f3c4-4df1-a21a-c9720e8360e5');\n",
              "          const dataTable =\n",
              "            await google.colab.kernel.invokeFunction('convertToInteractive',\n",
              "                                                     [key], {});\n",
              "          if (!dataTable) return;\n",
              "\n",
              "          const docLinkHtml = 'Like what you see? Visit the ' +\n",
              "            '<a target=\"_blank\" href=https://colab.research.google.com/notebooks/data_table.ipynb>data table notebook</a>'\n",
              "            + ' to learn more about interactive tables.';\n",
              "          element.innerHTML = '';\n",
              "          dataTable['output_type'] = 'display_data';\n",
              "          await google.colab.output.renderOutput(dataTable, element);\n",
              "          const docLink = document.createElement('div');\n",
              "          docLink.innerHTML = docLinkHtml;\n",
              "          element.appendChild(docLink);\n",
              "        }\n",
              "      </script>\n",
              "    </div>\n",
              "  </div>\n",
              "  "
            ]
          },
          "metadata": {},
          "execution_count": 8
        }
      ],
      "source": [
        "# Left merge the count_df and song_df data on \"song_id\". Drop duplicates from song_df data simultaneously\n",
        "merged_df = pd.merge(count_df, song_df.drop_duplicates(['song_id']), on=\"song_id\", how=\"left\")\n",
        "# Drop the column 'Unnamed: 0'\n",
        "df = merged_df.drop(['Unnamed: 0'], axis = 1)\n",
        "## Name the obtained dataframe as \"df\"\n",
        "df.head()"
      ]
    },
    {
      "cell_type": "markdown",
      "metadata": {
        "id": "yWeY9ZT43XFX"
      },
      "source": [
        "**Think About It:** As the user_id and song_id are encrypted. Can they be encoded to numeric features?"
      ]
    },
    {
      "cell_type": "code",
      "execution_count": null,
      "metadata": {
        "id": "oxeoOVxh2T9U",
        "colab": {
          "base_uri": "https://localhost:8080/",
          "height": 206
        },
        "outputId": "2d454ab1-8690-460f-a433-9a2be9f36ebe"
      },
      "outputs": [
        {
          "output_type": "execute_result",
          "data": {
            "text/plain": [
              "   user_id  song_id  play_count            title  \\\n",
              "0    54961      153           1         The Cove   \n",
              "1    54961      413           2  Entre Dos Aguas   \n",
              "2    54961      736           1         Stronger   \n",
              "3    54961      750           1   Constellations   \n",
              "4    54961     1188           1     Learn To Fly   \n",
              "\n",
              "                         release    artist_name  year  \n",
              "0             Thicker Than Water   Jack Johnson     0  \n",
              "1            Flamenco Para Niños  Paco De Lucia  1976  \n",
              "2                     Graduation     Kanye West  2007  \n",
              "3              In Between Dreams   Jack Johnson  2005  \n",
              "4  There Is Nothing Left To Lose   Foo Fighters  1999  "
            ],
            "text/html": [
              "\n",
              "  <div id=\"df-d3cbaec2-fd40-4c9c-913d-dc32ab5caba1\">\n",
              "    <div class=\"colab-df-container\">\n",
              "      <div>\n",
              "<style scoped>\n",
              "    .dataframe tbody tr th:only-of-type {\n",
              "        vertical-align: middle;\n",
              "    }\n",
              "\n",
              "    .dataframe tbody tr th {\n",
              "        vertical-align: top;\n",
              "    }\n",
              "\n",
              "    .dataframe thead th {\n",
              "        text-align: right;\n",
              "    }\n",
              "</style>\n",
              "<table border=\"1\" class=\"dataframe\">\n",
              "  <thead>\n",
              "    <tr style=\"text-align: right;\">\n",
              "      <th></th>\n",
              "      <th>user_id</th>\n",
              "      <th>song_id</th>\n",
              "      <th>play_count</th>\n",
              "      <th>title</th>\n",
              "      <th>release</th>\n",
              "      <th>artist_name</th>\n",
              "      <th>year</th>\n",
              "    </tr>\n",
              "  </thead>\n",
              "  <tbody>\n",
              "    <tr>\n",
              "      <th>0</th>\n",
              "      <td>54961</td>\n",
              "      <td>153</td>\n",
              "      <td>1</td>\n",
              "      <td>The Cove</td>\n",
              "      <td>Thicker Than Water</td>\n",
              "      <td>Jack Johnson</td>\n",
              "      <td>0</td>\n",
              "    </tr>\n",
              "    <tr>\n",
              "      <th>1</th>\n",
              "      <td>54961</td>\n",
              "      <td>413</td>\n",
              "      <td>2</td>\n",
              "      <td>Entre Dos Aguas</td>\n",
              "      <td>Flamenco Para Niños</td>\n",
              "      <td>Paco De Lucia</td>\n",
              "      <td>1976</td>\n",
              "    </tr>\n",
              "    <tr>\n",
              "      <th>2</th>\n",
              "      <td>54961</td>\n",
              "      <td>736</td>\n",
              "      <td>1</td>\n",
              "      <td>Stronger</td>\n",
              "      <td>Graduation</td>\n",
              "      <td>Kanye West</td>\n",
              "      <td>2007</td>\n",
              "    </tr>\n",
              "    <tr>\n",
              "      <th>3</th>\n",
              "      <td>54961</td>\n",
              "      <td>750</td>\n",
              "      <td>1</td>\n",
              "      <td>Constellations</td>\n",
              "      <td>In Between Dreams</td>\n",
              "      <td>Jack Johnson</td>\n",
              "      <td>2005</td>\n",
              "    </tr>\n",
              "    <tr>\n",
              "      <th>4</th>\n",
              "      <td>54961</td>\n",
              "      <td>1188</td>\n",
              "      <td>1</td>\n",
              "      <td>Learn To Fly</td>\n",
              "      <td>There Is Nothing Left To Lose</td>\n",
              "      <td>Foo Fighters</td>\n",
              "      <td>1999</td>\n",
              "    </tr>\n",
              "  </tbody>\n",
              "</table>\n",
              "</div>\n",
              "      <button class=\"colab-df-convert\" onclick=\"convertToInteractive('df-d3cbaec2-fd40-4c9c-913d-dc32ab5caba1')\"\n",
              "              title=\"Convert this dataframe to an interactive table.\"\n",
              "              style=\"display:none;\">\n",
              "        \n",
              "  <svg xmlns=\"http://www.w3.org/2000/svg\" height=\"24px\"viewBox=\"0 0 24 24\"\n",
              "       width=\"24px\">\n",
              "    <path d=\"M0 0h24v24H0V0z\" fill=\"none\"/>\n",
              "    <path d=\"M18.56 5.44l.94 2.06.94-2.06 2.06-.94-2.06-.94-.94-2.06-.94 2.06-2.06.94zm-11 1L8.5 8.5l.94-2.06 2.06-.94-2.06-.94L8.5 2.5l-.94 2.06-2.06.94zm10 10l.94 2.06.94-2.06 2.06-.94-2.06-.94-.94-2.06-.94 2.06-2.06.94z\"/><path d=\"M17.41 7.96l-1.37-1.37c-.4-.4-.92-.59-1.43-.59-.52 0-1.04.2-1.43.59L10.3 9.45l-7.72 7.72c-.78.78-.78 2.05 0 2.83L4 21.41c.39.39.9.59 1.41.59.51 0 1.02-.2 1.41-.59l7.78-7.78 2.81-2.81c.8-.78.8-2.07 0-2.86zM5.41 20L4 18.59l7.72-7.72 1.47 1.35L5.41 20z\"/>\n",
              "  </svg>\n",
              "      </button>\n",
              "      \n",
              "  <style>\n",
              "    .colab-df-container {\n",
              "      display:flex;\n",
              "      flex-wrap:wrap;\n",
              "      gap: 12px;\n",
              "    }\n",
              "\n",
              "    .colab-df-convert {\n",
              "      background-color: #E8F0FE;\n",
              "      border: none;\n",
              "      border-radius: 50%;\n",
              "      cursor: pointer;\n",
              "      display: none;\n",
              "      fill: #1967D2;\n",
              "      height: 32px;\n",
              "      padding: 0 0 0 0;\n",
              "      width: 32px;\n",
              "    }\n",
              "\n",
              "    .colab-df-convert:hover {\n",
              "      background-color: #E2EBFA;\n",
              "      box-shadow: 0px 1px 2px rgba(60, 64, 67, 0.3), 0px 1px 3px 1px rgba(60, 64, 67, 0.15);\n",
              "      fill: #174EA6;\n",
              "    }\n",
              "\n",
              "    [theme=dark] .colab-df-convert {\n",
              "      background-color: #3B4455;\n",
              "      fill: #D2E3FC;\n",
              "    }\n",
              "\n",
              "    [theme=dark] .colab-df-convert:hover {\n",
              "      background-color: #434B5C;\n",
              "      box-shadow: 0px 1px 3px 1px rgba(0, 0, 0, 0.15);\n",
              "      filter: drop-shadow(0px 1px 2px rgba(0, 0, 0, 0.3));\n",
              "      fill: #FFFFFF;\n",
              "    }\n",
              "  </style>\n",
              "\n",
              "      <script>\n",
              "        const buttonEl =\n",
              "          document.querySelector('#df-d3cbaec2-fd40-4c9c-913d-dc32ab5caba1 button.colab-df-convert');\n",
              "        buttonEl.style.display =\n",
              "          google.colab.kernel.accessAllowed ? 'block' : 'none';\n",
              "\n",
              "        async function convertToInteractive(key) {\n",
              "          const element = document.querySelector('#df-d3cbaec2-fd40-4c9c-913d-dc32ab5caba1');\n",
              "          const dataTable =\n",
              "            await google.colab.kernel.invokeFunction('convertToInteractive',\n",
              "                                                     [key], {});\n",
              "          if (!dataTable) return;\n",
              "\n",
              "          const docLinkHtml = 'Like what you see? Visit the ' +\n",
              "            '<a target=\"_blank\" href=https://colab.research.google.com/notebooks/data_table.ipynb>data table notebook</a>'\n",
              "            + ' to learn more about interactive tables.';\n",
              "          element.innerHTML = '';\n",
              "          dataTable['output_type'] = 'display_data';\n",
              "          await google.colab.output.renderOutput(dataTable, element);\n",
              "          const docLink = document.createElement('div');\n",
              "          docLink.innerHTML = docLinkHtml;\n",
              "          element.appendChild(docLink);\n",
              "        }\n",
              "      </script>\n",
              "    </div>\n",
              "  </div>\n",
              "  "
            ]
          },
          "metadata": {},
          "execution_count": 9
        }
      ],
      "source": [
        "# Apply label encoding for \"user_id\" and \"song_id\"\n",
        "from sklearn.preprocessing import LabelEncoder\n",
        "df_encoded = df[['user_id','song_id']].apply(LabelEncoder().fit_transform)\n",
        "df['user_id']=df_encoded['user_id']\n",
        "df['song_id']=df_encoded['song_id']\n",
        "df.head()"
      ]
    },
    {
      "cell_type": "markdown",
      "metadata": {
        "id": "6Q9EFYwj35Ju"
      },
      "source": [
        "**Think About It:** As the data also contains users who have listened to very few songs and vice versa, is it required to filter the data so that it contains users who have listened to a good count of songs and vice versa?"
      ]
    },
    {
      "cell_type": "markdown",
      "source": [
        "A dataset of size 2000000 rows x 7 columns can be quite large and may require a lot of computing resources to process. This can lead to long processing times and can make it difficult to train and evaluate your model efficiently.\n",
        "In order to address this issue, it may be necessary to trim down your dataset to a more manageable size."
      ],
      "metadata": {
        "id": "gcY5LKAQvk9J"
      }
    },
    {
      "cell_type": "code",
      "execution_count": null,
      "metadata": {
        "id": "7GGH9TW0_9uX"
      },
      "outputs": [],
      "source": [
        "# Get the column containing the users\n",
        "users = df.user_id\n",
        "# Create a dictionary from users to their number of songs\n",
        "ratings_count = dict()\n",
        "for user in users:\n",
        "    # If we already have the user, just add 1 to their rating count\n",
        "    if user in ratings_count:\n",
        "        ratings_count[user] += 1\n",
        "    # Otherwise, set their rating count to 1\n",
        "    else:\n",
        "        ratings_count[user] = 1"
      ]
    },
    {
      "cell_type": "code",
      "execution_count": null,
      "metadata": {
        "id": "-cc6mOK7_9uX"
      },
      "outputs": [],
      "source": [
        "# We want our users to have listened at least 90 songs\n",
        "RATINGS_CUTOFF = 90\n",
        "remove_users = []\n",
        "for user, num_ratings in ratings_count.items():\n",
        "    if num_ratings < RATINGS_CUTOFF:\n",
        "        remove_users.append(user)\n",
        "df = df.loc[~df.user_id.isin(remove_users)]"
      ]
    },
    {
      "cell_type": "code",
      "execution_count": null,
      "metadata": {
        "id": "B5BS-Wk5_9uY"
      },
      "outputs": [],
      "source": [
        "# Get the column containing the songs\n",
        "songs = df.song_id\n",
        "# Create a dictionary from songs to their number of users\n",
        "ratings_count = dict()\n",
        "for song in songs:\n",
        "    # If we already have the song, just add 1 to their rating count\n",
        "    if song in ratings_count:\n",
        "        ratings_count[song] += 1\n",
        "    # Otherwise, set their rating count to 1\n",
        "    else:\n",
        "        ratings_count[song] = 1"
      ]
    },
    {
      "cell_type": "code",
      "execution_count": null,
      "metadata": {
        "id": "_nCtGwGO_9uY"
      },
      "outputs": [],
      "source": [
        "# We want our song to be listened by atleast 120 users to be considred\n",
        "# We want our song to be listened by atleast 120 users to be considred\n",
        "RATINGS_CUTOFF = 120\n",
        "remove_songs = []\n",
        "for song, num_ratings in ratings_count.items():\n",
        "    if num_ratings < RATINGS_CUTOFF:\n",
        "        remove_songs.append(song)\n",
        "df_final= df.loc[~df.song_id.isin(remove_songs)]"
      ]
    },
    {
      "cell_type": "code",
      "execution_count": null,
      "metadata": {
        "id": "8qaKeoMcGpad"
      },
      "outputs": [],
      "source": [
        "# Drop records with play_count more than(>) 5\n",
        "df_final=df_final[df_final.play_count<=5]"
      ]
    },
    {
      "cell_type": "code",
      "execution_count": null,
      "metadata": {
        "id": "aL1JZ00o5JtQ",
        "colab": {
          "base_uri": "https://localhost:8080/"
        },
        "outputId": "7bff76eb-4439-4c22-b508-85a8fc1ce73f"
      },
      "outputs": [
        {
          "output_type": "execute_result",
          "data": {
            "text/plain": [
              "(117876, 7)"
            ]
          },
          "metadata": {},
          "execution_count": 15
        }
      ],
      "source": [
        "# Check the shape of the data\n",
        "df_final.shape"
      ]
    },
    {
      "cell_type": "markdown",
      "metadata": {
        "id": "uZcr1Eke2T9W"
      },
      "source": [
        "## **Exploratory Data Analysis**"
      ]
    },
    {
      "cell_type": "markdown",
      "metadata": {
        "id": "ByuHmvWDeBJI"
      },
      "source": [
        "### **Let's check the total number of unique users, songs, artists in the data**"
      ]
    },
    {
      "cell_type": "markdown",
      "metadata": {
        "id": "DE_gukSJ2T9W"
      },
      "source": [
        "Total number of unique user id"
      ]
    },
    {
      "cell_type": "code",
      "execution_count": null,
      "metadata": {
        "id": "n5E24_Ec2T9W",
        "colab": {
          "base_uri": "https://localhost:8080/"
        },
        "outputId": "f7dbf7e6-36c2-469b-e4d8-84cf454b6389"
      },
      "outputs": [
        {
          "output_type": "execute_result",
          "data": {
            "text/plain": [
              "3155"
            ]
          },
          "metadata": {},
          "execution_count": 16
        }
      ],
      "source": [
        "# Display total number of unique user_id\n",
        "df_final['user_id'].nunique()"
      ]
    },
    {
      "cell_type": "markdown",
      "metadata": {
        "id": "wV3BOTdJII-t"
      },
      "source": [
        "Total number of unique song id"
      ]
    },
    {
      "cell_type": "code",
      "execution_count": null,
      "metadata": {
        "id": "5SlpPkIE2T9W",
        "colab": {
          "base_uri": "https://localhost:8080/"
        },
        "outputId": "bc5877a8-e373-4f66-8f9d-d84162b6b918"
      },
      "outputs": [
        {
          "output_type": "execute_result",
          "data": {
            "text/plain": [
              "563"
            ]
          },
          "metadata": {},
          "execution_count": 17
        }
      ],
      "source": [
        "# Display total number of unique song_id\n",
        "df_final['song_id'].nunique()"
      ]
    },
    {
      "cell_type": "markdown",
      "metadata": {
        "id": "eGXPsCjXVpUW"
      },
      "source": [
        "Total number of unique artists"
      ]
    },
    {
      "cell_type": "code",
      "execution_count": null,
      "metadata": {
        "id": "qSVUwb8h2T9X",
        "colab": {
          "base_uri": "https://localhost:8080/"
        },
        "outputId": "d68be9e3-015d-4832-bb2e-068cbda93eed"
      },
      "outputs": [
        {
          "output_type": "execute_result",
          "data": {
            "text/plain": [
              "232"
            ]
          },
          "metadata": {},
          "execution_count": 18
        }
      ],
      "source": [
        "# Display total number of unique artists\n",
        "df_final['artist_name'].nunique()"
      ]
    },
    {
      "cell_type": "markdown",
      "metadata": {
        "id": "bvk-YAo-eGGW"
      },
      "source": [
        "#### **Observations and Insights:__________**\n"
      ]
    },
    {
      "cell_type": "markdown",
      "metadata": {
        "id": "rLdIfv22ISBK"
      },
      "source": [
        "### **Let's find out about the most interacted songs and interacted users**"
      ]
    },
    {
      "cell_type": "markdown",
      "metadata": {
        "id": "W3DyN_8atsCx"
      },
      "source": [
        "Most interacted songs"
      ]
    },
    {
      "cell_type": "code",
      "execution_count": null,
      "metadata": {
        "id": "qWDrvIFF2T9X",
        "colab": {
          "base_uri": "https://localhost:8080/"
        },
        "outputId": "1dbbd8da-96d0-4d95-e49a-58ca2cc6b812"
      },
      "outputs": [
        {
          "output_type": "execute_result",
          "data": {
            "text/plain": [
              "8582    751\n",
              "352     748\n",
              "2220    713\n",
              "1118    662\n",
              "4152    652\n",
              "       ... \n",
              "9048    103\n",
              "6450    102\n",
              "990     101\n",
              "4831     97\n",
              "8324     96\n",
              "Name: song_id, Length: 563, dtype: int64"
            ]
          },
          "metadata": {},
          "execution_count": 19
        }
      ],
      "source": [
        "df_final['song_id'].value_counts()"
      ]
    },
    {
      "cell_type": "code",
      "source": [
        "df_final.head(10)\n"
      ],
      "metadata": {
        "colab": {
          "base_uri": "https://localhost:8080/",
          "height": 363
        },
        "id": "JY2o-y1a-u7r",
        "outputId": "f55309fb-1689-49ac-958e-fa8da0cf34ae"
      },
      "execution_count": null,
      "outputs": [
        {
          "output_type": "execute_result",
          "data": {
            "text/plain": [
              "     user_id  song_id  play_count                            title  \\\n",
              "200     6958      447           1               Daisy And Prudence   \n",
              "202     6958      512           1  The Ballad of Michael Valentine   \n",
              "203     6958      549           1        I Stand Corrected (Album)   \n",
              "204     6958      703           1            They Might Follow You   \n",
              "205     6958      719           1                       Monkey Man   \n",
              "206     6958      892           1                  Bleeding Hearts   \n",
              "209     6958     1050           5                      Wet Blanket   \n",
              "213     6958     1480           1                    Fast As I Can   \n",
              "215     6958     1671           2              Sleeping In (Album)   \n",
              "216     6958     1752           1                   Gimme Sympathy   \n",
              "\n",
              "                                       release      artist_name  year  \n",
              "200                               Distillation     Erin McKeown  2000  \n",
              "202                                    Sawdust      The Killers  2004  \n",
              "203                            Vampire Weekend  Vampire Weekend  2007  \n",
              "204                                Tiny Vipers      Tiny Vipers  2007  \n",
              "205                       You Know I'm No Good    Amy Winehouse  2007  \n",
              "206                                 Hell Train          Soltero     0  \n",
              "209  Old World Underground_ Where Are You Now?           Metric  2003  \n",
              "213                        Monday Morning Cold     Erin McKeown  2000  \n",
              "215                                    Give Up   Postal Service  2003  \n",
              "216                             Gimme Sympathy           Metric  2009  "
            ],
            "text/html": [
              "\n",
              "  <div id=\"df-428e5eca-b10c-4301-9e8f-7a06bec44a2b\">\n",
              "    <div class=\"colab-df-container\">\n",
              "      <div>\n",
              "<style scoped>\n",
              "    .dataframe tbody tr th:only-of-type {\n",
              "        vertical-align: middle;\n",
              "    }\n",
              "\n",
              "    .dataframe tbody tr th {\n",
              "        vertical-align: top;\n",
              "    }\n",
              "\n",
              "    .dataframe thead th {\n",
              "        text-align: right;\n",
              "    }\n",
              "</style>\n",
              "<table border=\"1\" class=\"dataframe\">\n",
              "  <thead>\n",
              "    <tr style=\"text-align: right;\">\n",
              "      <th></th>\n",
              "      <th>user_id</th>\n",
              "      <th>song_id</th>\n",
              "      <th>play_count</th>\n",
              "      <th>title</th>\n",
              "      <th>release</th>\n",
              "      <th>artist_name</th>\n",
              "      <th>year</th>\n",
              "    </tr>\n",
              "  </thead>\n",
              "  <tbody>\n",
              "    <tr>\n",
              "      <th>200</th>\n",
              "      <td>6958</td>\n",
              "      <td>447</td>\n",
              "      <td>1</td>\n",
              "      <td>Daisy And Prudence</td>\n",
              "      <td>Distillation</td>\n",
              "      <td>Erin McKeown</td>\n",
              "      <td>2000</td>\n",
              "    </tr>\n",
              "    <tr>\n",
              "      <th>202</th>\n",
              "      <td>6958</td>\n",
              "      <td>512</td>\n",
              "      <td>1</td>\n",
              "      <td>The Ballad of Michael Valentine</td>\n",
              "      <td>Sawdust</td>\n",
              "      <td>The Killers</td>\n",
              "      <td>2004</td>\n",
              "    </tr>\n",
              "    <tr>\n",
              "      <th>203</th>\n",
              "      <td>6958</td>\n",
              "      <td>549</td>\n",
              "      <td>1</td>\n",
              "      <td>I Stand Corrected (Album)</td>\n",
              "      <td>Vampire Weekend</td>\n",
              "      <td>Vampire Weekend</td>\n",
              "      <td>2007</td>\n",
              "    </tr>\n",
              "    <tr>\n",
              "      <th>204</th>\n",
              "      <td>6958</td>\n",
              "      <td>703</td>\n",
              "      <td>1</td>\n",
              "      <td>They Might Follow You</td>\n",
              "      <td>Tiny Vipers</td>\n",
              "      <td>Tiny Vipers</td>\n",
              "      <td>2007</td>\n",
              "    </tr>\n",
              "    <tr>\n",
              "      <th>205</th>\n",
              "      <td>6958</td>\n",
              "      <td>719</td>\n",
              "      <td>1</td>\n",
              "      <td>Monkey Man</td>\n",
              "      <td>You Know I'm No Good</td>\n",
              "      <td>Amy Winehouse</td>\n",
              "      <td>2007</td>\n",
              "    </tr>\n",
              "    <tr>\n",
              "      <th>206</th>\n",
              "      <td>6958</td>\n",
              "      <td>892</td>\n",
              "      <td>1</td>\n",
              "      <td>Bleeding Hearts</td>\n",
              "      <td>Hell Train</td>\n",
              "      <td>Soltero</td>\n",
              "      <td>0</td>\n",
              "    </tr>\n",
              "    <tr>\n",
              "      <th>209</th>\n",
              "      <td>6958</td>\n",
              "      <td>1050</td>\n",
              "      <td>5</td>\n",
              "      <td>Wet Blanket</td>\n",
              "      <td>Old World Underground_ Where Are You Now?</td>\n",
              "      <td>Metric</td>\n",
              "      <td>2003</td>\n",
              "    </tr>\n",
              "    <tr>\n",
              "      <th>213</th>\n",
              "      <td>6958</td>\n",
              "      <td>1480</td>\n",
              "      <td>1</td>\n",
              "      <td>Fast As I Can</td>\n",
              "      <td>Monday Morning Cold</td>\n",
              "      <td>Erin McKeown</td>\n",
              "      <td>2000</td>\n",
              "    </tr>\n",
              "    <tr>\n",
              "      <th>215</th>\n",
              "      <td>6958</td>\n",
              "      <td>1671</td>\n",
              "      <td>2</td>\n",
              "      <td>Sleeping In (Album)</td>\n",
              "      <td>Give Up</td>\n",
              "      <td>Postal Service</td>\n",
              "      <td>2003</td>\n",
              "    </tr>\n",
              "    <tr>\n",
              "      <th>216</th>\n",
              "      <td>6958</td>\n",
              "      <td>1752</td>\n",
              "      <td>1</td>\n",
              "      <td>Gimme Sympathy</td>\n",
              "      <td>Gimme Sympathy</td>\n",
              "      <td>Metric</td>\n",
              "      <td>2009</td>\n",
              "    </tr>\n",
              "  </tbody>\n",
              "</table>\n",
              "</div>\n",
              "      <button class=\"colab-df-convert\" onclick=\"convertToInteractive('df-428e5eca-b10c-4301-9e8f-7a06bec44a2b')\"\n",
              "              title=\"Convert this dataframe to an interactive table.\"\n",
              "              style=\"display:none;\">\n",
              "        \n",
              "  <svg xmlns=\"http://www.w3.org/2000/svg\" height=\"24px\"viewBox=\"0 0 24 24\"\n",
              "       width=\"24px\">\n",
              "    <path d=\"M0 0h24v24H0V0z\" fill=\"none\"/>\n",
              "    <path d=\"M18.56 5.44l.94 2.06.94-2.06 2.06-.94-2.06-.94-.94-2.06-.94 2.06-2.06.94zm-11 1L8.5 8.5l.94-2.06 2.06-.94-2.06-.94L8.5 2.5l-.94 2.06-2.06.94zm10 10l.94 2.06.94-2.06 2.06-.94-2.06-.94-.94-2.06-.94 2.06-2.06.94z\"/><path d=\"M17.41 7.96l-1.37-1.37c-.4-.4-.92-.59-1.43-.59-.52 0-1.04.2-1.43.59L10.3 9.45l-7.72 7.72c-.78.78-.78 2.05 0 2.83L4 21.41c.39.39.9.59 1.41.59.51 0 1.02-.2 1.41-.59l7.78-7.78 2.81-2.81c.8-.78.8-2.07 0-2.86zM5.41 20L4 18.59l7.72-7.72 1.47 1.35L5.41 20z\"/>\n",
              "  </svg>\n",
              "      </button>\n",
              "      \n",
              "  <style>\n",
              "    .colab-df-container {\n",
              "      display:flex;\n",
              "      flex-wrap:wrap;\n",
              "      gap: 12px;\n",
              "    }\n",
              "\n",
              "    .colab-df-convert {\n",
              "      background-color: #E8F0FE;\n",
              "      border: none;\n",
              "      border-radius: 50%;\n",
              "      cursor: pointer;\n",
              "      display: none;\n",
              "      fill: #1967D2;\n",
              "      height: 32px;\n",
              "      padding: 0 0 0 0;\n",
              "      width: 32px;\n",
              "    }\n",
              "\n",
              "    .colab-df-convert:hover {\n",
              "      background-color: #E2EBFA;\n",
              "      box-shadow: 0px 1px 2px rgba(60, 64, 67, 0.3), 0px 1px 3px 1px rgba(60, 64, 67, 0.15);\n",
              "      fill: #174EA6;\n",
              "    }\n",
              "\n",
              "    [theme=dark] .colab-df-convert {\n",
              "      background-color: #3B4455;\n",
              "      fill: #D2E3FC;\n",
              "    }\n",
              "\n",
              "    [theme=dark] .colab-df-convert:hover {\n",
              "      background-color: #434B5C;\n",
              "      box-shadow: 0px 1px 3px 1px rgba(0, 0, 0, 0.15);\n",
              "      filter: drop-shadow(0px 1px 2px rgba(0, 0, 0, 0.3));\n",
              "      fill: #FFFFFF;\n",
              "    }\n",
              "  </style>\n",
              "\n",
              "      <script>\n",
              "        const buttonEl =\n",
              "          document.querySelector('#df-428e5eca-b10c-4301-9e8f-7a06bec44a2b button.colab-df-convert');\n",
              "        buttonEl.style.display =\n",
              "          google.colab.kernel.accessAllowed ? 'block' : 'none';\n",
              "\n",
              "        async function convertToInteractive(key) {\n",
              "          const element = document.querySelector('#df-428e5eca-b10c-4301-9e8f-7a06bec44a2b');\n",
              "          const dataTable =\n",
              "            await google.colab.kernel.invokeFunction('convertToInteractive',\n",
              "                                                     [key], {});\n",
              "          if (!dataTable) return;\n",
              "\n",
              "          const docLinkHtml = 'Like what you see? Visit the ' +\n",
              "            '<a target=\"_blank\" href=https://colab.research.google.com/notebooks/data_table.ipynb>data table notebook</a>'\n",
              "            + ' to learn more about interactive tables.';\n",
              "          element.innerHTML = '';\n",
              "          dataTable['output_type'] = 'display_data';\n",
              "          await google.colab.output.renderOutput(dataTable, element);\n",
              "          const docLink = document.createElement('div');\n",
              "          docLink.innerHTML = docLinkHtml;\n",
              "          element.appendChild(docLink);\n",
              "        }\n",
              "      </script>\n",
              "    </div>\n",
              "  </div>\n",
              "  "
            ]
          },
          "metadata": {},
          "execution_count": 20
        }
      ]
    },
    {
      "cell_type": "markdown",
      "metadata": {
        "id": "nnoXCc9zIV45"
      },
      "source": [
        "Most interacted users"
      ]
    },
    {
      "cell_type": "code",
      "execution_count": null,
      "metadata": {
        "id": "971EiBdf2T9X",
        "colab": {
          "base_uri": "https://localhost:8080/"
        },
        "outputId": "9f32e702-7142-4cab-bb05-577a682f3a1f"
      },
      "outputs": [
        {
          "output_type": "execute_result",
          "data": {
            "text/plain": [
              "61472    243\n",
              "15733    227\n",
              "37049    202\n",
              "9570     184\n",
              "23337    177\n",
              "        ... \n",
              "19776      1\n",
              "45476      1\n",
              "17961      1\n",
              "14439      1\n",
              "10412      1\n",
              "Name: user_id, Length: 3155, dtype: int64"
            ]
          },
          "metadata": {},
          "execution_count": 21
        }
      ],
      "source": [
        "df_final['user_id'].value_counts()"
      ]
    },
    {
      "cell_type": "markdown",
      "metadata": {
        "id": "tPZRc1e-eyyO"
      },
      "source": [
        "#### **Observations and Insights:_______**\n"
      ]
    },
    {
      "cell_type": "markdown",
      "metadata": {
        "id": "joFF5zndX1Dk"
      },
      "source": [
        "Songs played in a year"
      ]
    },
    {
      "cell_type": "code",
      "execution_count": null,
      "metadata": {
        "id": "bQp2iVMC2T9Y",
        "colab": {
          "base_uri": "https://localhost:8080/"
        },
        "outputId": "dd17f566-95e7-4a06-9850-c0cee1dd0c2b"
      },
      "outputs": [
        {
          "output_type": "execute_result",
          "data": {
            "text/plain": [
              "year\n",
              "0       20649\n",
              "1969      238\n",
              "1970      109\n",
              "1971      133\n",
              "1973      270\n",
              "1974      583\n",
              "1975      173\n",
              "1976      478\n",
              "1978      119\n",
              "1979      220\n",
              "1980      234\n",
              "1981      144\n",
              "1982      126\n",
              "1983      110\n",
              "1986     1105\n",
              "1987      336\n",
              "1988      569\n",
              "1990      373\n",
              "1991     1338\n",
              "1992      849\n",
              "1993     1214\n",
              "1994      504\n",
              "1995      206\n",
              "1996      502\n",
              "1997     1439\n",
              "1999     1652\n",
              "2000     4834\n",
              "2001     2805\n",
              "2002     5135\n",
              "2003     7928\n",
              "2004     2314\n",
              "2005     5376\n",
              "2006     7592\n",
              "2007    13750\n",
              "2008    14031\n",
              "2009    16351\n",
              "2010     4087\n",
              "Name: title, dtype: int64"
            ]
          },
          "metadata": {},
          "execution_count": 22
        }
      ],
      "source": [
        "# Find out the number of songs played in a year\n",
        "  # Hint: # Hint: Use groupby function on the 'year' column\n",
        "df_final.groupby('year').count()['title']"
      ]
    },
    {
      "cell_type": "code",
      "execution_count": null,
      "metadata": {
        "id": "bZCkOiAB2T9Y",
        "colab": {
          "base_uri": "https://localhost:8080/",
          "height": 640
        },
        "outputId": "57731818-8f5f-4f27-f5e8-43ca3f4f604c"
      },
      "outputs": [
        {
          "output_type": "display_data",
          "data": {
            "text/plain": [
              "<Figure size 700x700 with 1 Axes>"
            ],
            "image/png": "[encoded data removed]"
          },
          "metadata": {}
        }
      ],
      "source": [
        "# Create a barplot plot with y label as \"number of titles played\" and x -axis year\n",
        "\n",
        "# Set the figure size\n",
        "plt.figure(figsize = (7, 7))\n",
        "\n",
        "df_final.groupby('year').count()['title'].plot(kind = 'bar')\n",
        "\n",
        "# Set the x label of the plot\n",
        "plt.xlabel('year')\n",
        "\n",
        "# Set the y label of the plot\n",
        "plt.ylabel('number of titles played')\n",
        "\n",
        "# Show the plot\n",
        "plt.show()"
      ]
    },
    {
      "cell_type": "markdown",
      "metadata": {
        "id": "VUcXc7ZYfaGl"
      },
      "source": [
        "#### **Observations and Insights:__________** #"
      ]
    },
    {
      "cell_type": "markdown",
      "metadata": {
        "id": "RtAjyDMioHCp"
      },
      "source": [
        "**Think About It:** What other insights can be drawn using exploratory data analysis?"
      ]
    },
    {
      "cell_type": "markdown",
      "metadata": {
        "id": "OWO4C8KsK_5e"
      },
      "source": [
        "Now that we have explored the data, let's apply different algorithms to build recommendation systems.\n",
        "\n",
        "**Note:** Use the shorter version of the data, i.e., the data after the cutoffs as used in Milestone 1."
      ]
    },
    {
      "cell_type": "markdown",
      "metadata": {
        "id": "9VThYg7voGIz"
      },
      "source": [
        "## Building various models"
      ]
    },
    {
      "cell_type": "markdown",
      "metadata": {
        "id": "Ituk9wA4Idib"
      },
      "source": [
        "### **Popularity-Based Recommendation Systems**"
      ]
    },
    {
      "cell_type": "markdown",
      "metadata": {
        "id": "462hsbxaI1ED"
      },
      "source": [
        "Let's take the count and sum of play counts of the songs and build the popularity recommendation systems based on the sum of play counts."
      ]
    },
    {
      "cell_type": "code",
      "execution_count": null,
      "metadata": {
        "id": "UXhBZlDE-jEu"
      },
      "outputs": [],
      "source": [
        "# Calculating average play_count\n",
        "       # Hint: Use groupby function on the song_id column\n",
        "average_count = df_final.groupby('song_id').mean()['play_count']\n",
        "\n",
        "# Calculating the frequency a song is played\n",
        "      # Hint: Use groupby function on the song_id column\n",
        "play_freq = df_final.groupby('song_id').count()['play_count']"
      ]
    },
    {
      "cell_type": "code",
      "execution_count": null,
      "metadata": {
        "id": "v2XYdXvWdyys",
        "colab": {
          "base_uri": "https://localhost:8080/",
          "height": 238
        },
        "outputId": "79e61d2f-e08d-47a0-8474-64e6d3de02ef"
      },
      "outputs": [
        {
          "output_type": "execute_result",
          "data": {
            "text/plain": [
              "         average_count  play_freq\n",
              "song_id                          \n",
              "7224          3.373832        107\n",
              "8324          2.625000         96\n",
              "6450          2.578431        102\n",
              "9942          2.486667        150\n",
              "5531          2.309061        618"
            ],
            "text/html": [
              "\n",
              "  <div id=\"df-25dde69e-616f-44b7-8a0c-67974afe6613\">\n",
              "    <div class=\"colab-df-container\">\n",
              "      <div>\n",
              "<style scoped>\n",
              "    .dataframe tbody tr th:only-of-type {\n",
              "        vertical-align: middle;\n",
              "    }\n",
              "\n",
              "    .dataframe tbody tr th {\n",
              "        vertical-align: top;\n",
              "    }\n",
              "\n",
              "    .dataframe thead th {\n",
              "        text-align: right;\n",
              "    }\n",
              "</style>\n",
              "<table border=\"1\" class=\"dataframe\">\n",
              "  <thead>\n",
              "    <tr style=\"text-align: right;\">\n",
              "      <th></th>\n",
              "      <th>average_count</th>\n",
              "      <th>play_freq</th>\n",
              "    </tr>\n",
              "    <tr>\n",
              "      <th>song_id</th>\n",
              "      <th></th>\n",
              "      <th></th>\n",
              "    </tr>\n",
              "  </thead>\n",
              "  <tbody>\n",
              "    <tr>\n",
              "      <th>7224</th>\n",
              "      <td>3.373832</td>\n",
              "      <td>107</td>\n",
              "    </tr>\n",
              "    <tr>\n",
              "      <th>8324</th>\n",
              "      <td>2.625000</td>\n",
              "      <td>96</td>\n",
              "    </tr>\n",
              "    <tr>\n",
              "      <th>6450</th>\n",
              "      <td>2.578431</td>\n",
              "      <td>102</td>\n",
              "    </tr>\n",
              "    <tr>\n",
              "      <th>9942</th>\n",
              "      <td>2.486667</td>\n",
              "      <td>150</td>\n",
              "    </tr>\n",
              "    <tr>\n",
              "      <th>5531</th>\n",
              "      <td>2.309061</td>\n",
              "      <td>618</td>\n",
              "    </tr>\n",
              "  </tbody>\n",
              "</table>\n",
              "</div>\n",
              "      <button class=\"colab-df-convert\" onclick=\"convertToInteractive('df-25dde69e-616f-44b7-8a0c-67974afe6613')\"\n",
              "              title=\"Convert this dataframe to an interactive table.\"\n",
              "              style=\"display:none;\">\n",
              "        \n",
              "  <svg xmlns=\"http://www.w3.org/2000/svg\" height=\"24px\"viewBox=\"0 0 24 24\"\n",
              "       width=\"24px\">\n",
              "    <path d=\"M0 0h24v24H0V0z\" fill=\"none\"/>\n",
              "    <path d=\"M18.56 5.44l.94 2.06.94-2.06 2.06-.94-2.06-.94-.94-2.06-.94 2.06-2.06.94zm-11 1L8.5 8.5l.94-2.06 2.06-.94-2.06-.94L8.5 2.5l-.94 2.06-2.06.94zm10 10l.94 2.06.94-2.06 2.06-.94-2.06-.94-.94-2.06-.94 2.06-2.06.94z\"/><path d=\"M17.41 7.96l-1.37-1.37c-.4-.4-.92-.59-1.43-.59-.52 0-1.04.2-1.43.59L10.3 9.45l-7.72 7.72c-.78.78-.78 2.05 0 2.83L4 21.41c.39.39.9.59 1.41.59.51 0 1.02-.2 1.41-.59l7.78-7.78 2.81-2.81c.8-.78.8-2.07 0-2.86zM5.41 20L4 18.59l7.72-7.72 1.47 1.35L5.41 20z\"/>\n",
              "  </svg>\n",
              "      </button>\n",
              "      \n",
              "  <style>\n",
              "    .colab-df-container {\n",
              "      display:flex;\n",
              "      flex-wrap:wrap;\n",
              "      gap: 12px;\n",
              "    }\n",
              "\n",
              "    .colab-df-convert {\n",
              "      background-color: #E8F0FE;\n",
              "      border: none;\n",
              "      border-radius: 50%;\n",
              "      cursor: pointer;\n",
              "      display: none;\n",
              "      fill: #1967D2;\n",
              "      height: 32px;\n",
              "      padding: 0 0 0 0;\n",
              "      width: 32px;\n",
              "    }\n",
              "\n",
              "    .colab-df-convert:hover {\n",
              "      background-color: #E2EBFA;\n",
              "      box-shadow: 0px 1px 2px rgba(60, 64, 67, 0.3), 0px 1px 3px 1px rgba(60, 64, 67, 0.15);\n",
              "      fill: #174EA6;\n",
              "    }\n",
              "\n",
              "    [theme=dark] .colab-df-convert {\n",
              "      background-color: #3B4455;\n",
              "      fill: #D2E3FC;\n",
              "    }\n",
              "\n",
              "    [theme=dark] .colab-df-convert:hover {\n",
              "      background-color: #434B5C;\n",
              "      box-shadow: 0px 1px 3px 1px rgba(0, 0, 0, 0.15);\n",
              "      filter: drop-shadow(0px 1px 2px rgba(0, 0, 0, 0.3));\n",
              "      fill: #FFFFFF;\n",
              "    }\n",
              "  </style>\n",
              "\n",
              "      <script>\n",
              "        const buttonEl =\n",
              "          document.querySelector('#df-25dde69e-616f-44b7-8a0c-67974afe6613 button.colab-df-convert');\n",
              "        buttonEl.style.display =\n",
              "          google.colab.kernel.accessAllowed ? 'block' : 'none';\n",
              "\n",
              "        async function convertToInteractive(key) {\n",
              "          const element = document.querySelector('#df-25dde69e-616f-44b7-8a0c-67974afe6613');\n",
              "          const dataTable =\n",
              "            await google.colab.kernel.invokeFunction('convertToInteractive',\n",
              "                                                     [key], {});\n",
              "          if (!dataTable) return;\n",
              "\n",
              "          const docLinkHtml = 'Like what you see? Visit the ' +\n",
              "            '<a target=\"_blank\" href=https://colab.research.google.com/notebooks/data_table.ipynb>data table notebook</a>'\n",
              "            + ' to learn more about interactive tables.';\n",
              "          element.innerHTML = '';\n",
              "          dataTable['output_type'] = 'display_data';\n",
              "          await google.colab.output.renderOutput(dataTable, element);\n",
              "          const docLink = document.createElement('div');\n",
              "          docLink.innerHTML = docLinkHtml;\n",
              "          element.appendChild(docLink);\n",
              "        }\n",
              "      </script>\n",
              "    </div>\n",
              "  </div>\n",
              "  "
            ]
          },
          "metadata": {},
          "execution_count": 25
        }
      ],
      "source": [
        "# Making a dataframe with the average_count and play_freq\n",
        "final_play = pd.DataFrame({'average_count': average_count, 'play_freq': play_freq})\n",
        "\n",
        "# Let us see the first five records of the final_play dataset\n",
        "final_play.sort_values(by = 'average_count', ascending = False).head()"
      ]
    },
    {
      "cell_type": "markdown",
      "metadata": {
        "id": "WnCT-A7RK_5g"
      },
      "source": [
        "Now, let's create a function to find the top n songs for a recommendation based on the average play count of song. We can also add a threshold for a minimum number of playcounts for a song to be considered for recommendation."
      ]
    },
    {
      "cell_type": "code",
      "execution_count": null,
      "metadata": {
        "id": "QiT9FV3GNCrb"
      },
      "outputs": [],
      "source": [
        "# Build the function to find top n songs\n",
        "def top_n_songs(data, n, min_play_count = 100):\n",
        "\n",
        "    # Finding songs with play frequency greater than the minimum number of play frequency\n",
        "    recommendations = data[data['play_freq'] > min_play_count]\n",
        "\n",
        "    # Sorting values with respect to the average play count.\n",
        "    recommendations = recommendations.sort_values(by = 'average_count', ascending = False)\n",
        "\n",
        "    return recommendations.index[:n]"
      ]
    },
    {
      "cell_type": "code",
      "execution_count": null,
      "metadata": {
        "id": "GpZt_BeXgz4F",
        "colab": {
          "base_uri": "https://localhost:8080/"
        },
        "outputId": "22118cc2-d301-4b83-8d49-3a4ffe491cf4"
      },
      "outputs": [
        {
          "output_type": "execute_result",
          "data": {
            "text/plain": [
              "Int64Index([7224, 6450, 9942, 5531, 5653, 8483, 2220, 657, 614, 352], dtype='int64', name='song_id')"
            ]
          },
          "metadata": {},
          "execution_count": 27
        }
      ],
      "source": [
        "# Recommend top 10 songs using the function defined above\n",
        "top_n_songs(final_play, 10)"
      ]
    },
    {
      "cell_type": "markdown",
      "metadata": {
        "id": "gf13HrPPJeWT"
      },
      "source": [
        "### **User User Similarity-Based Collaborative Filtering**"
      ]
    },
    {
      "cell_type": "markdown",
      "metadata": {
        "id": "ROcEpduohdua"
      },
      "source": [
        "To build the user-user-similarity-based and subsequent models we will use the \"surprise\" library."
      ]
    },
    {
      "cell_type": "code",
      "execution_count": null,
      "metadata": {
        "id": "aKLrKn8IfGjk",
        "colab": {
          "base_uri": "https://localhost:8080/"
        },
        "outputId": "005bda85-eae9-449f-db8d-509f5bc1cbd0"
      },
      "outputs": [
        {
          "output_type": "stream",
          "name": "stdout",
          "text": [
            "Looking in indexes: https://pypi.org/simple, https://us-python.pkg.dev/colab-wheels/public/simple/\n",
            "Collecting surprise\n",
            "  Downloading surprise-0.1-py2.py3-none-any.whl (1.8 kB)\n",
            "Collecting scikit-surprise (from surprise)\n",
            "  Downloading scikit-surprise-1.1.3.tar.gz (771 kB)\n",
            "\u001b[2K     \u001b[90m━━━━━━━━━━━━━━━━━━━━━━━━━━━━━━━━━━━━━━\u001b[0m \u001b[32m772.0/772.0 kB\u001b[0m \u001b[31m32.5 MB/s\u001b[0m eta \u001b[36m0:00:00\u001b[0m\n",
            "\u001b[?25h  Preparing metadata (setup.py) ... \u001b[?25l\u001b[?25hdone\n",
            "Requirement already satisfied: joblib>=1.0.0 in /usr/local/lib/python3.10/dist-packages (from scikit-surprise->surprise) (1.2.0)\n",
            "Requirement already satisfied: numpy>=1.17.3 in /usr/local/lib/python3.10/dist-packages (from scikit-surprise->surprise) (1.22.4)\n",
            "Requirement already satisfied: scipy>=1.3.2 in /usr/local/lib/python3.10/dist-packages (from scikit-surprise->surprise) (1.10.1)\n",
            "Building wheels for collected packages: scikit-surprise\n",
            "  Building wheel for scikit-surprise (setup.py) ... \u001b[?25l\u001b[?25hdone\n",
            "  Created wheel for scikit-surprise: filename=scikit_surprise-1.1.3-cp310-cp310-linux_x86_64.whl size=3095473 sha256=dfd0b74763fee2a1d825deca29a778ace2e434068874e4c5ec4e6e7d0149c134\n",
            "  Stored in directory: /root/.cache/pip/wheels/a5/ca/a8/4e28def53797fdc4363ca4af740db15a9c2f1595ebc51fb445\n",
            "Successfully built scikit-surprise\n",
            "Installing collected packages: scikit-surprise, surprise\n",
            "Successfully installed scikit-surprise-1.1.3 surprise-0.1\n"
          ]
        }
      ],
      "source": [
        "# Install the surprise package using pip. Uncomment and run the below code to do the same\n",
        "\n",
        "# !pip install surprise\n",
        "!pip install surprise"
      ]
    },
    {
      "cell_type": "code",
      "execution_count": null,
      "metadata": {
        "id": "UJ1wEylUpexj"
      },
      "outputs": [],
      "source": [
        "# Import necessary libraries\n",
        "\n",
        "# To compute the accuracy of models\n",
        "from surprise import accuracy\n",
        "\n",
        "# This class is used to parse a file containing play_counts, data should be in structure - user; item; play_count\n",
        "from surprise.reader import Reader\n",
        "\n",
        "# Class for loading datasets\n",
        "from surprise.dataset import Dataset\n",
        "\n",
        "# For tuning model hyperparameters\n",
        "from surprise.model_selection import GridSearchCV\n",
        "\n",
        "# For splitting the data in train and test dataset\n",
        "from surprise.model_selection import train_test_split\n",
        "\n",
        "# For implementing similarity-based recommendation system\n",
        "from surprise.prediction_algorithms.knns import KNNBasic\n",
        "\n",
        "# For implementing matrix factorization based recommendation system\n",
        "from surprise.prediction_algorithms.matrix_factorization import SVD\n",
        "\n",
        "# For implementing KFold cross-validation\n",
        "from surprise.model_selection import KFold\n",
        "\n",
        "# For implementing clustering-based recommendation system\n",
        "from surprise import CoClustering"
      ]
    },
    {
      "cell_type": "markdown",
      "metadata": {
        "id": "jBW4BUhWTsnm"
      },
      "source": [
        "### Some useful functions"
      ]
    },
    {
      "cell_type": "markdown",
      "metadata": {
        "id": "ZhFa_4aHHchr"
      },
      "source": [
        "Below is the function to calculate precision@k and recall@k, RMSE, and F1_Score@k to evaluate the model performance."
      ]
    },
    {
      "cell_type": "markdown",
      "metadata": {
        "id": "ZOvOgjGWrMVV"
      },
      "source": [
        "**Think About It:** Which metric should be used for this problem to compare different models?"
      ]
    },
    {
      "cell_type": "code",
      "execution_count": null,
      "metadata": {
        "id": "Rxn-GahOTsnm"
      },
      "outputs": [],
      "source": [
        "# The function to calulate the RMSE, precision@k, recall@k, and F_1 score\n",
        "def precision_recall_at_k(model, k = 30, threshold = 1.5):\n",
        "    \"\"\"Return precision and recall at k metrics for each user\"\"\"\n",
        "\n",
        "    # First map the predictions to each user.\n",
        "    user_est_true = defaultdict(list)\n",
        "\n",
        "    # Making predictions on the test data\n",
        "    predictions=model.test(testset)\n",
        "\n",
        "    for uid, _, true_r, est, _ in predictions:\n",
        "        user_est_true[uid].append((est, true_r))\n",
        "\n",
        "    precisions = dict()\n",
        "    recalls = dict()\n",
        "    for uid, user_ratings in user_est_true.items():\n",
        "\n",
        "        # Sort user ratings by estimated value\n",
        "        user_ratings.sort(key = lambda x : x[0], reverse = True)\n",
        "\n",
        "        # Number of relevant items\n",
        "        n_rel = sum((true_r >= threshold) for (_, true_r) in user_ratings)\n",
        "\n",
        "        # Number of recommended items in top k\n",
        "        n_rec_k = sum((est >= threshold) for (est, _) in user_ratings[ : k])\n",
        "\n",
        "        # Number of relevant and recommended items in top k\n",
        "        n_rel_and_rec_k = sum(((true_r >= threshold) and (est >= threshold))\n",
        "                              for (est, true_r) in user_ratings[ : k])\n",
        "\n",
        "        # Precision@K: Proportion of recommended items that are relevant\n",
        "        # When n_rec_k is 0, Precision is undefined. We here set Precision to 0 when n_rec_k is 0\n",
        "\n",
        "        precisions[uid] = n_rel_and_rec_k / n_rec_k if n_rec_k != 0 else 0\n",
        "\n",
        "        # Recall@K: Proportion of relevant items that are recommended\n",
        "        # When n_rel is 0, Recall is undefined. We here set Recall to 0 when n_rel is 0\n",
        "\n",
        "        recalls[uid] = n_rel_and_rec_k / n_rel if n_rel != 0 else 0\n",
        "\n",
        "    # Mean of all the predicted precisions are calculated\n",
        "    precision = round((sum(prec for prec in precisions.values()) / len(precisions)), 3)\n",
        "\n",
        "    # Mean of all the predicted recalls are calculated\n",
        "    recall = round((sum(rec for rec in recalls.values()) / len(recalls)), 3)\n",
        "\n",
        "    accuracy.rmse(predictions)\n",
        "\n",
        "    # Command to print the overall precision\n",
        "    print('Precision: ', precision)\n",
        "\n",
        "    # Command to print the overall recall\n",
        "    print('Recall: ', recall)\n",
        "\n",
        "    # Formula to compute the F-1 score\n",
        "    print('F_1 score: ', round((2 * precision * recall) / (precision + recall), 3))"
      ]
    },
    {
      "cell_type": "markdown",
      "metadata": {
        "id": "PcmLRxH4IjfG"
      },
      "source": [
        "**Think About It:** In the function precision_recall_at_k above the threshold value used is 1.5. How precision and recall are affected by changing the threshold? What is the intuition behind using the threshold value of 1.5?"
      ]
    },
    {
      "cell_type": "code",
      "execution_count": null,
      "metadata": {
        "id": "rGfYDiOCpe4X"
      },
      "outputs": [],
      "source": [
        "# Instantiating Reader scale with expected rating scale\n",
        " #use rating scale (0, 5)\n",
        "reader = Reader(rating_scale = (0, 5))\n",
        "\n",
        "# Loading the dataset\n",
        " # Take only \"user_id\",\"song_id\", and \"play_count\"\n",
        "data = Dataset.load_from_df(df_final[['user_id', 'song_id', 'play_count']], reader)\n",
        "\n",
        "# Splitting the data into train and test dataset\n",
        " # Take test_size = 0.4, random_state = 42\n",
        "trainset, testset = train_test_split(data, test_size = 0.4, random_state = 42)"
      ]
    },
    {
      "cell_type": "markdown",
      "metadata": {
        "id": "CuTmLjUP1aED"
      },
      "source": [
        "**Think About It:** How changing the test size would change the results and outputs?"
      ]
    },
    {
      "cell_type": "code",
      "execution_count": null,
      "metadata": {
        "id": "vO3FL7iape8A",
        "scrolled": false,
        "colab": {
          "base_uri": "https://localhost:8080/"
        },
        "outputId": "3fe04c21-bf80-400d-90eb-1dd91d22103d"
      },
      "outputs": [
        {
          "output_type": "stream",
          "name": "stdout",
          "text": [
            "RMSE: 1.0593\n",
            "Precision:  0.406\n",
            "Recall:  0.736\n",
            "F_1 score:  0.523\n"
          ]
        }
      ],
      "source": [
        "# Build the default user-user-similarity model\n",
        "# Declaring the similarity options\n",
        "sim_options = {'name': 'cosine',\n",
        "               'user_based': True}\n",
        "\n",
        "# Initialize the KNNBasic model using sim_options declared, Verbose = False, and setting random_state = 1\n",
        "# k is picked around 5% of 3155 (# of users). min_k is 1/3 of k.\n",
        "sim_user_user = KNNBasic(k=160, min_k=50,minsim_options = sim_options, verbose = False, random_state = 1)\n",
        "\n",
        "# KNN algorithm is used to find desired similar items\n",
        " # Use random_state = 1\n",
        "\n",
        "# Train the algorithm on the trainset, and predict play_count for the testset\n",
        "sim_user_user.fit(trainset)\n",
        "\n",
        "# Let us compute precision@k, recall@k, and f_1 score with k = 30\n",
        " # Use sim_user_user model\n",
        "precision_recall_at_k(sim_user_user)"
      ]
    },
    {
      "cell_type": "markdown",
      "metadata": {
        "id": "mzcdlWmer6GA"
      },
      "source": [
        "**Observations and Insights:_________**\n",
        "\n",
        "We have calculated RMSE to check how far the overall predicted ratings are from the actual ratings.\n",
        "\n",
        "Intuition of Recall: We are getting a recall of ~0.736, which means out of all the relevant products 73.6% are recommended.\n",
        "\n",
        "Intuition of Precision: We are getting a precision of ~ 0.406, which means out of all the recommended products 40.60% are relevant.\n",
        "\n",
        "Here F_1 score of the baseline model is ~0.523. It indicates that around half of  recommended songs were relevant and relevant songs were recommended."
      ]
    },
    {
      "cell_type": "code",
      "execution_count": null,
      "metadata": {
        "id": "Sxd23bZ9pe_x",
        "colab": {
          "base_uri": "https://localhost:8080/"
        },
        "outputId": "9f1d43f8-efb3-4b84-c20d-80256c783d54"
      },
      "outputs": [
        {
          "output_type": "stream",
          "name": "stdout",
          "text": [
            "user: 47264      item: 3661       r_ui = 1.00   est = 1.26   {'actual_k': 72, 'was_impossible': False}\n"
          ]
        },
        {
          "output_type": "execute_result",
          "data": {
            "text/plain": [
              "Prediction(uid=47264, iid=3661, r_ui=1, est=1.2624780171891956, details={'actual_k': 72, 'was_impossible': False})"
            ]
          },
          "metadata": {},
          "execution_count": 33
        }
      ],
      "source": [
        "# Predicting play_count for a sample user with a listened song\n",
        "# Use any user id  and song_id\n",
        "# randomly select a row\n",
        "#random_test_row = df_final.sample()\n",
        "#random_test_row\n",
        "# user id = 47264, song id = 3661, play count = 1\n",
        "sim_user_user.predict(47264, 3661,  r_ui = 1, verbose = True)"
      ]
    },
    {
      "cell_type": "code",
      "execution_count": null,
      "metadata": {
        "id": "PbFcBj1PpfEV",
        "colab": {
          "base_uri": "https://localhost:8080/"
        },
        "outputId": "b6d9a6db-b3cd-41f5-a832-f905967886ee"
      },
      "outputs": [
        {
          "output_type": "stream",
          "name": "stdout",
          "text": [
            "user: 47786      item: 3661       r_ui = None   est = 1.53   {'actual_k': 67, 'was_impossible': False}\n"
          ]
        },
        {
          "output_type": "execute_result",
          "data": {
            "text/plain": [
              "Prediction(uid=47786, iid=3661, r_ui=None, est=1.5252363230779276, details={'actual_k': 67, 'was_impossible': False})"
            ]
          },
          "metadata": {},
          "execution_count": 34
        }
      ],
      "source": [
        "# Predicting play_count for a sample user with a song not-listened by the user\n",
        " #predict play_count for any sample user\n",
        "#df_final[df_final.song_id != 3661].user_id.unique()\n",
        "\n",
        "sim_user_user.predict(47786, 3661, verbose = True)"
      ]
    },
    {
      "cell_type": "markdown",
      "metadata": {
        "id": "P9EVM7DysC47"
      },
      "source": [
        "**Observations and Insights:_________**\n",
        "For user with id 47264, estimated play count was 1.26 and actual was 1. It wa etimated with precision 79.3 %, which is really good. Prediction was far better than overall performance of this base model.\n",
        "\n",
        "\n",
        "For usr id 47786, prediction was 1.53. This user had 67 similar neighbours who listened to the song, which was above the set min_k of 58."
      ]
    },
    {
      "cell_type": "markdown",
      "metadata": {
        "id": "Lt1QBiylsIOm"
      },
      "source": [
        "Now, let's try to tune the model and see if we can improve the model performance."
      ]
    },
    {
      "cell_type": "code",
      "execution_count": null,
      "metadata": {
        "id": "T3diJPL7-tVw",
        "colab": {
          "base_uri": "https://localhost:8080/"
        },
        "outputId": "5a645db5-251b-4e0e-87d9-a7c84efe1647"
      },
      "outputs": [
        {
          "output_type": "stream",
          "name": "stdout",
          "text": [
            "1.0553598714117978\n",
            "{'k': 150, 'min_k': 50, 'sim_options': {'name': 'msd', 'user_based': True}}\n"
          ]
        }
      ],
      "source": [
        "# Setting up parameter grid to tune the hyperparameters\n",
        "# k is calculated as 5%, 10% and 15% of users (3155)\n",
        "# min_k is calculaated as 1/3 of k.\n",
        "param_grid = {'k': [150, 300, 450], 'min_k': [50, 100, 150],\n",
        "              'sim_options': {'name': ['msd', 'cosine', 'Pearson'],\n",
        "                              'user_based': [True]}\n",
        "              }\n",
        "\n",
        "# Performing 3-fold cross-validation to tune the hyperparameters\n",
        "gs = GridSearchCV(KNNBasic, param_grid, measures = ['rmse'], cv = 3, n_jobs = -1)\n",
        "\n",
        "# Fitting the data\n",
        " # Use entire data for GridSearch\n",
        "gs.fit(data)\n",
        "\n",
        "# Best RMSE score\n",
        "print(gs.best_score['rmse'])\n",
        "\n",
        "# Combination of parameters that gave the best RMSE score\n",
        "print(gs.best_params['rmse'])"
      ]
    },
    {
      "cell_type": "code",
      "execution_count": null,
      "metadata": {
        "id": "PujRJA8X_JEJ",
        "colab": {
          "base_uri": "https://localhost:8080/"
        },
        "outputId": "87653e17-25ad-472d-a39d-9bcc569747af"
      },
      "outputs": [
        {
          "output_type": "stream",
          "name": "stdout",
          "text": [
            "RMSE: 1.0591\n",
            "Precision:  0.406\n",
            "Recall:  0.734\n",
            "F_1 score:  0.523\n"
          ]
        }
      ],
      "source": [
        "# Train the best model found in above gridsearch\n",
        "sim_options = {'name': 'msd',\n",
        "               'user_based': True}\n",
        "\n",
        "# Creating an instance of KNNBasic with optimal hyperparameter values\n",
        "sim_user_user_optimized = KNNBasic(sim_options = sim_options, k = 150, min_k = 50, random_state = 1, verbose = False)\n",
        "\n",
        "# Training the algorithm on the trainset\n",
        "sim_user_user_optimized.fit(trainset)\n",
        "\n",
        "# Let us compute precision@k and recall@k also with k =10\n",
        "precision_recall_at_k(sim_user_user_optimized)"
      ]
    },
    {
      "cell_type": "markdown",
      "metadata": {
        "id": "MH5OBZ7Nse6m"
      },
      "source": [
        "**Observations and Insights:_________**\n",
        "Optimized parameters similar to the parameters used in base model, thus performance is also similar."
      ]
    },
    {
      "cell_type": "code",
      "execution_count": null,
      "metadata": {
        "id": "FgV63lHiq1TV",
        "colab": {
          "base_uri": "https://localhost:8080/"
        },
        "outputId": "0eeb23f5-1fd8-488b-9637-996232e5bb67"
      },
      "outputs": [
        {
          "output_type": "stream",
          "name": "stdout",
          "text": [
            "user: 6958       item: 1671       r_ui = 2.00   est = 1.50   {'actual_k': 99, 'was_impossible': False}\n"
          ]
        },
        {
          "output_type": "execute_result",
          "data": {
            "text/plain": [
              "Prediction(uid=6958, iid=1671, r_ui=2, est=1.4959965332702112, details={'actual_k': 99, 'was_impossible': False})"
            ]
          },
          "metadata": {},
          "execution_count": 37
        }
      ],
      "source": [
        "# Predict the play count for a user who has listened to the song. Take user_id 6958, song_id 1671 and r_ui = 2\n",
        "sim_user_user.predict(6958, 1671,  r_ui = 2, verbose = True)"
      ]
    },
    {
      "cell_type": "code",
      "execution_count": null,
      "metadata": {
        "id": "HXO2Ztjhq1bN",
        "colab": {
          "base_uri": "https://localhost:8080/"
        },
        "outputId": "6d99542e-e2f6-481d-b02d-2caa22530c7e"
      },
      "outputs": [
        {
          "output_type": "stream",
          "name": "stdout",
          "text": [
            "user: 6958       item: 5291       r_ui = None   est = 1.68   {'actual_k': 115, 'was_impossible': False}\n"
          ]
        },
        {
          "output_type": "execute_result",
          "data": {
            "text/plain": [
              "Prediction(uid=6958, iid=5291, r_ui=None, est=1.6799185171560138, details={'actual_k': 115, 'was_impossible': False})"
            ]
          },
          "metadata": {},
          "execution_count": 38
        }
      ],
      "source": [
        "# Predict the play count for a song that is not listened to by the user (with user_id 6958)\n",
        "# sonf_id =5291\n",
        "# 5291 in list(df_final[df_final.user_id == 6958].song_id.unique())\n",
        "\n",
        "sim_user_user.predict(6958, 5291, verbose = True)"
      ]
    },
    {
      "cell_type": "markdown",
      "metadata": {
        "id": "SdpJ--8QWuzz"
      },
      "source": [
        "**Observations and Insights:______________**\n",
        "For user with id 6958 and song_id 1671, estimated play count was 1.50 and actual was 2. It wa etimated with precision 75 %, which is similar to the precesion of prediction done using base model.\n",
        "\n",
        "For usr id 6958, prediction was 1.68. This user had 115 similar neighbours who listened to the song, which was above the set min_k of 50."
      ]
    },
    {
      "cell_type": "markdown",
      "metadata": {
        "id": "SQ9M4pplNbWS"
      },
      "source": [
        "**Think About It:** Along with making predictions on listened and unknown songs can we get 5 nearest neighbors (most similar) to a certain song?"
      ]
    },
    {
      "cell_type": "code",
      "execution_count": null,
      "metadata": {
        "id": "TbFle7cKmBJG",
        "colab": {
          "base_uri": "https://localhost:8080/"
        },
        "outputId": "51c26e8e-fc52-448c-b6d4-a398e514470b"
      },
      "outputs": [
        {
          "output_type": "execute_result",
          "data": {
            "text/plain": [
              "[31, 82, 90, 116, 125]"
            ]
          },
          "metadata": {},
          "execution_count": 39
        }
      ],
      "source": [
        "# Use inner id 0\n",
        "sim_user_user_optimized.get_neighbors(0, k = 5)"
      ]
    },
    {
      "cell_type": "markdown",
      "metadata": {
        "id": "U3ESobDynVNI"
      },
      "source": [
        "Below we will be implementing a function where the input parameters are:\n",
        "\n",
        "- data: A **song** dataset\n",
        "- user_id: A user-id **against which we want the recommendations**\n",
        "- top_n: The **number of songs we want to recommend**\n",
        "- algo: The algorithm we want to use **for predicting the play_count**\n",
        "- The output of the function is a **set of top_n items** recommended for the given user_id based on the given algorithm"
      ]
    },
    {
      "cell_type": "code",
      "execution_count": null,
      "metadata": {
        "id": "vW9V1Tk65HlY"
      },
      "outputs": [],
      "source": [
        "def get_recommendations(data, user_id, top_n, algo):\n",
        "\n",
        "    # Creating an empty list to store the recommended product ids\n",
        "    recommendations = []\n",
        "\n",
        "    # Creating an user item interactions matrix\n",
        "    user_item_interactions_matrix = data.pivot(index = 'user_id', columns = 'song_id', values = 'play_count')\n",
        "\n",
        "    # Extracting those song ids which the user_id has not played yet\n",
        "    non_interacted_songs = user_item_interactions_matrix.loc[user_id][user_item_interactions_matrix.loc[user_id].isnull()].index.tolist()\n",
        "\n",
        "    # Looping through each of the song ids which user_id has not played yet\n",
        "    for song_id in non_interacted_songs:\n",
        "\n",
        "        # Predicting the play count for those non played songs ids by this user\n",
        "        est = algo.predict(user_id, song_id).est\n",
        "\n",
        "        # Appending the predicted play count\n",
        "        recommendations.append((song_id, est))\n",
        "\n",
        "    # Sorting the predicted play count in descending order\n",
        "    recommendations.sort(key = lambda x: x[1], reverse = True)\n",
        "\n",
        "    # Returing top n highest predicted play count songs for this user\n",
        "    return recommendations[:top_n]"
      ]
    },
    {
      "cell_type": "code",
      "execution_count": null,
      "metadata": {
        "id": "qWbR85mI5Hrk"
      },
      "outputs": [],
      "source": [
        "# Make top 5 recommendations for any user_id with a similarity-based recommendation engine\n",
        "recommendations = get_recommendations(df_final, 6958, 5, sim_user_user_optimized)"
      ]
    },
    {
      "cell_type": "code",
      "execution_count": null,
      "metadata": {
        "id": "b5WfIX0Z6_q2",
        "colab": {
          "base_uri": "https://localhost:8080/",
          "height": 206
        },
        "outputId": "f90b4828-3d19-4509-e59d-003e0f5fa46f"
      },
      "outputs": [
        {
          "output_type": "execute_result",
          "data": {
            "text/plain": [
              "   song_id  predictd_play_count\n",
              "0     5531             2.300261\n",
              "1     2220             2.181832\n",
              "2     8092             2.166436\n",
              "3     6860             2.162126\n",
              "4     7496             2.130315"
            ],
            "text/html": [
              "\n",
              "  <div id=\"df-f3515eca-9a98-4391-93d2-5564f956ec81\">\n",
              "    <div class=\"colab-df-container\">\n",
              "      <div>\n",
              "<style scoped>\n",
              "    .dataframe tbody tr th:only-of-type {\n",
              "        vertical-align: middle;\n",
              "    }\n",
              "\n",
              "    .dataframe tbody tr th {\n",
              "        vertical-align: top;\n",
              "    }\n",
              "\n",
              "    .dataframe thead th {\n",
              "        text-align: right;\n",
              "    }\n",
              "</style>\n",
              "<table border=\"1\" class=\"dataframe\">\n",
              "  <thead>\n",
              "    <tr style=\"text-align: right;\">\n",
              "      <th></th>\n",
              "      <th>song_id</th>\n",
              "      <th>predictd_play_count</th>\n",
              "    </tr>\n",
              "  </thead>\n",
              "  <tbody>\n",
              "    <tr>\n",
              "      <th>0</th>\n",
              "      <td>5531</td>\n",
              "      <td>2.300261</td>\n",
              "    </tr>\n",
              "    <tr>\n",
              "      <th>1</th>\n",
              "      <td>2220</td>\n",
              "      <td>2.181832</td>\n",
              "    </tr>\n",
              "    <tr>\n",
              "      <th>2</th>\n",
              "      <td>8092</td>\n",
              "      <td>2.166436</td>\n",
              "    </tr>\n",
              "    <tr>\n",
              "      <th>3</th>\n",
              "      <td>6860</td>\n",
              "      <td>2.162126</td>\n",
              "    </tr>\n",
              "    <tr>\n",
              "      <th>4</th>\n",
              "      <td>7496</td>\n",
              "      <td>2.130315</td>\n",
              "    </tr>\n",
              "  </tbody>\n",
              "</table>\n",
              "</div>\n",
              "      <button class=\"colab-df-convert\" onclick=\"convertToInteractive('df-f3515eca-9a98-4391-93d2-5564f956ec81')\"\n",
              "              title=\"Convert this dataframe to an interactive table.\"\n",
              "              style=\"display:none;\">\n",
              "        \n",
              "  <svg xmlns=\"http://www.w3.org/2000/svg\" height=\"24px\"viewBox=\"0 0 24 24\"\n",
              "       width=\"24px\">\n",
              "    <path d=\"M0 0h24v24H0V0z\" fill=\"none\"/>\n",
              "    <path d=\"M18.56 5.44l.94 2.06.94-2.06 2.06-.94-2.06-.94-.94-2.06-.94 2.06-2.06.94zm-11 1L8.5 8.5l.94-2.06 2.06-.94-2.06-.94L8.5 2.5l-.94 2.06-2.06.94zm10 10l.94 2.06.94-2.06 2.06-.94-2.06-.94-.94-2.06-.94 2.06-2.06.94z\"/><path d=\"M17.41 7.96l-1.37-1.37c-.4-.4-.92-.59-1.43-.59-.52 0-1.04.2-1.43.59L10.3 9.45l-7.72 7.72c-.78.78-.78 2.05 0 2.83L4 21.41c.39.39.9.59 1.41.59.51 0 1.02-.2 1.41-.59l7.78-7.78 2.81-2.81c.8-.78.8-2.07 0-2.86zM5.41 20L4 18.59l7.72-7.72 1.47 1.35L5.41 20z\"/>\n",
              "  </svg>\n",
              "      </button>\n",
              "      \n",
              "  <style>\n",
              "    .colab-df-container {\n",
              "      display:flex;\n",
              "      flex-wrap:wrap;\n",
              "      gap: 12px;\n",
              "    }\n",
              "\n",
              "    .colab-df-convert {\n",
              "      background-color: #E8F0FE;\n",
              "      border: none;\n",
              "      border-radius: 50%;\n",
              "      cursor: pointer;\n",
              "      display: none;\n",
              "      fill: #1967D2;\n",
              "      height: 32px;\n",
              "      padding: 0 0 0 0;\n",
              "      width: 32px;\n",
              "    }\n",
              "\n",
              "    .colab-df-convert:hover {\n",
              "      background-color: #E2EBFA;\n",
              "      box-shadow: 0px 1px 2px rgba(60, 64, 67, 0.3), 0px 1px 3px 1px rgba(60, 64, 67, 0.15);\n",
              "      fill: #174EA6;\n",
              "    }\n",
              "\n",
              "    [theme=dark] .colab-df-convert {\n",
              "      background-color: #3B4455;\n",
              "      fill: #D2E3FC;\n",
              "    }\n",
              "\n",
              "    [theme=dark] .colab-df-convert:hover {\n",
              "      background-color: #434B5C;\n",
              "      box-shadow: 0px 1px 3px 1px rgba(0, 0, 0, 0.15);\n",
              "      filter: drop-shadow(0px 1px 2px rgba(0, 0, 0, 0.3));\n",
              "      fill: #FFFFFF;\n",
              "    }\n",
              "  </style>\n",
              "\n",
              "      <script>\n",
              "        const buttonEl =\n",
              "          document.querySelector('#df-f3515eca-9a98-4391-93d2-5564f956ec81 button.colab-df-convert');\n",
              "        buttonEl.style.display =\n",
              "          google.colab.kernel.accessAllowed ? 'block' : 'none';\n",
              "\n",
              "        async function convertToInteractive(key) {\n",
              "          const element = document.querySelector('#df-f3515eca-9a98-4391-93d2-5564f956ec81');\n",
              "          const dataTable =\n",
              "            await google.colab.kernel.invokeFunction('convertToInteractive',\n",
              "                                                     [key], {});\n",
              "          if (!dataTable) return;\n",
              "\n",
              "          const docLinkHtml = 'Like what you see? Visit the ' +\n",
              "            '<a target=\"_blank\" href=https://colab.research.google.com/notebooks/data_table.ipynb>data table notebook</a>'\n",
              "            + ' to learn more about interactive tables.';\n",
              "          element.innerHTML = '';\n",
              "          dataTable['output_type'] = 'display_data';\n",
              "          await google.colab.output.renderOutput(dataTable, element);\n",
              "          const docLink = document.createElement('div');\n",
              "          docLink.innerHTML = docLinkHtml;\n",
              "          element.appendChild(docLink);\n",
              "        }\n",
              "      </script>\n",
              "    </div>\n",
              "  </div>\n",
              "  "
            ]
          },
          "metadata": {},
          "execution_count": 42
        }
      ],
      "source": [
        "# Building the dataframe for above recommendations with columns \"song_id\" and \"predicted_ratings\"\n",
        "pd.DataFrame(recommendations, columns = ['song_id', 'predictd_play_count'])"
      ]
    },
    {
      "cell_type": "markdown",
      "metadata": {
        "id": "kyhThMOttWjj"
      },
      "source": [
        "**Observations and Insights:______________**"
      ]
    },
    {
      "cell_type": "markdown",
      "metadata": {
        "id": "ghwEJY2e7INB"
      },
      "source": [
        "### Correcting the play_counts and Ranking the above songs"
      ]
    },
    {
      "cell_type": "code",
      "execution_count": null,
      "metadata": {
        "id": "39Hs7ZbO9v3O"
      },
      "outputs": [],
      "source": [
        "def ranking_songs(recommendations, final_play):\n",
        "  # Sort the songs based on play counts\n",
        "  ranked_songs = final_play.loc[[items[0] for items in recommendations]].sort_values('play_freq', ascending = False)[['play_freq']].reset_index()\n",
        "\n",
        "  # Merge with the recommended songs to get predicted play_count\n",
        "  ranked_songs = ranked_songs.merge(pd.DataFrame(recommendations, columns = ['song_id', 'predictd_play_count']), on = 'song_id', how = 'inner')\n",
        "\n",
        "  # Rank the songs based on corrected play_counts\n",
        "  ranked_songs['corrected_play_ccount'] = ranked_songs['predictd_play_count'] - 1 / np.sqrt(ranked_songs['play_freq'])\n",
        "\n",
        "  # Sort the songs based on corrected play_counts\n",
        "  ranked_songs = ranked_songs.sort_values('corrected_play_ccount', ascending = False)\n",
        "\n",
        "  return ranked_songs"
      ]
    },
    {
      "cell_type": "markdown",
      "metadata": {
        "id": "zQvst41lOoMX"
      },
      "source": [
        "**Think About It:** In the above function to correct the predicted play_count a quantity 1/np.sqrt(n) is subtracted. What is the intuition behind it? Is it also possible to add this quantity instead of subtracting?"
      ]
    },
    {
      "cell_type": "code",
      "execution_count": null,
      "metadata": {
        "id": "xoiAL_vH8miC",
        "colab": {
          "base_uri": "https://localhost:8080/",
          "height": 206
        },
        "outputId": "9c156ccf-1222-48de-c739-9e2de1452c86"
      },
      "outputs": [
        {
          "output_type": "execute_result",
          "data": {
            "text/plain": [
              "   song_id  play_freq  predictd_play_count  corrected_play_ccount\n",
              "1     5531        618             2.300261               2.260035\n",
              "0     2220        713             2.181832               2.144381\n",
              "2     8092        550             2.166436               2.123796\n",
              "4     6860        169             2.162126               2.085203\n",
              "3     7496        301             2.130315               2.072676"
            ],
            "text/html": [
              "\n",
              "  <div id=\"df-eecf1a43-d5a7-4090-8cd2-e1739d592228\">\n",
              "    <div class=\"colab-df-container\">\n",
              "      <div>\n",
              "<style scoped>\n",
              "    .dataframe tbody tr th:only-of-type {\n",
              "        vertical-align: middle;\n",
              "    }\n",
              "\n",
              "    .dataframe tbody tr th {\n",
              "        vertical-align: top;\n",
              "    }\n",
              "\n",
              "    .dataframe thead th {\n",
              "        text-align: right;\n",
              "    }\n",
              "</style>\n",
              "<table border=\"1\" class=\"dataframe\">\n",
              "  <thead>\n",
              "    <tr style=\"text-align: right;\">\n",
              "      <th></th>\n",
              "      <th>song_id</th>\n",
              "      <th>play_freq</th>\n",
              "      <th>predictd_play_count</th>\n",
              "      <th>corrected_play_ccount</th>\n",
              "    </tr>\n",
              "  </thead>\n",
              "  <tbody>\n",
              "    <tr>\n",
              "      <th>1</th>\n",
              "      <td>5531</td>\n",
              "      <td>618</td>\n",
              "      <td>2.300261</td>\n",
              "      <td>2.260035</td>\n",
              "    </tr>\n",
              "    <tr>\n",
              "      <th>0</th>\n",
              "      <td>2220</td>\n",
              "      <td>713</td>\n",
              "      <td>2.181832</td>\n",
              "      <td>2.144381</td>\n",
              "    </tr>\n",
              "    <tr>\n",
              "      <th>2</th>\n",
              "      <td>8092</td>\n",
              "      <td>550</td>\n",
              "      <td>2.166436</td>\n",
              "      <td>2.123796</td>\n",
              "    </tr>\n",
              "    <tr>\n",
              "      <th>4</th>\n",
              "      <td>6860</td>\n",
              "      <td>169</td>\n",
              "      <td>2.162126</td>\n",
              "      <td>2.085203</td>\n",
              "    </tr>\n",
              "    <tr>\n",
              "      <th>3</th>\n",
              "      <td>7496</td>\n",
              "      <td>301</td>\n",
              "      <td>2.130315</td>\n",
              "      <td>2.072676</td>\n",
              "    </tr>\n",
              "  </tbody>\n",
              "</table>\n",
              "</div>\n",
              "      <button class=\"colab-df-convert\" onclick=\"convertToInteractive('df-eecf1a43-d5a7-4090-8cd2-e1739d592228')\"\n",
              "              title=\"Convert this dataframe to an interactive table.\"\n",
              "              style=\"display:none;\">\n",
              "        \n",
              "  <svg xmlns=\"http://www.w3.org/2000/svg\" height=\"24px\"viewBox=\"0 0 24 24\"\n",
              "       width=\"24px\">\n",
              "    <path d=\"M0 0h24v24H0V0z\" fill=\"none\"/>\n",
              "    <path d=\"M18.56 5.44l.94 2.06.94-2.06 2.06-.94-2.06-.94-.94-2.06-.94 2.06-2.06.94zm-11 1L8.5 8.5l.94-2.06 2.06-.94-2.06-.94L8.5 2.5l-.94 2.06-2.06.94zm10 10l.94 2.06.94-2.06 2.06-.94-2.06-.94-.94-2.06-.94 2.06-2.06.94z\"/><path d=\"M17.41 7.96l-1.37-1.37c-.4-.4-.92-.59-1.43-.59-.52 0-1.04.2-1.43.59L10.3 9.45l-7.72 7.72c-.78.78-.78 2.05 0 2.83L4 21.41c.39.39.9.59 1.41.59.51 0 1.02-.2 1.41-.59l7.78-7.78 2.81-2.81c.8-.78.8-2.07 0-2.86zM5.41 20L4 18.59l7.72-7.72 1.47 1.35L5.41 20z\"/>\n",
              "  </svg>\n",
              "      </button>\n",
              "      \n",
              "  <style>\n",
              "    .colab-df-container {\n",
              "      display:flex;\n",
              "      flex-wrap:wrap;\n",
              "      gap: 12px;\n",
              "    }\n",
              "\n",
              "    .colab-df-convert {\n",
              "      background-color: #E8F0FE;\n",
              "      border: none;\n",
              "      border-radius: 50%;\n",
              "      cursor: pointer;\n",
              "      display: none;\n",
              "      fill: #1967D2;\n",
              "      height: 32px;\n",
              "      padding: 0 0 0 0;\n",
              "      width: 32px;\n",
              "    }\n",
              "\n",
              "    .colab-df-convert:hover {\n",
              "      background-color: #E2EBFA;\n",
              "      box-shadow: 0px 1px 2px rgba(60, 64, 67, 0.3), 0px 1px 3px 1px rgba(60, 64, 67, 0.15);\n",
              "      fill: #174EA6;\n",
              "    }\n",
              "\n",
              "    [theme=dark] .colab-df-convert {\n",
              "      background-color: #3B4455;\n",
              "      fill: #D2E3FC;\n",
              "    }\n",
              "\n",
              "    [theme=dark] .colab-df-convert:hover {\n",
              "      background-color: #434B5C;\n",
              "      box-shadow: 0px 1px 3px 1px rgba(0, 0, 0, 0.15);\n",
              "      filter: drop-shadow(0px 1px 2px rgba(0, 0, 0, 0.3));\n",
              "      fill: #FFFFFF;\n",
              "    }\n",
              "  </style>\n",
              "\n",
              "      <script>\n",
              "        const buttonEl =\n",
              "          document.querySelector('#df-eecf1a43-d5a7-4090-8cd2-e1739d592228 button.colab-df-convert');\n",
              "        buttonEl.style.display =\n",
              "          google.colab.kernel.accessAllowed ? 'block' : 'none';\n",
              "\n",
              "        async function convertToInteractive(key) {\n",
              "          const element = document.querySelector('#df-eecf1a43-d5a7-4090-8cd2-e1739d592228');\n",
              "          const dataTable =\n",
              "            await google.colab.kernel.invokeFunction('convertToInteractive',\n",
              "                                                     [key], {});\n",
              "          if (!dataTable) return;\n",
              "\n",
              "          const docLinkHtml = 'Like what you see? Visit the ' +\n",
              "            '<a target=\"_blank\" href=https://colab.research.google.com/notebooks/data_table.ipynb>data table notebook</a>'\n",
              "            + ' to learn more about interactive tables.';\n",
              "          element.innerHTML = '';\n",
              "          dataTable['output_type'] = 'display_data';\n",
              "          await google.colab.output.renderOutput(dataTable, element);\n",
              "          const docLink = document.createElement('div');\n",
              "          docLink.innerHTML = docLinkHtml;\n",
              "          element.appendChild(docLink);\n",
              "        }\n",
              "      </script>\n",
              "    </div>\n",
              "  </div>\n",
              "  "
            ]
          },
          "metadata": {},
          "execution_count": 44
        }
      ],
      "source": [
        "# Applying the ranking_songs function on the final_play data\n",
        "#final_play.head()\n",
        "ranking_songs(recommendations, final_play)"
      ]
    },
    {
      "cell_type": "markdown",
      "metadata": {
        "id": "KOwwGsH8toLG"
      },
      "source": [
        "**Observations and Insights:______________**\n"
      ]
    },
    {
      "cell_type": "markdown",
      "metadata": {
        "id": "QgbzJKk7Tsnr"
      },
      "source": [
        "### Item Item Similarity-based collaborative filtering recommendation systems"
      ]
    },
    {
      "cell_type": "code",
      "execution_count": null,
      "metadata": {
        "id": "W5RMcdzjTsns",
        "scrolled": false,
        "colab": {
          "base_uri": "https://localhost:8080/"
        },
        "outputId": "3a07f255-e02c-4b98-9622-217ef9119300"
      },
      "outputs": [
        {
          "output_type": "stream",
          "name": "stdout",
          "text": [
            "RMSE: 1.0394\n",
            "Precision:  0.307\n",
            "Recall:  0.562\n",
            "F_1 score:  0.397\n"
          ]
        }
      ],
      "source": [
        "# Apply the item-item similarity collaborative filtering model with random_state = 1 and evaluate the model performance\n",
        "sim_options = {'name': 'cosine',\n",
        "               'user_based': False}\n",
        "\n",
        "# KNN algorithm is used to find desired similar items. Use random_state=1\n",
        "sim_item_item = KNNBasic(sim_options = sim_options, random_state = 1, verbose = False)\n",
        "\n",
        "# Train the algorithm on the trainset, and predict ratings for the test set\n",
        "sim_item_item.fit(trainset)\n",
        "\n",
        "# Let us compute precision@k, recall@k, and f_1 score with k = 10\n",
        "precision_recall_at_k(sim_item_item)"
      ]
    },
    {
      "cell_type": "markdown",
      "metadata": {
        "id": "JfdIJ6XWunx0"
      },
      "source": [
        "**Observations and Insights:______________**\n",
        "We have calculated RMSE to check how far the overall predicted ratings are from the actual ratings.\n",
        "\n",
        "Intuition of Recall: We are getting a recall of ~0.562, which means out of all the relevant products 56.2% are recommended.\n",
        "\n",
        "Intuition of Precision: We are getting a precision of ~ 0.307, which means out of all the recommended products 30.7% are relevant.\n",
        "\n",
        "Here F_1 score of the baseline model is ~0.397. It indicates that around half of recommended songs were relevant and relevant songs were recommended."
      ]
    },
    {
      "cell_type": "code",
      "source": [
        "#find the rating user gave\n",
        "df_final[df_final.user_id == 6958][df_final.song_id == 1671]"
      ],
      "metadata": {
        "colab": {
          "base_uri": "https://localhost:8080/",
          "height": 81
        },
        "id": "JA-Ox1LOIoJR",
        "outputId": "2d5135c0-06ea-4c1e-d178-c4ab0ec0dbf2"
      },
      "execution_count": null,
      "outputs": [
        {
          "output_type": "execute_result",
          "data": {
            "text/plain": [
              "     user_id  song_id  play_count                title  release  \\\n",
              "215     6958     1671           2  Sleeping In (Album)  Give Up   \n",
              "\n",
              "        artist_name  year  \n",
              "215  Postal Service  2003  "
            ],
            "text/html": [
              "\n",
              "  <div id=\"df-3df12fd1-6d88-452b-b7a4-63a7f5470e7a\">\n",
              "    <div class=\"colab-df-container\">\n",
              "      <div>\n",
              "<style scoped>\n",
              "    .dataframe tbody tr th:only-of-type {\n",
              "        vertical-align: middle;\n",
              "    }\n",
              "\n",
              "    .dataframe tbody tr th {\n",
              "        vertical-align: top;\n",
              "    }\n",
              "\n",
              "    .dataframe thead th {\n",
              "        text-align: right;\n",
              "    }\n",
              "</style>\n",
              "<table border=\"1\" class=\"dataframe\">\n",
              "  <thead>\n",
              "    <tr style=\"text-align: right;\">\n",
              "      <th></th>\n",
              "      <th>user_id</th>\n",
              "      <th>song_id</th>\n",
              "      <th>play_count</th>\n",
              "      <th>title</th>\n",
              "      <th>release</th>\n",
              "      <th>artist_name</th>\n",
              "      <th>year</th>\n",
              "    </tr>\n",
              "  </thead>\n",
              "  <tbody>\n",
              "    <tr>\n",
              "      <th>215</th>\n",
              "      <td>6958</td>\n",
              "      <td>1671</td>\n",
              "      <td>2</td>\n",
              "      <td>Sleeping In (Album)</td>\n",
              "      <td>Give Up</td>\n",
              "      <td>Postal Service</td>\n",
              "      <td>2003</td>\n",
              "    </tr>\n",
              "  </tbody>\n",
              "</table>\n",
              "</div>\n",
              "      <button class=\"colab-df-convert\" onclick=\"convertToInteractive('df-3df12fd1-6d88-452b-b7a4-63a7f5470e7a')\"\n",
              "              title=\"Convert this dataframe to an interactive table.\"\n",
              "              style=\"display:none;\">\n",
              "        \n",
              "  <svg xmlns=\"http://www.w3.org/2000/svg\" height=\"24px\"viewBox=\"0 0 24 24\"\n",
              "       width=\"24px\">\n",
              "    <path d=\"M0 0h24v24H0V0z\" fill=\"none\"/>\n",
              "    <path d=\"M18.56 5.44l.94 2.06.94-2.06 2.06-.94-2.06-.94-.94-2.06-.94 2.06-2.06.94zm-11 1L8.5 8.5l.94-2.06 2.06-.94-2.06-.94L8.5 2.5l-.94 2.06-2.06.94zm10 10l.94 2.06.94-2.06 2.06-.94-2.06-.94-.94-2.06-.94 2.06-2.06.94z\"/><path d=\"M17.41 7.96l-1.37-1.37c-.4-.4-.92-.59-1.43-.59-.52 0-1.04.2-1.43.59L10.3 9.45l-7.72 7.72c-.78.78-.78 2.05 0 2.83L4 21.41c.39.39.9.59 1.41.59.51 0 1.02-.2 1.41-.59l7.78-7.78 2.81-2.81c.8-.78.8-2.07 0-2.86zM5.41 20L4 18.59l7.72-7.72 1.47 1.35L5.41 20z\"/>\n",
              "  </svg>\n",
              "      </button>\n",
              "      \n",
              "  <style>\n",
              "    .colab-df-container {\n",
              "      display:flex;\n",
              "      flex-wrap:wrap;\n",
              "      gap: 12px;\n",
              "    }\n",
              "\n",
              "    .colab-df-convert {\n",
              "      background-color: #E8F0FE;\n",
              "      border: none;\n",
              "      border-radius: 50%;\n",
              "      cursor: pointer;\n",
              "      display: none;\n",
              "      fill: #1967D2;\n",
              "      height: 32px;\n",
              "      padding: 0 0 0 0;\n",
              "      width: 32px;\n",
              "    }\n",
              "\n",
              "    .colab-df-convert:hover {\n",
              "      background-color: #E2EBFA;\n",
              "      box-shadow: 0px 1px 2px rgba(60, 64, 67, 0.3), 0px 1px 3px 1px rgba(60, 64, 67, 0.15);\n",
              "      fill: #174EA6;\n",
              "    }\n",
              "\n",
              "    [theme=dark] .colab-df-convert {\n",
              "      background-color: #3B4455;\n",
              "      fill: #D2E3FC;\n",
              "    }\n",
              "\n",
              "    [theme=dark] .colab-df-convert:hover {\n",
              "      background-color: #434B5C;\n",
              "      box-shadow: 0px 1px 3px 1px rgba(0, 0, 0, 0.15);\n",
              "      filter: drop-shadow(0px 1px 2px rgba(0, 0, 0, 0.3));\n",
              "      fill: #FFFFFF;\n",
              "    }\n",
              "  </style>\n",
              "\n",
              "      <script>\n",
              "        const buttonEl =\n",
              "          document.querySelector('#df-3df12fd1-6d88-452b-b7a4-63a7f5470e7a button.colab-df-convert');\n",
              "        buttonEl.style.display =\n",
              "          google.colab.kernel.accessAllowed ? 'block' : 'none';\n",
              "\n",
              "        async function convertToInteractive(key) {\n",
              "          const element = document.querySelector('#df-3df12fd1-6d88-452b-b7a4-63a7f5470e7a');\n",
              "          const dataTable =\n",
              "            await google.colab.kernel.invokeFunction('convertToInteractive',\n",
              "                                                     [key], {});\n",
              "          if (!dataTable) return;\n",
              "\n",
              "          const docLinkHtml = 'Like what you see? Visit the ' +\n",
              "            '<a target=\"_blank\" href=https://colab.research.google.com/notebooks/data_table.ipynb>data table notebook</a>'\n",
              "            + ' to learn more about interactive tables.';\n",
              "          element.innerHTML = '';\n",
              "          dataTable['output_type'] = 'display_data';\n",
              "          await google.colab.output.renderOutput(dataTable, element);\n",
              "          const docLink = document.createElement('div');\n",
              "          docLink.innerHTML = docLinkHtml;\n",
              "          element.appendChild(docLink);\n",
              "        }\n",
              "      </script>\n",
              "    </div>\n",
              "  </div>\n",
              "  "
            ]
          },
          "metadata": {},
          "execution_count": 46
        }
      ]
    },
    {
      "cell_type": "code",
      "execution_count": null,
      "metadata": {
        "id": "5yILOxXRTsns",
        "colab": {
          "base_uri": "https://localhost:8080/"
        },
        "outputId": "ace5988b-7f95-4852-9e55-305a6a58138a"
      },
      "outputs": [
        {
          "output_type": "stream",
          "name": "stdout",
          "text": [
            "user: 6958       item: 1671       r_ui = 2.00   est = 1.36   {'actual_k': 20, 'was_impossible': False}\n"
          ]
        },
        {
          "output_type": "execute_result",
          "data": {
            "text/plain": [
              "Prediction(uid=6958, iid=1671, r_ui=2, est=1.3614157231762556, details={'actual_k': 20, 'was_impossible': False})"
            ]
          },
          "metadata": {},
          "execution_count": 47
        }
      ],
      "source": [
        "# Predicting play count for a sample user_id 6958 and song (with song_id 1671) heard by the user\n",
        "sim_item_item.predict(6958, 1671, r_ui = 2, verbose = True)"
      ]
    },
    {
      "cell_type": "code",
      "execution_count": null,
      "metadata": {
        "id": "jSn8oK3JZsTc",
        "colab": {
          "base_uri": "https://localhost:8080/"
        },
        "outputId": "df820249-f7e6-4e9b-a8c8-5207401d728a"
      },
      "outputs": [
        {
          "output_type": "execute_result",
          "data": {
            "text/plain": [
              "array([27018, 55837, 56576, ..., 12960, 71830, 47786])"
            ]
          },
          "metadata": {},
          "execution_count": 48
        }
      ],
      "source": [
        "#Find a user\n",
        "\n",
        "user_list = list(df_final.loc[df_final.song_id == 1671].user_id.unique())\n",
        "\n",
        "df_final[~df_final['user_id'].isin(user_list)].user_id.unique()"
      ]
    },
    {
      "cell_type": "code",
      "source": [
        "# Predict the play count for a user that has not listened to the song (with song_id 1671)\n",
        "sim_item_item.predict(27018, 1671, verbose = True)"
      ],
      "metadata": {
        "colab": {
          "base_uri": "https://localhost:8080/"
        },
        "id": "zbbrY53bOBtR",
        "outputId": "05dd95da-b18b-449b-b392-517e4d6fe3e6"
      },
      "execution_count": null,
      "outputs": [
        {
          "output_type": "stream",
          "name": "stdout",
          "text": [
            "user: 27018      item: 1671       r_ui = None   est = 2.55   {'actual_k': 40, 'was_impossible': False}\n"
          ]
        },
        {
          "output_type": "execute_result",
          "data": {
            "text/plain": [
              "Prediction(uid=27018, iid=1671, r_ui=None, est=2.5507234733908, details={'actual_k': 40, 'was_impossible': False})"
            ]
          },
          "metadata": {},
          "execution_count": 49
        }
      ]
    },
    {
      "cell_type": "markdown",
      "metadata": {
        "id": "dxE9fJ8Dupby"
      },
      "source": [
        "**Observations and Insights:______________**"
      ]
    },
    {
      "cell_type": "code",
      "execution_count": null,
      "metadata": {
        "id": "f5bcZ3HgTsnt",
        "colab": {
          "base_uri": "https://localhost:8080/"
        },
        "outputId": "52d04489-46a3-4574-c0f4-92e91c708f44"
      },
      "outputs": [
        {
          "output_type": "stream",
          "name": "stdout",
          "text": [
            "1.0701390503881492\n",
            "{'k': 150, 'min_k': 50, 'sim_options': {'name': 'msd', 'user_based': False}}\n"
          ]
        }
      ],
      "source": [
        "# Apply grid search for enhancing model performance\n",
        "# k is calculated as 5%, 10% and 15% of users (3155)\n",
        "# min_k is calculaated as 1/3 of k.\n",
        "param_grid = {'k': [150, 300, 450], 'min_k': [50, 100, 150],\n",
        "              'sim_options': {'name': ['msd', 'cosine', 'Pearson'],\n",
        "                              'user_based': [False]}\n",
        "              }\n",
        "\n",
        "# Performing 3-fold cross-validation to tune the hyperparameters\n",
        "gs = GridSearchCV(KNNBasic, param_grid, measures = ['rmse'], cv = 3, n_jobs = -1)\n",
        "\n",
        "# Fitting the data\n",
        " # Use entire data for GridSearch\n",
        "gs.fit(data)\n",
        "\n",
        "# Best RMSE score\n",
        "print(gs.best_score['rmse'])\n",
        "\n",
        "# Combination of parameters that gave the best RMSE score\n",
        "print(gs.best_params['rmse'])\n"
      ]
    },
    {
      "cell_type": "markdown",
      "metadata": {
        "id": "SXLxjLEQYvWk"
      },
      "source": [
        "**Think About It:** How do the parameters affect the performance of the model? Can we improve the performance of the model further? Check the list of hyperparameters [here](https://surprise.readthedocs.io/en/stable/knn_inspired.html)."
      ]
    },
    {
      "cell_type": "code",
      "execution_count": null,
      "metadata": {
        "id": "dSeiM1qeTsnt",
        "colab": {
          "base_uri": "https://localhost:8080/"
        },
        "outputId": "954356b9-c16b-44bb-bf5e-4fe38ec43d4a"
      },
      "outputs": [
        {
          "output_type": "stream",
          "name": "stdout",
          "text": [
            "RMSE: 1.0731\n",
            "Precision:  0.382\n",
            "Recall:  0.876\n",
            "F_1 score:  0.532\n"
          ]
        }
      ],
      "source": [
        "# Apply the best modle found in the grid search\n",
        "sim_options = {'name': 'msd',\n",
        "               'user_based': False}\n",
        "\n",
        "# Creating an instance of KNNBasic with optimal hyperparameter values\n",
        "sim_item_item_optimized = KNNBasic(sim_options = sim_options, k = 150, min_k = 50, random_state = 1, verbose = False)\n",
        "\n",
        "# Training the algorithm on the trainset\n",
        "sim_item_item_optimized.fit(trainset)\n",
        "\n",
        "# Let us compute precision@k and recall@k also with k =10\n",
        "precision_recall_at_k(sim_item_item_optimized)"
      ]
    },
    {
      "cell_type": "markdown",
      "metadata": {
        "id": "XxXelRIluvfh"
      },
      "source": [
        "**Observations and Insights:______________**\n"
      ]
    },
    {
      "cell_type": "code",
      "execution_count": null,
      "metadata": {
        "id": "gIBRRvdoTsnt",
        "colab": {
          "base_uri": "https://localhost:8080/"
        },
        "outputId": "3432fb7c-2ad9-438d-b31a-7834d175bbda"
      },
      "outputs": [
        {
          "output_type": "stream",
          "name": "stdout",
          "text": [
            "user: 6958       item: 1671       r_ui = 2.00   est = 1.70   {'was_impossible': True, 'reason': 'Not enough neighbors.'}\n"
          ]
        },
        {
          "output_type": "execute_result",
          "data": {
            "text/plain": [
              "Prediction(uid=6958, iid=1671, r_ui=2, est=1.6989607635206787, details={'was_impossible': True, 'reason': 'Not enough neighbors.'})"
            ]
          },
          "metadata": {},
          "execution_count": 52
        }
      ],
      "source": [
        "# Predict the play_count by a user(user_id 6958) for the song (song_id 1671)\n",
        "sim_item_item_optimized.predict(6958, 1671, r_ui = 2, verbose = True)"
      ]
    },
    {
      "cell_type": "code",
      "execution_count": null,
      "metadata": {
        "id": "LNEgcI9PTsnu",
        "colab": {
          "base_uri": "https://localhost:8080/"
        },
        "outputId": "4593e6ef-abf1-4a19-d94f-95f304801efe"
      },
      "outputs": [
        {
          "output_type": "stream",
          "name": "stdout",
          "text": [
            "user: 6958       item: 3232       r_ui = None   est = 1.70   {'was_impossible': True, 'reason': 'Not enough neighbors.'}\n"
          ]
        },
        {
          "output_type": "execute_result",
          "data": {
            "text/plain": [
              "Prediction(uid=6958, iid=3232, r_ui=None, est=1.6989607635206787, details={'was_impossible': True, 'reason': 'Not enough neighbors.'})"
            ]
          },
          "metadata": {},
          "execution_count": 53
        }
      ],
      "source": [
        "# Predicting play count for a sample user_id 6958 with song_id 3232 which is not heard by the user\n",
        "sim_item_item_optimized.predict(6958, 3232, verbose = True)"
      ]
    },
    {
      "cell_type": "markdown",
      "metadata": {
        "id": "yf3kDSepuwcw"
      },
      "source": [
        "**Observations and Insights:______________**\n",
        "For user with id 6958, for song id 1671, estimated play count was 1.7.\n",
        "\n",
        "For usr id 6958, for song id 3232, prediction was 1.7.\n",
        "in both cases, not enough neighbours to estimat, thus overall average rating of 1.7 was estimated."
      ]
    },
    {
      "cell_type": "code",
      "execution_count": null,
      "metadata": {
        "id": "ZRJS4oDFTsnu",
        "colab": {
          "base_uri": "https://localhost:8080/"
        },
        "outputId": "e78e41ca-c053-45b5-b615-b618ea504b3f"
      },
      "outputs": [
        {
          "output_type": "execute_result",
          "data": {
            "text/plain": [
              "[31, 82, 90, 116, 125]"
            ]
          },
          "metadata": {},
          "execution_count": 54
        }
      ],
      "source": [
        "# Find five most similar items to the item with inner id 0\n",
        "sim_user_user_optimized.get_neighbors(0, k = 5)"
      ]
    },
    {
      "cell_type": "code",
      "execution_count": null,
      "metadata": {
        "id": "rzoEbuZFTsnu"
      },
      "outputs": [],
      "source": [
        "# Making top 5 recommendations for any user_id  with item_item_similarity-based recommendation engine\n",
        "recommendations = get_recommendations(df_final, 6958, 5, sim_item_item_optimized)"
      ]
    },
    {
      "cell_type": "code",
      "execution_count": null,
      "metadata": {
        "id": "_kXVTiysTsnv",
        "colab": {
          "base_uri": "https://localhost:8080/",
          "height": 206
        },
        "outputId": "594c7e8c-f961-4d9c-ef07-77cee9126af4"
      },
      "outputs": [
        {
          "output_type": "execute_result",
          "data": {
            "text/plain": [
              "   song_id  predictd_play_count\n",
              "0       21             1.698961\n",
              "1       22             1.698961\n",
              "2       52             1.698961\n",
              "3       62             1.698961\n",
              "4       93             1.698961"
            ],
            "text/html": [
              "\n",
              "  <div id=\"df-d3838667-ad67-4a79-9aee-684ee8ba0a3f\">\n",
              "    <div class=\"colab-df-container\">\n",
              "      <div>\n",
              "<style scoped>\n",
              "    .dataframe tbody tr th:only-of-type {\n",
              "        vertical-align: middle;\n",
              "    }\n",
              "\n",
              "    .dataframe tbody tr th {\n",
              "        vertical-align: top;\n",
              "    }\n",
              "\n",
              "    .dataframe thead th {\n",
              "        text-align: right;\n",
              "    }\n",
              "</style>\n",
              "<table border=\"1\" class=\"dataframe\">\n",
              "  <thead>\n",
              "    <tr style=\"text-align: right;\">\n",
              "      <th></th>\n",
              "      <th>song_id</th>\n",
              "      <th>predictd_play_count</th>\n",
              "    </tr>\n",
              "  </thead>\n",
              "  <tbody>\n",
              "    <tr>\n",
              "      <th>0</th>\n",
              "      <td>21</td>\n",
              "      <td>1.698961</td>\n",
              "    </tr>\n",
              "    <tr>\n",
              "      <th>1</th>\n",
              "      <td>22</td>\n",
              "      <td>1.698961</td>\n",
              "    </tr>\n",
              "    <tr>\n",
              "      <th>2</th>\n",
              "      <td>52</td>\n",
              "      <td>1.698961</td>\n",
              "    </tr>\n",
              "    <tr>\n",
              "      <th>3</th>\n",
              "      <td>62</td>\n",
              "      <td>1.698961</td>\n",
              "    </tr>\n",
              "    <tr>\n",
              "      <th>4</th>\n",
              "      <td>93</td>\n",
              "      <td>1.698961</td>\n",
              "    </tr>\n",
              "  </tbody>\n",
              "</table>\n",
              "</div>\n",
              "      <button class=\"colab-df-convert\" onclick=\"convertToInteractive('df-d3838667-ad67-4a79-9aee-684ee8ba0a3f')\"\n",
              "              title=\"Convert this dataframe to an interactive table.\"\n",
              "              style=\"display:none;\">\n",
              "        \n",
              "  <svg xmlns=\"http://www.w3.org/2000/svg\" height=\"24px\"viewBox=\"0 0 24 24\"\n",
              "       width=\"24px\">\n",
              "    <path d=\"M0 0h24v24H0V0z\" fill=\"none\"/>\n",
              "    <path d=\"M18.56 5.44l.94 2.06.94-2.06 2.06-.94-2.06-.94-.94-2.06-.94 2.06-2.06.94zm-11 1L8.5 8.5l.94-2.06 2.06-.94-2.06-.94L8.5 2.5l-.94 2.06-2.06.94zm10 10l.94 2.06.94-2.06 2.06-.94-2.06-.94-.94-2.06-.94 2.06-2.06.94z\"/><path d=\"M17.41 7.96l-1.37-1.37c-.4-.4-.92-.59-1.43-.59-.52 0-1.04.2-1.43.59L10.3 9.45l-7.72 7.72c-.78.78-.78 2.05 0 2.83L4 21.41c.39.39.9.59 1.41.59.51 0 1.02-.2 1.41-.59l7.78-7.78 2.81-2.81c.8-.78.8-2.07 0-2.86zM5.41 20L4 18.59l7.72-7.72 1.47 1.35L5.41 20z\"/>\n",
              "  </svg>\n",
              "      </button>\n",
              "      \n",
              "  <style>\n",
              "    .colab-df-container {\n",
              "      display:flex;\n",
              "      flex-wrap:wrap;\n",
              "      gap: 12px;\n",
              "    }\n",
              "\n",
              "    .colab-df-convert {\n",
              "      background-color: #E8F0FE;\n",
              "      border: none;\n",
              "      border-radius: 50%;\n",
              "      cursor: pointer;\n",
              "      display: none;\n",
              "      fill: #1967D2;\n",
              "      height: 32px;\n",
              "      padding: 0 0 0 0;\n",
              "      width: 32px;\n",
              "    }\n",
              "\n",
              "    .colab-df-convert:hover {\n",
              "      background-color: #E2EBFA;\n",
              "      box-shadow: 0px 1px 2px rgba(60, 64, 67, 0.3), 0px 1px 3px 1px rgba(60, 64, 67, 0.15);\n",
              "      fill: #174EA6;\n",
              "    }\n",
              "\n",
              "    [theme=dark] .colab-df-convert {\n",
              "      background-color: #3B4455;\n",
              "      fill: #D2E3FC;\n",
              "    }\n",
              "\n",
              "    [theme=dark] .colab-df-convert:hover {\n",
              "      background-color: #434B5C;\n",
              "      box-shadow: 0px 1px 3px 1px rgba(0, 0, 0, 0.15);\n",
              "      filter: drop-shadow(0px 1px 2px rgba(0, 0, 0, 0.3));\n",
              "      fill: #FFFFFF;\n",
              "    }\n",
              "  </style>\n",
              "\n",
              "      <script>\n",
              "        const buttonEl =\n",
              "          document.querySelector('#df-d3838667-ad67-4a79-9aee-684ee8ba0a3f button.colab-df-convert');\n",
              "        buttonEl.style.display =\n",
              "          google.colab.kernel.accessAllowed ? 'block' : 'none';\n",
              "\n",
              "        async function convertToInteractive(key) {\n",
              "          const element = document.querySelector('#df-d3838667-ad67-4a79-9aee-684ee8ba0a3f');\n",
              "          const dataTable =\n",
              "            await google.colab.kernel.invokeFunction('convertToInteractive',\n",
              "                                                     [key], {});\n",
              "          if (!dataTable) return;\n",
              "\n",
              "          const docLinkHtml = 'Like what you see? Visit the ' +\n",
              "            '<a target=\"_blank\" href=https://colab.research.google.com/notebooks/data_table.ipynb>data table notebook</a>'\n",
              "            + ' to learn more about interactive tables.';\n",
              "          element.innerHTML = '';\n",
              "          dataTable['output_type'] = 'display_data';\n",
              "          await google.colab.output.renderOutput(dataTable, element);\n",
              "          const docLink = document.createElement('div');\n",
              "          docLink.innerHTML = docLinkHtml;\n",
              "          element.appendChild(docLink);\n",
              "        }\n",
              "      </script>\n",
              "    </div>\n",
              "  </div>\n",
              "  "
            ]
          },
          "metadata": {},
          "execution_count": 56
        }
      ],
      "source": [
        "# Building the dataframe for above recommendations with columns \"song_id\" and \"predicted_play_count\"\n",
        "pd.DataFrame(recommendations, columns = ['song_id', 'predictd_play_count'])"
      ]
    },
    {
      "cell_type": "code",
      "execution_count": null,
      "metadata": {
        "id": "7gewfmTATsnv",
        "colab": {
          "base_uri": "https://localhost:8080/",
          "height": 206
        },
        "outputId": "267805b5-56e0-4662-b38d-6c939b3128b2"
      },
      "outputs": [
        {
          "output_type": "execute_result",
          "data": {
            "text/plain": [
              "   song_id  play_freq  predictd_play_count  corrected_play_ccount\n",
              "0       52        421             1.698961               1.650224\n",
              "1       21        265             1.698961               1.637531\n",
              "2       22        132             1.698961               1.611922\n",
              "3       93        115             1.698961               1.605710\n",
              "4       62        114             1.698961               1.605302"
            ],
            "text/html": [
              "\n",
              "  <div id=\"df-73113409-40ae-4747-8af8-d74e24930427\">\n",
              "    <div class=\"colab-df-container\">\n",
              "      <div>\n",
              "<style scoped>\n",
              "    .dataframe tbody tr th:only-of-type {\n",
              "        vertical-align: middle;\n",
              "    }\n",
              "\n",
              "    .dataframe tbody tr th {\n",
              "        vertical-align: top;\n",
              "    }\n",
              "\n",
              "    .dataframe thead th {\n",
              "        text-align: right;\n",
              "    }\n",
              "</style>\n",
              "<table border=\"1\" class=\"dataframe\">\n",
              "  <thead>\n",
              "    <tr style=\"text-align: right;\">\n",
              "      <th></th>\n",
              "      <th>song_id</th>\n",
              "      <th>play_freq</th>\n",
              "      <th>predictd_play_count</th>\n",
              "      <th>corrected_play_ccount</th>\n",
              "    </tr>\n",
              "  </thead>\n",
              "  <tbody>\n",
              "    <tr>\n",
              "      <th>0</th>\n",
              "      <td>52</td>\n",
              "      <td>421</td>\n",
              "      <td>1.698961</td>\n",
              "      <td>1.650224</td>\n",
              "    </tr>\n",
              "    <tr>\n",
              "      <th>1</th>\n",
              "      <td>21</td>\n",
              "      <td>265</td>\n",
              "      <td>1.698961</td>\n",
              "      <td>1.637531</td>\n",
              "    </tr>\n",
              "    <tr>\n",
              "      <th>2</th>\n",
              "      <td>22</td>\n",
              "      <td>132</td>\n",
              "      <td>1.698961</td>\n",
              "      <td>1.611922</td>\n",
              "    </tr>\n",
              "    <tr>\n",
              "      <th>3</th>\n",
              "      <td>93</td>\n",
              "      <td>115</td>\n",
              "      <td>1.698961</td>\n",
              "      <td>1.605710</td>\n",
              "    </tr>\n",
              "    <tr>\n",
              "      <th>4</th>\n",
              "      <td>62</td>\n",
              "      <td>114</td>\n",
              "      <td>1.698961</td>\n",
              "      <td>1.605302</td>\n",
              "    </tr>\n",
              "  </tbody>\n",
              "</table>\n",
              "</div>\n",
              "      <button class=\"colab-df-convert\" onclick=\"convertToInteractive('df-73113409-40ae-4747-8af8-d74e24930427')\"\n",
              "              title=\"Convert this dataframe to an interactive table.\"\n",
              "              style=\"display:none;\">\n",
              "        \n",
              "  <svg xmlns=\"http://www.w3.org/2000/svg\" height=\"24px\"viewBox=\"0 0 24 24\"\n",
              "       width=\"24px\">\n",
              "    <path d=\"M0 0h24v24H0V0z\" fill=\"none\"/>\n",
              "    <path d=\"M18.56 5.44l.94 2.06.94-2.06 2.06-.94-2.06-.94-.94-2.06-.94 2.06-2.06.94zm-11 1L8.5 8.5l.94-2.06 2.06-.94-2.06-.94L8.5 2.5l-.94 2.06-2.06.94zm10 10l.94 2.06.94-2.06 2.06-.94-2.06-.94-.94-2.06-.94 2.06-2.06.94z\"/><path d=\"M17.41 7.96l-1.37-1.37c-.4-.4-.92-.59-1.43-.59-.52 0-1.04.2-1.43.59L10.3 9.45l-7.72 7.72c-.78.78-.78 2.05 0 2.83L4 21.41c.39.39.9.59 1.41.59.51 0 1.02-.2 1.41-.59l7.78-7.78 2.81-2.81c.8-.78.8-2.07 0-2.86zM5.41 20L4 18.59l7.72-7.72 1.47 1.35L5.41 20z\"/>\n",
              "  </svg>\n",
              "      </button>\n",
              "      \n",
              "  <style>\n",
              "    .colab-df-container {\n",
              "      display:flex;\n",
              "      flex-wrap:wrap;\n",
              "      gap: 12px;\n",
              "    }\n",
              "\n",
              "    .colab-df-convert {\n",
              "      background-color: #E8F0FE;\n",
              "      border: none;\n",
              "      border-radius: 50%;\n",
              "      cursor: pointer;\n",
              "      display: none;\n",
              "      fill: #1967D2;\n",
              "      height: 32px;\n",
              "      padding: 0 0 0 0;\n",
              "      width: 32px;\n",
              "    }\n",
              "\n",
              "    .colab-df-convert:hover {\n",
              "      background-color: #E2EBFA;\n",
              "      box-shadow: 0px 1px 2px rgba(60, 64, 67, 0.3), 0px 1px 3px 1px rgba(60, 64, 67, 0.15);\n",
              "      fill: #174EA6;\n",
              "    }\n",
              "\n",
              "    [theme=dark] .colab-df-convert {\n",
              "      background-color: #3B4455;\n",
              "      fill: #D2E3FC;\n",
              "    }\n",
              "\n",
              "    [theme=dark] .colab-df-convert:hover {\n",
              "      background-color: #434B5C;\n",
              "      box-shadow: 0px 1px 3px 1px rgba(0, 0, 0, 0.15);\n",
              "      filter: drop-shadow(0px 1px 2px rgba(0, 0, 0, 0.3));\n",
              "      fill: #FFFFFF;\n",
              "    }\n",
              "  </style>\n",
              "\n",
              "      <script>\n",
              "        const buttonEl =\n",
              "          document.querySelector('#df-73113409-40ae-4747-8af8-d74e24930427 button.colab-df-convert');\n",
              "        buttonEl.style.display =\n",
              "          google.colab.kernel.accessAllowed ? 'block' : 'none';\n",
              "\n",
              "        async function convertToInteractive(key) {\n",
              "          const element = document.querySelector('#df-73113409-40ae-4747-8af8-d74e24930427');\n",
              "          const dataTable =\n",
              "            await google.colab.kernel.invokeFunction('convertToInteractive',\n",
              "                                                     [key], {});\n",
              "          if (!dataTable) return;\n",
              "\n",
              "          const docLinkHtml = 'Like what you see? Visit the ' +\n",
              "            '<a target=\"_blank\" href=https://colab.research.google.com/notebooks/data_table.ipynb>data table notebook</a>'\n",
              "            + ' to learn more about interactive tables.';\n",
              "          element.innerHTML = '';\n",
              "          dataTable['output_type'] = 'display_data';\n",
              "          await google.colab.output.renderOutput(dataTable, element);\n",
              "          const docLink = document.createElement('div');\n",
              "          docLink.innerHTML = docLinkHtml;\n",
              "          element.appendChild(docLink);\n",
              "        }\n",
              "      </script>\n",
              "    </div>\n",
              "  </div>\n",
              "  "
            ]
          },
          "metadata": {},
          "execution_count": 57
        }
      ],
      "source": [
        "# Applying the ranking_songs function\n",
        "ranking_songs(recommendations, final_play)"
      ]
    },
    {
      "cell_type": "markdown",
      "metadata": {
        "id": "Ore9XTFgv5Np"
      },
      "source": [
        "**Observations and Insights:_________**\n",
        "Predicted and corrected play counts are very close."
      ]
    },
    {
      "cell_type": "markdown",
      "metadata": {
        "id": "rKgJpSA9vOOL"
      },
      "source": [
        "### Model Based Collaborative Filtering - Matrix Factorization"
      ]
    },
    {
      "cell_type": "markdown",
      "metadata": {
        "id": "hJynidJCw-ti"
      },
      "source": [
        "Model-based Collaborative Filtering is a **personalized recommendation system**, the recommendations are based on the past behavior of the user and it is not dependent on any additional information. We use **latent features** to find recommendations for each user."
      ]
    },
    {
      "cell_type": "code",
      "execution_count": null,
      "metadata": {
        "id": "07-2PT5Ssjqm",
        "colab": {
          "base_uri": "https://localhost:8080/"
        },
        "outputId": "21f365d9-64cf-4df6-9efe-5db1acaee12c"
      },
      "outputs": [
        {
          "output_type": "stream",
          "name": "stdout",
          "text": [
            "RMSE: 1.0252\n",
            "Precision:  0.41\n",
            "Recall:  0.633\n",
            "F_1 score:  0.498\n"
          ]
        }
      ],
      "source": [
        "# Build baseline model using svd\n",
        "# Using SVD matrix factorization. Use random_state = 1\n",
        "svd = SVD(random_state = 1)\n",
        "# Training the algorithm on the trainset\n",
        "svd.fit(trainset)\n",
        "# Use the function precision_recall_at_k to compute precision@k, recall@k, F1-Score, and RMSE\n",
        "precision_recall_at_k(svd)"
      ]
    },
    {
      "cell_type": "code",
      "execution_count": null,
      "metadata": {
        "id": "yWIhfdxXsjqm",
        "colab": {
          "base_uri": "https://localhost:8080/"
        },
        "outputId": "07b6f779-2b1a-4296-ffa6-dc23c48f9c25"
      },
      "outputs": [
        {
          "output_type": "stream",
          "name": "stdout",
          "text": [
            "user: 6958       item: 1671       r_ui = 2.00   est = 1.27   {'was_impossible': False}\n"
          ]
        },
        {
          "output_type": "execute_result",
          "data": {
            "text/plain": [
              "Prediction(uid=6958, iid=1671, r_ui=2, est=1.267473397214638, details={'was_impossible': False})"
            ]
          },
          "metadata": {},
          "execution_count": 59
        }
      ],
      "source": [
        "# Making prediction for user (with user_id 6958) to song (with song_id 1671), take r_ui = 2\n",
        "svd.predict(6958, 1671, r_ui = 2, verbose = True)"
      ]
    },
    {
      "cell_type": "code",
      "source": [
        "#Find a user who has not listened to 3232\n",
        "\n",
        "user_list = list(df_final.loc[df_final.song_id == 3232].user_id.unique())\n",
        "\n",
        "df_final[~df_final['user_id'].isin(user_list)].user_id.unique()"
      ],
      "metadata": {
        "colab": {
          "base_uri": "https://localhost:8080/"
        },
        "id": "qvfCeIH07B5g",
        "outputId": "13c43061-34ea-4a8e-9061-675a6fda3717"
      },
      "execution_count": null,
      "outputs": [
        {
          "output_type": "execute_result",
          "data": {
            "text/plain": [
              "array([ 6958, 55837, 56576, ..., 12960, 71830, 47786])"
            ]
          },
          "metadata": {},
          "execution_count": 60
        }
      ]
    },
    {
      "cell_type": "code",
      "execution_count": null,
      "metadata": {
        "id": "APm-uMSvcAMf",
        "colab": {
          "base_uri": "https://localhost:8080/"
        },
        "outputId": "72dc4077-3008-46d7-c34c-869716927d19"
      },
      "outputs": [
        {
          "output_type": "stream",
          "name": "stdout",
          "text": [
            "user: 12960      item: 3232       r_ui = None   est = 1.46   {'was_impossible': False}\n"
          ]
        },
        {
          "output_type": "execute_result",
          "data": {
            "text/plain": [
              "Prediction(uid=12960, iid=3232, r_ui=None, est=1.4613524700210976, details={'was_impossible': False})"
            ]
          },
          "metadata": {},
          "execution_count": 61
        }
      ],
      "source": [
        "# Making a prediction for the user who has not listened to the song (song_id 3232)\n",
        "svd.predict(12960, 3232, verbose = True)"
      ]
    },
    {
      "cell_type": "markdown",
      "metadata": {
        "id": "23tnRUJJxWTR"
      },
      "source": [
        "#### Improving matrix factorization based recommendation system by tuning its hyperparameters"
      ]
    },
    {
      "cell_type": "code",
      "execution_count": null,
      "metadata": {
        "id": "4bM81V_hvtwv",
        "colab": {
          "base_uri": "https://localhost:8080/"
        },
        "outputId": "861f3168-b5b4-488c-f4b2-5c3db3e3ed4c"
      },
      "outputs": [
        {
          "output_type": "stream",
          "name": "stdout",
          "text": [
            "1.0012982844958416\n",
            "{'n_epochs': 450, 'lr_all': 0.005, 'reg_all': 0.2}\n"
          ]
        }
      ],
      "source": [
        "# Set the parameter space to tune\n",
        "param_grid = {'n_epochs': [150, 300, 450], 'lr_all': [0.001, 0.005, 0.01],\n",
        "              'reg_all': [0.2, 0.4, 0.6]}\n",
        "\n",
        "# Performe 3-fold grid-search cross-validation\n",
        "gs = GridSearchCV(SVD, param_grid, measures = ['rmse'], cv = 3, n_jobs = -1)\n",
        "\n",
        "# Fitting data\n",
        "gs.fit(data)\n",
        "\n",
        "# Best RMSE score\n",
        "print(gs.best_score['rmse'])\n",
        "\n",
        "# Combination of parameters that gave the best RMSE score\n",
        "print(gs.best_params['rmse'])"
      ]
    },
    {
      "cell_type": "markdown",
      "metadata": {
        "id": "aSgBRcL1xnVC"
      },
      "source": [
        "**Think About It**: How do the parameters affect the performance of the model? Can we improve the performance of the model further? Check the available hyperparameters [here](https://surprise.readthedocs.io/en/stable/matrix_factorization.html)."
      ]
    },
    {
      "cell_type": "code",
      "execution_count": null,
      "metadata": {
        "id": "TA_7xe-nnhuu",
        "colab": {
          "base_uri": "https://localhost:8080/"
        },
        "outputId": "edd4a9a8-e40d-4bb5-8970-837cc181e0b7"
      },
      "outputs": [
        {
          "output_type": "stream",
          "name": "stdout",
          "text": [
            "RMSE: 1.0192\n",
            "Precision:  0.407\n",
            "Recall:  0.663\n",
            "F_1 score:  0.504\n"
          ]
        }
      ],
      "source": [
        "# Building the optimized SVD model using optimal hyperparameters\n",
        "# Build the optimized SVD model using optimal hyperparameter search. Use random_state=1\n",
        "svd_optimized = SVD(n_epochs = 231, lr_all = 0.001, reg_all = 0.4, random_state = 1)\n",
        "\n",
        "# Train the algorithm on the trainset\n",
        "svd_optimized = svd_optimized.fit(trainset)\n",
        "\n",
        "# Use the function precision_recall_at_k to compute precision@k, recall@k, F1-Score, and RMSE\n",
        "precision_recall_at_k(svd_optimized)"
      ]
    },
    {
      "cell_type": "markdown",
      "metadata": {
        "id": "l3t5JdBmxz8l"
      },
      "source": [
        "**Observations and Insights:_________**"
      ]
    },
    {
      "cell_type": "code",
      "execution_count": null,
      "metadata": {
        "id": "s6C1PAfboM8_",
        "colab": {
          "base_uri": "https://localhost:8080/"
        },
        "outputId": "9bd9685b-dc45-4d95-c418-916544976e5d"
      },
      "outputs": [
        {
          "output_type": "stream",
          "name": "stdout",
          "text": [
            "user: 6958       item: 1671       r_ui = 2.00   est = 1.34   {'was_impossible': False}\n"
          ]
        },
        {
          "output_type": "execute_result",
          "data": {
            "text/plain": [
              "Prediction(uid=6958, iid=1671, r_ui=2, est=1.3401450473713172, details={'was_impossible': False})"
            ]
          },
          "metadata": {},
          "execution_count": 64
        }
      ],
      "source": [
        "# Using svd_algo_optimized model to recommend for userId 6958 and song_id 1671\n",
        "svd_optimized.predict(6958, 1671, r_ui = 2, verbose = True)"
      ]
    },
    {
      "cell_type": "code",
      "execution_count": null,
      "metadata": {
        "id": "k1xjn3kOoQyg",
        "colab": {
          "base_uri": "https://localhost:8080/"
        },
        "outputId": "b1ba2509-a437-463c-fcf1-a18304e8cebd"
      },
      "outputs": [
        {
          "output_type": "stream",
          "name": "stdout",
          "text": [
            "user: 6958       item: 3232       r_ui = None   est = 1.45   {'was_impossible': False}\n"
          ]
        },
        {
          "output_type": "execute_result",
          "data": {
            "text/plain": [
              "Prediction(uid=6958, iid=3232, r_ui=None, est=1.4542438298896128, details={'was_impossible': False})"
            ]
          },
          "metadata": {},
          "execution_count": 65
        }
      ],
      "source": [
        "# Using svd_algo_optimized model to recommend for userId 6958 and song_id 3232 with unknown baseline rating\n",
        "svd_optimized.predict(6958, 3232, verbose = True)"
      ]
    },
    {
      "cell_type": "markdown",
      "metadata": {
        "id": "Qm732Wuvy76R"
      },
      "source": [
        "**Observations and Insights:_________**"
      ]
    },
    {
      "cell_type": "code",
      "execution_count": null,
      "metadata": {
        "id": "1LGeE2EB_n90",
        "colab": {
          "base_uri": "https://localhost:8080/",
          "height": 206
        },
        "outputId": "d57f90e6-723e-4973-cddc-988352a8f503"
      },
      "outputs": [
        {
          "output_type": "execute_result",
          "data": {
            "text/plain": [
              "   song_id  predictd_play_count\n",
              "0     7224             2.584437\n",
              "1     5653             2.023319\n",
              "2     6450             2.006339\n",
              "3     8324             1.969748\n",
              "4     5531             1.945234"
            ],
            "text/html": [
              "\n",
              "  <div id=\"df-18d43cee-fb57-4bde-8bca-24cd5ad5e132\">\n",
              "    <div class=\"colab-df-container\">\n",
              "      <div>\n",
              "<style scoped>\n",
              "    .dataframe tbody tr th:only-of-type {\n",
              "        vertical-align: middle;\n",
              "    }\n",
              "\n",
              "    .dataframe tbody tr th {\n",
              "        vertical-align: top;\n",
              "    }\n",
              "\n",
              "    .dataframe thead th {\n",
              "        text-align: right;\n",
              "    }\n",
              "</style>\n",
              "<table border=\"1\" class=\"dataframe\">\n",
              "  <thead>\n",
              "    <tr style=\"text-align: right;\">\n",
              "      <th></th>\n",
              "      <th>song_id</th>\n",
              "      <th>predictd_play_count</th>\n",
              "    </tr>\n",
              "  </thead>\n",
              "  <tbody>\n",
              "    <tr>\n",
              "      <th>0</th>\n",
              "      <td>7224</td>\n",
              "      <td>2.584437</td>\n",
              "    </tr>\n",
              "    <tr>\n",
              "      <th>1</th>\n",
              "      <td>5653</td>\n",
              "      <td>2.023319</td>\n",
              "    </tr>\n",
              "    <tr>\n",
              "      <th>2</th>\n",
              "      <td>6450</td>\n",
              "      <td>2.006339</td>\n",
              "    </tr>\n",
              "    <tr>\n",
              "      <th>3</th>\n",
              "      <td>8324</td>\n",
              "      <td>1.969748</td>\n",
              "    </tr>\n",
              "    <tr>\n",
              "      <th>4</th>\n",
              "      <td>5531</td>\n",
              "      <td>1.945234</td>\n",
              "    </tr>\n",
              "  </tbody>\n",
              "</table>\n",
              "</div>\n",
              "      <button class=\"colab-df-convert\" onclick=\"convertToInteractive('df-18d43cee-fb57-4bde-8bca-24cd5ad5e132')\"\n",
              "              title=\"Convert this dataframe to an interactive table.\"\n",
              "              style=\"display:none;\">\n",
              "        \n",
              "  <svg xmlns=\"http://www.w3.org/2000/svg\" height=\"24px\"viewBox=\"0 0 24 24\"\n",
              "       width=\"24px\">\n",
              "    <path d=\"M0 0h24v24H0V0z\" fill=\"none\"/>\n",
              "    <path d=\"M18.56 5.44l.94 2.06.94-2.06 2.06-.94-2.06-.94-.94-2.06-.94 2.06-2.06.94zm-11 1L8.5 8.5l.94-2.06 2.06-.94-2.06-.94L8.5 2.5l-.94 2.06-2.06.94zm10 10l.94 2.06.94-2.06 2.06-.94-2.06-.94-.94-2.06-.94 2.06-2.06.94z\"/><path d=\"M17.41 7.96l-1.37-1.37c-.4-.4-.92-.59-1.43-.59-.52 0-1.04.2-1.43.59L10.3 9.45l-7.72 7.72c-.78.78-.78 2.05 0 2.83L4 21.41c.39.39.9.59 1.41.59.51 0 1.02-.2 1.41-.59l7.78-7.78 2.81-2.81c.8-.78.8-2.07 0-2.86zM5.41 20L4 18.59l7.72-7.72 1.47 1.35L5.41 20z\"/>\n",
              "  </svg>\n",
              "      </button>\n",
              "      \n",
              "  <style>\n",
              "    .colab-df-container {\n",
              "      display:flex;\n",
              "      flex-wrap:wrap;\n",
              "      gap: 12px;\n",
              "    }\n",
              "\n",
              "    .colab-df-convert {\n",
              "      background-color: #E8F0FE;\n",
              "      border: none;\n",
              "      border-radius: 50%;\n",
              "      cursor: pointer;\n",
              "      display: none;\n",
              "      fill: #1967D2;\n",
              "      height: 32px;\n",
              "      padding: 0 0 0 0;\n",
              "      width: 32px;\n",
              "    }\n",
              "\n",
              "    .colab-df-convert:hover {\n",
              "      background-color: #E2EBFA;\n",
              "      box-shadow: 0px 1px 2px rgba(60, 64, 67, 0.3), 0px 1px 3px 1px rgba(60, 64, 67, 0.15);\n",
              "      fill: #174EA6;\n",
              "    }\n",
              "\n",
              "    [theme=dark] .colab-df-convert {\n",
              "      background-color: #3B4455;\n",
              "      fill: #D2E3FC;\n",
              "    }\n",
              "\n",
              "    [theme=dark] .colab-df-convert:hover {\n",
              "      background-color: #434B5C;\n",
              "      box-shadow: 0px 1px 3px 1px rgba(0, 0, 0, 0.15);\n",
              "      filter: drop-shadow(0px 1px 2px rgba(0, 0, 0, 0.3));\n",
              "      fill: #FFFFFF;\n",
              "    }\n",
              "  </style>\n",
              "\n",
              "      <script>\n",
              "        const buttonEl =\n",
              "          document.querySelector('#df-18d43cee-fb57-4bde-8bca-24cd5ad5e132 button.colab-df-convert');\n",
              "        buttonEl.style.display =\n",
              "          google.colab.kernel.accessAllowed ? 'block' : 'none';\n",
              "\n",
              "        async function convertToInteractive(key) {\n",
              "          const element = document.querySelector('#df-18d43cee-fb57-4bde-8bca-24cd5ad5e132');\n",
              "          const dataTable =\n",
              "            await google.colab.kernel.invokeFunction('convertToInteractive',\n",
              "                                                     [key], {});\n",
              "          if (!dataTable) return;\n",
              "\n",
              "          const docLinkHtml = 'Like what you see? Visit the ' +\n",
              "            '<a target=\"_blank\" href=https://colab.research.google.com/notebooks/data_table.ipynb>data table notebook</a>'\n",
              "            + ' to learn more about interactive tables.';\n",
              "          element.innerHTML = '';\n",
              "          dataTable['output_type'] = 'display_data';\n",
              "          await google.colab.output.renderOutput(dataTable, element);\n",
              "          const docLink = document.createElement('div');\n",
              "          docLink.innerHTML = docLinkHtml;\n",
              "          element.appendChild(docLink);\n",
              "        }\n",
              "      </script>\n",
              "    </div>\n",
              "  </div>\n",
              "  "
            ]
          },
          "metadata": {},
          "execution_count": 66
        }
      ],
      "source": [
        "# Getting top 5 recommendations for user_id 6958 using \"svd_optimized\" algorithm\n",
        "recommendations = get_recommendations(df_final, 6958, 5, svd_optimized)\n",
        "pd.DataFrame(recommendations, columns = ['song_id', 'predictd_play_count'])"
      ]
    },
    {
      "cell_type": "code",
      "execution_count": null,
      "metadata": {
        "id": "6ngiGSJU818M",
        "colab": {
          "base_uri": "https://localhost:8080/",
          "height": 206
        },
        "outputId": "758c59f3-3595-4264-d96f-3276a35e024c"
      },
      "outputs": [
        {
          "output_type": "execute_result",
          "data": {
            "text/plain": [
              "   song_id  play_freq  predictd_play_count  corrected_play_ccount\n",
              "2     7224        107             2.584437               2.487763\n",
              "1     5653        108             2.023319               1.927094\n",
              "3     6450        102             2.006339               1.907324\n",
              "0     5531        618             1.945234               1.905008\n",
              "4     8324         96             1.969748               1.867686"
            ],
            "text/html": [
              "\n",
              "  <div id=\"df-947eb36b-ee0e-4956-a445-0e30086e1fe9\">\n",
              "    <div class=\"colab-df-container\">\n",
              "      <div>\n",
              "<style scoped>\n",
              "    .dataframe tbody tr th:only-of-type {\n",
              "        vertical-align: middle;\n",
              "    }\n",
              "\n",
              "    .dataframe tbody tr th {\n",
              "        vertical-align: top;\n",
              "    }\n",
              "\n",
              "    .dataframe thead th {\n",
              "        text-align: right;\n",
              "    }\n",
              "</style>\n",
              "<table border=\"1\" class=\"dataframe\">\n",
              "  <thead>\n",
              "    <tr style=\"text-align: right;\">\n",
              "      <th></th>\n",
              "      <th>song_id</th>\n",
              "      <th>play_freq</th>\n",
              "      <th>predictd_play_count</th>\n",
              "      <th>corrected_play_ccount</th>\n",
              "    </tr>\n",
              "  </thead>\n",
              "  <tbody>\n",
              "    <tr>\n",
              "      <th>2</th>\n",
              "      <td>7224</td>\n",
              "      <td>107</td>\n",
              "      <td>2.584437</td>\n",
              "      <td>2.487763</td>\n",
              "    </tr>\n",
              "    <tr>\n",
              "      <th>1</th>\n",
              "      <td>5653</td>\n",
              "      <td>108</td>\n",
              "      <td>2.023319</td>\n",
              "      <td>1.927094</td>\n",
              "    </tr>\n",
              "    <tr>\n",
              "      <th>3</th>\n",
              "      <td>6450</td>\n",
              "      <td>102</td>\n",
              "      <td>2.006339</td>\n",
              "      <td>1.907324</td>\n",
              "    </tr>\n",
              "    <tr>\n",
              "      <th>0</th>\n",
              "      <td>5531</td>\n",
              "      <td>618</td>\n",
              "      <td>1.945234</td>\n",
              "      <td>1.905008</td>\n",
              "    </tr>\n",
              "    <tr>\n",
              "      <th>4</th>\n",
              "      <td>8324</td>\n",
              "      <td>96</td>\n",
              "      <td>1.969748</td>\n",
              "      <td>1.867686</td>\n",
              "    </tr>\n",
              "  </tbody>\n",
              "</table>\n",
              "</div>\n",
              "      <button class=\"colab-df-convert\" onclick=\"convertToInteractive('df-947eb36b-ee0e-4956-a445-0e30086e1fe9')\"\n",
              "              title=\"Convert this dataframe to an interactive table.\"\n",
              "              style=\"display:none;\">\n",
              "        \n",
              "  <svg xmlns=\"http://www.w3.org/2000/svg\" height=\"24px\"viewBox=\"0 0 24 24\"\n",
              "       width=\"24px\">\n",
              "    <path d=\"M0 0h24v24H0V0z\" fill=\"none\"/>\n",
              "    <path d=\"M18.56 5.44l.94 2.06.94-2.06 2.06-.94-2.06-.94-.94-2.06-.94 2.06-2.06.94zm-11 1L8.5 8.5l.94-2.06 2.06-.94-2.06-.94L8.5 2.5l-.94 2.06-2.06.94zm10 10l.94 2.06.94-2.06 2.06-.94-2.06-.94-.94-2.06-.94 2.06-2.06.94z\"/><path d=\"M17.41 7.96l-1.37-1.37c-.4-.4-.92-.59-1.43-.59-.52 0-1.04.2-1.43.59L10.3 9.45l-7.72 7.72c-.78.78-.78 2.05 0 2.83L4 21.41c.39.39.9.59 1.41.59.51 0 1.02-.2 1.41-.59l7.78-7.78 2.81-2.81c.8-.78.8-2.07 0-2.86zM5.41 20L4 18.59l7.72-7.72 1.47 1.35L5.41 20z\"/>\n",
              "  </svg>\n",
              "      </button>\n",
              "      \n",
              "  <style>\n",
              "    .colab-df-container {\n",
              "      display:flex;\n",
              "      flex-wrap:wrap;\n",
              "      gap: 12px;\n",
              "    }\n",
              "\n",
              "    .colab-df-convert {\n",
              "      background-color: #E8F0FE;\n",
              "      border: none;\n",
              "      border-radius: 50%;\n",
              "      cursor: pointer;\n",
              "      display: none;\n",
              "      fill: #1967D2;\n",
              "      height: 32px;\n",
              "      padding: 0 0 0 0;\n",
              "      width: 32px;\n",
              "    }\n",
              "\n",
              "    .colab-df-convert:hover {\n",
              "      background-color: #E2EBFA;\n",
              "      box-shadow: 0px 1px 2px rgba(60, 64, 67, 0.3), 0px 1px 3px 1px rgba(60, 64, 67, 0.15);\n",
              "      fill: #174EA6;\n",
              "    }\n",
              "\n",
              "    [theme=dark] .colab-df-convert {\n",
              "      background-color: #3B4455;\n",
              "      fill: #D2E3FC;\n",
              "    }\n",
              "\n",
              "    [theme=dark] .colab-df-convert:hover {\n",
              "      background-color: #434B5C;\n",
              "      box-shadow: 0px 1px 3px 1px rgba(0, 0, 0, 0.15);\n",
              "      filter: drop-shadow(0px 1px 2px rgba(0, 0, 0, 0.3));\n",
              "      fill: #FFFFFF;\n",
              "    }\n",
              "  </style>\n",
              "\n",
              "      <script>\n",
              "        const buttonEl =\n",
              "          document.querySelector('#df-947eb36b-ee0e-4956-a445-0e30086e1fe9 button.colab-df-convert');\n",
              "        buttonEl.style.display =\n",
              "          google.colab.kernel.accessAllowed ? 'block' : 'none';\n",
              "\n",
              "        async function convertToInteractive(key) {\n",
              "          const element = document.querySelector('#df-947eb36b-ee0e-4956-a445-0e30086e1fe9');\n",
              "          const dataTable =\n",
              "            await google.colab.kernel.invokeFunction('convertToInteractive',\n",
              "                                                     [key], {});\n",
              "          if (!dataTable) return;\n",
              "\n",
              "          const docLinkHtml = 'Like what you see? Visit the ' +\n",
              "            '<a target=\"_blank\" href=https://colab.research.google.com/notebooks/data_table.ipynb>data table notebook</a>'\n",
              "            + ' to learn more about interactive tables.';\n",
              "          element.innerHTML = '';\n",
              "          dataTable['output_type'] = 'display_data';\n",
              "          await google.colab.output.renderOutput(dataTable, element);\n",
              "          const docLink = document.createElement('div');\n",
              "          docLink.innerHTML = docLinkHtml;\n",
              "          element.appendChild(docLink);\n",
              "        }\n",
              "      </script>\n",
              "    </div>\n",
              "  </div>\n",
              "  "
            ]
          },
          "metadata": {},
          "execution_count": 67
        }
      ],
      "source": [
        "# Ranking songs based on above recommendations\n",
        "ranking_songs(recommendations, final_play)"
      ]
    },
    {
      "cell_type": "markdown",
      "metadata": {
        "id": "SepUU1Efy_9Z"
      },
      "source": [
        "**Observations and Insights:_________**"
      ]
    },
    {
      "cell_type": "markdown",
      "metadata": {
        "id": "57b31de5"
      },
      "source": [
        "### Cluster Based Recommendation System"
      ]
    },
    {
      "cell_type": "markdown",
      "metadata": {
        "id": "9Xv2AZCszCdN"
      },
      "source": [
        "In **clustering-based recommendation systems**, we explore the **similarities and differences** in people's tastes in songs based on how they rate different songs. We cluster similar users together and recommend songs to a user based on play_counts from other users in the same cluster."
      ]
    },
    {
      "cell_type": "code",
      "execution_count": null,
      "metadata": {
        "id": "0c4b20e4",
        "colab": {
          "base_uri": "https://localhost:8080/"
        },
        "outputId": "58bd8a8d-2409-4c04-8f2e-09d494323f01"
      },
      "outputs": [
        {
          "output_type": "stream",
          "name": "stdout",
          "text": [
            "RMSE: 1.0487\n",
            "Precision:  0.397\n",
            "Recall:  0.582\n",
            "F_1 score:  0.472\n"
          ]
        }
      ],
      "source": [
        "# Make baseline clustering model\n",
        "clust_baseline = CoClustering(random_state = 1)\n",
        "\n",
        "# Training the algorithm on the train set\n",
        "clust_baseline.fit(trainset)\n",
        "\n",
        "# Let us compute precision@k, recall@k, and F_1 score with k = 10\n",
        "precision_recall_at_k(clust_baseline)"
      ]
    },
    {
      "cell_type": "code",
      "execution_count": null,
      "metadata": {
        "id": "11dbdc0f",
        "colab": {
          "base_uri": "https://localhost:8080/"
        },
        "outputId": "844f21b1-84ce-437a-ae69-fffca8188cc9"
      },
      "outputs": [
        {
          "output_type": "stream",
          "name": "stdout",
          "text": [
            "user: 6958       item: 1671       r_ui = 2.00   est = 1.29   {'was_impossible': False}\n"
          ]
        },
        {
          "output_type": "execute_result",
          "data": {
            "text/plain": [
              "Prediction(uid=6958, iid=1671, r_ui=2, est=1.2941824757363074, details={'was_impossible': False})"
            ]
          },
          "metadata": {},
          "execution_count": 69
        }
      ],
      "source": [
        "# Making prediction for user_id 6958 and song_id 1671\n",
        "clust_baseline.predict(6958, 1671, r_ui = 2, verbose = True)"
      ]
    },
    {
      "cell_type": "code",
      "execution_count": null,
      "metadata": {
        "id": "dab1aaed",
        "colab": {
          "base_uri": "https://localhost:8080/"
        },
        "outputId": "df3c4386-4157-4b58-9674-993f7527e1a1"
      },
      "outputs": [
        {
          "output_type": "stream",
          "name": "stdout",
          "text": [
            "user: 6958       item: 3232       r_ui = None   est = 1.48   {'was_impossible': False}\n"
          ]
        },
        {
          "output_type": "execute_result",
          "data": {
            "text/plain": [
              "Prediction(uid=6958, iid=3232, r_ui=None, est=1.4785259100797417, details={'was_impossible': False})"
            ]
          },
          "metadata": {},
          "execution_count": 70
        }
      ],
      "source": [
        "# Making prediction for user (userid 6958) for a song(song_id 3232) not heard by the user\n",
        "clust_baseline.predict(6958, 3232, verbose = True)"
      ]
    },
    {
      "cell_type": "markdown",
      "metadata": {
        "id": "c2fd66f5"
      },
      "source": [
        "#### Improving clustering-based recommendation system by tuning its hyper-parameters"
      ]
    },
    {
      "cell_type": "code",
      "execution_count": null,
      "metadata": {
        "id": "efe7d8e6",
        "colab": {
          "base_uri": "https://localhost:8080/"
        },
        "outputId": "94a7823c-3670-4cce-ae3b-c1f14653f0f4"
      },
      "outputs": [
        {
          "output_type": "stream",
          "name": "stdout",
          "text": [
            "1.0514000553601932\n",
            "{'n_cltr_u': 4, 'n_cltr_i': 3, 'n_epochs': 30}\n"
          ]
        }
      ],
      "source": [
        "# Set the parameter space to tune\n",
        "param_grid = {'n_cltr_u': [4, 7, 10], 'n_cltr_i': [3, 4, 5], 'n_epochs': [30, 40, 50]}\n",
        "\n",
        "# Performing 3-fold grid search cross-validation\n",
        "gs = GridSearchCV(CoClustering, param_grid, measures = ['rmse'], cv = 3, n_jobs = -1)\n",
        "\n",
        "# Fitting data\n",
        "gs.fit(data)\n",
        "\n",
        "# Best RMSE score\n",
        "print(gs.best_score['rmse'])\n",
        "\n",
        "# Combination of parameters that gave the best RMSE score\n",
        "print(gs.best_params['rmse'])"
      ]
    },
    {
      "cell_type": "markdown",
      "metadata": {
        "id": "CS6aMVJLyj21"
      },
      "source": [
        "**Think About It**: How do the parameters affect the performance of the model? Can we improve the performance of the model further? Check the available hyperparameters [here](https://surprise.readthedocs.io/en/stable/co_clustering.html)."
      ]
    },
    {
      "cell_type": "code",
      "execution_count": null,
      "metadata": {
        "id": "5a7a8a30",
        "colab": {
          "base_uri": "https://localhost:8080/"
        },
        "outputId": "0bec4f03-19d8-43eb-a1b2-432965355d0d"
      },
      "outputs": [
        {
          "output_type": "stream",
          "name": "stdout",
          "text": [
            "RMSE: 1.0580\n",
            "Precision:  0.386\n",
            "Recall:  0.559\n",
            "F_1 score:  0.457\n"
          ]
        }
      ],
      "source": [
        "# Train the tuned Coclustering algorithm\n",
        "clust_tuned = CoClustering(n_cltr_u = 4, n_cltr_i = 3, n_epochs = 40, random_state = 1)\n",
        "\n",
        "# Training the algorithm on the train set\n",
        "clust_tuned.fit(trainset)\n",
        "\n",
        "# Let us compute precision@k, recall@k, and F_1 score with k = 10\n",
        "precision_recall_at_k(clust_tuned)"
      ]
    },
    {
      "cell_type": "markdown",
      "metadata": {
        "id": "l-Jvce1gznKa"
      },
      "source": [
        "**Observations and Insights:_________**"
      ]
    },
    {
      "cell_type": "code",
      "execution_count": null,
      "metadata": {
        "id": "6ba5b26b",
        "colab": {
          "base_uri": "https://localhost:8080/"
        },
        "outputId": "8a502b78-ed74-4c24-a568-d221db23723f"
      },
      "outputs": [
        {
          "output_type": "stream",
          "name": "stdout",
          "text": [
            "user: 6958       item: 1671       r_ui = 2.00   est = 1.78   {'was_impossible': False}\n"
          ]
        },
        {
          "output_type": "execute_result",
          "data": {
            "text/plain": [
              "Prediction(uid=6958, iid=1671, r_ui=2, est=1.7828215217012002, details={'was_impossible': False})"
            ]
          },
          "metadata": {},
          "execution_count": 73
        }
      ],
      "source": [
        "# Using co_clustering_optimized model to recommend for userId 6958 and song_id 1671\n",
        "clust_tuned.predict(6958, 1671, r_ui = 2, verbose = True)"
      ]
    },
    {
      "cell_type": "code",
      "execution_count": null,
      "metadata": {
        "id": "ec582940",
        "colab": {
          "base_uri": "https://localhost:8080/"
        },
        "outputId": "9eac303b-4c01-4fde-fe93-e0b843cad74c"
      },
      "outputs": [
        {
          "output_type": "stream",
          "name": "stdout",
          "text": [
            "user: 6958       item: 3232       r_ui = None   est = 1.04   {'was_impossible': False}\n"
          ]
        },
        {
          "output_type": "execute_result",
          "data": {
            "text/plain": [
              "Prediction(uid=6958, iid=3232, r_ui=None, est=1.0420508164761988, details={'was_impossible': False})"
            ]
          },
          "metadata": {},
          "execution_count": 74
        }
      ],
      "source": [
        "# Use Co_clustering based optimized model to recommend for userId 6958 and song_id 3232 with unknown baseline rating\n",
        "clust_tuned.predict(6958, 3232, verbose = True)"
      ]
    },
    {
      "cell_type": "markdown",
      "metadata": {
        "id": "rjGUSMqrzoDH"
      },
      "source": [
        "**Observations and Insights:_________**"
      ]
    },
    {
      "cell_type": "markdown",
      "metadata": {
        "id": "df9e28ba"
      },
      "source": [
        "#### Implementing the recommendation algorithm based on optimized CoClustering model"
      ]
    },
    {
      "cell_type": "code",
      "execution_count": null,
      "metadata": {
        "id": "e0f36e15",
        "colab": {
          "base_uri": "https://localhost:8080/",
          "height": 206
        },
        "outputId": "00fd7b4f-5131-44af-b29f-66b77df4e145"
      },
      "outputs": [
        {
          "output_type": "execute_result",
          "data": {
            "text/plain": [
              "   song_id  predictd_play_count\n",
              "0     8324             2.800138\n",
              "1     7224             2.679239\n",
              "2     5531             2.613202\n",
              "3      614             2.606239\n",
              "4     6860             2.562976"
            ],
            "text/html": [
              "\n",
              "  <div id=\"df-2315d5b3-dffc-4e1b-a7ac-9eef4c2b8982\">\n",
              "    <div class=\"colab-df-container\">\n",
              "      <div>\n",
              "<style scoped>\n",
              "    .dataframe tbody tr th:only-of-type {\n",
              "        vertical-align: middle;\n",
              "    }\n",
              "\n",
              "    .dataframe tbody tr th {\n",
              "        vertical-align: top;\n",
              "    }\n",
              "\n",
              "    .dataframe thead th {\n",
              "        text-align: right;\n",
              "    }\n",
              "</style>\n",
              "<table border=\"1\" class=\"dataframe\">\n",
              "  <thead>\n",
              "    <tr style=\"text-align: right;\">\n",
              "      <th></th>\n",
              "      <th>song_id</th>\n",
              "      <th>predictd_play_count</th>\n",
              "    </tr>\n",
              "  </thead>\n",
              "  <tbody>\n",
              "    <tr>\n",
              "      <th>0</th>\n",
              "      <td>8324</td>\n",
              "      <td>2.800138</td>\n",
              "    </tr>\n",
              "    <tr>\n",
              "      <th>1</th>\n",
              "      <td>7224</td>\n",
              "      <td>2.679239</td>\n",
              "    </tr>\n",
              "    <tr>\n",
              "      <th>2</th>\n",
              "      <td>5531</td>\n",
              "      <td>2.613202</td>\n",
              "    </tr>\n",
              "    <tr>\n",
              "      <th>3</th>\n",
              "      <td>614</td>\n",
              "      <td>2.606239</td>\n",
              "    </tr>\n",
              "    <tr>\n",
              "      <th>4</th>\n",
              "      <td>6860</td>\n",
              "      <td>2.562976</td>\n",
              "    </tr>\n",
              "  </tbody>\n",
              "</table>\n",
              "</div>\n",
              "      <button class=\"colab-df-convert\" onclick=\"convertToInteractive('df-2315d5b3-dffc-4e1b-a7ac-9eef4c2b8982')\"\n",
              "              title=\"Convert this dataframe to an interactive table.\"\n",
              "              style=\"display:none;\">\n",
              "        \n",
              "  <svg xmlns=\"http://www.w3.org/2000/svg\" height=\"24px\"viewBox=\"0 0 24 24\"\n",
              "       width=\"24px\">\n",
              "    <path d=\"M0 0h24v24H0V0z\" fill=\"none\"/>\n",
              "    <path d=\"M18.56 5.44l.94 2.06.94-2.06 2.06-.94-2.06-.94-.94-2.06-.94 2.06-2.06.94zm-11 1L8.5 8.5l.94-2.06 2.06-.94-2.06-.94L8.5 2.5l-.94 2.06-2.06.94zm10 10l.94 2.06.94-2.06 2.06-.94-2.06-.94-.94-2.06-.94 2.06-2.06.94z\"/><path d=\"M17.41 7.96l-1.37-1.37c-.4-.4-.92-.59-1.43-.59-.52 0-1.04.2-1.43.59L10.3 9.45l-7.72 7.72c-.78.78-.78 2.05 0 2.83L4 21.41c.39.39.9.59 1.41.59.51 0 1.02-.2 1.41-.59l7.78-7.78 2.81-2.81c.8-.78.8-2.07 0-2.86zM5.41 20L4 18.59l7.72-7.72 1.47 1.35L5.41 20z\"/>\n",
              "  </svg>\n",
              "      </button>\n",
              "      \n",
              "  <style>\n",
              "    .colab-df-container {\n",
              "      display:flex;\n",
              "      flex-wrap:wrap;\n",
              "      gap: 12px;\n",
              "    }\n",
              "\n",
              "    .colab-df-convert {\n",
              "      background-color: #E8F0FE;\n",
              "      border: none;\n",
              "      border-radius: 50%;\n",
              "      cursor: pointer;\n",
              "      display: none;\n",
              "      fill: #1967D2;\n",
              "      height: 32px;\n",
              "      padding: 0 0 0 0;\n",
              "      width: 32px;\n",
              "    }\n",
              "\n",
              "    .colab-df-convert:hover {\n",
              "      background-color: #E2EBFA;\n",
              "      box-shadow: 0px 1px 2px rgba(60, 64, 67, 0.3), 0px 1px 3px 1px rgba(60, 64, 67, 0.15);\n",
              "      fill: #174EA6;\n",
              "    }\n",
              "\n",
              "    [theme=dark] .colab-df-convert {\n",
              "      background-color: #3B4455;\n",
              "      fill: #D2E3FC;\n",
              "    }\n",
              "\n",
              "    [theme=dark] .colab-df-convert:hover {\n",
              "      background-color: #434B5C;\n",
              "      box-shadow: 0px 1px 3px 1px rgba(0, 0, 0, 0.15);\n",
              "      filter: drop-shadow(0px 1px 2px rgba(0, 0, 0, 0.3));\n",
              "      fill: #FFFFFF;\n",
              "    }\n",
              "  </style>\n",
              "\n",
              "      <script>\n",
              "        const buttonEl =\n",
              "          document.querySelector('#df-2315d5b3-dffc-4e1b-a7ac-9eef4c2b8982 button.colab-df-convert');\n",
              "        buttonEl.style.display =\n",
              "          google.colab.kernel.accessAllowed ? 'block' : 'none';\n",
              "\n",
              "        async function convertToInteractive(key) {\n",
              "          const element = document.querySelector('#df-2315d5b3-dffc-4e1b-a7ac-9eef4c2b8982');\n",
              "          const dataTable =\n",
              "            await google.colab.kernel.invokeFunction('convertToInteractive',\n",
              "                                                     [key], {});\n",
              "          if (!dataTable) return;\n",
              "\n",
              "          const docLinkHtml = 'Like what you see? Visit the ' +\n",
              "            '<a target=\"_blank\" href=https://colab.research.google.com/notebooks/data_table.ipynb>data table notebook</a>'\n",
              "            + ' to learn more about interactive tables.';\n",
              "          element.innerHTML = '';\n",
              "          dataTable['output_type'] = 'display_data';\n",
              "          await google.colab.output.renderOutput(dataTable, element);\n",
              "          const docLink = document.createElement('div');\n",
              "          docLink.innerHTML = docLinkHtml;\n",
              "          element.appendChild(docLink);\n",
              "        }\n",
              "      </script>\n",
              "    </div>\n",
              "  </div>\n",
              "  "
            ]
          },
          "metadata": {},
          "execution_count": 75
        }
      ],
      "source": [
        "# Getting top 5 recommendations for user_id 6958 using \"Co-clustering based optimized\" algorithm\n",
        "recommendations = get_recommendations(df_final, 6958, 5, clust_tuned)\n",
        "pd.DataFrame(recommendations, columns = ['song_id', 'predictd_play_count'])"
      ]
    },
    {
      "cell_type": "markdown",
      "metadata": {
        "id": "f1696941"
      },
      "source": [
        "### Correcting the play_count and Ranking the above songs"
      ]
    },
    {
      "cell_type": "code",
      "execution_count": null,
      "metadata": {
        "id": "c186f13b",
        "scrolled": true,
        "colab": {
          "base_uri": "https://localhost:8080/",
          "height": 206
        },
        "outputId": "8d442ec0-f7be-4d16-fb38-73b7f7caf07c"
      },
      "outputs": [
        {
          "output_type": "execute_result",
          "data": {
            "text/plain": [
              "   song_id  play_freq  predictd_play_count  corrected_play_ccount\n",
              "4     8324         96             2.800138               2.698075\n",
              "3     7224        107             2.679239               2.582565\n",
              "0     5531        618             2.613202               2.572976\n",
              "1      614        373             2.606239               2.554461\n",
              "2     6860        169             2.562976               2.486053"
            ],
            "text/html": [
              "\n",
              "  <div id=\"df-376ebc70-a770-4f7c-b4a7-e02b5d3ff1a2\">\n",
              "    <div class=\"colab-df-container\">\n",
              "      <div>\n",
              "<style scoped>\n",
              "    .dataframe tbody tr th:only-of-type {\n",
              "        vertical-align: middle;\n",
              "    }\n",
              "\n",
              "    .dataframe tbody tr th {\n",
              "        vertical-align: top;\n",
              "    }\n",
              "\n",
              "    .dataframe thead th {\n",
              "        text-align: right;\n",
              "    }\n",
              "</style>\n",
              "<table border=\"1\" class=\"dataframe\">\n",
              "  <thead>\n",
              "    <tr style=\"text-align: right;\">\n",
              "      <th></th>\n",
              "      <th>song_id</th>\n",
              "      <th>play_freq</th>\n",
              "      <th>predictd_play_count</th>\n",
              "      <th>corrected_play_ccount</th>\n",
              "    </tr>\n",
              "  </thead>\n",
              "  <tbody>\n",
              "    <tr>\n",
              "      <th>4</th>\n",
              "      <td>8324</td>\n",
              "      <td>96</td>\n",
              "      <td>2.800138</td>\n",
              "      <td>2.698075</td>\n",
              "    </tr>\n",
              "    <tr>\n",
              "      <th>3</th>\n",
              "      <td>7224</td>\n",
              "      <td>107</td>\n",
              "      <td>2.679239</td>\n",
              "      <td>2.582565</td>\n",
              "    </tr>\n",
              "    <tr>\n",
              "      <th>0</th>\n",
              "      <td>5531</td>\n",
              "      <td>618</td>\n",
              "      <td>2.613202</td>\n",
              "      <td>2.572976</td>\n",
              "    </tr>\n",
              "    <tr>\n",
              "      <th>1</th>\n",
              "      <td>614</td>\n",
              "      <td>373</td>\n",
              "      <td>2.606239</td>\n",
              "      <td>2.554461</td>\n",
              "    </tr>\n",
              "    <tr>\n",
              "      <th>2</th>\n",
              "      <td>6860</td>\n",
              "      <td>169</td>\n",
              "      <td>2.562976</td>\n",
              "      <td>2.486053</td>\n",
              "    </tr>\n",
              "  </tbody>\n",
              "</table>\n",
              "</div>\n",
              "      <button class=\"colab-df-convert\" onclick=\"convertToInteractive('df-376ebc70-a770-4f7c-b4a7-e02b5d3ff1a2')\"\n",
              "              title=\"Convert this dataframe to an interactive table.\"\n",
              "              style=\"display:none;\">\n",
              "        \n",
              "  <svg xmlns=\"http://www.w3.org/2000/svg\" height=\"24px\"viewBox=\"0 0 24 24\"\n",
              "       width=\"24px\">\n",
              "    <path d=\"M0 0h24v24H0V0z\" fill=\"none\"/>\n",
              "    <path d=\"M18.56 5.44l.94 2.06.94-2.06 2.06-.94-2.06-.94-.94-2.06-.94 2.06-2.06.94zm-11 1L8.5 8.5l.94-2.06 2.06-.94-2.06-.94L8.5 2.5l-.94 2.06-2.06.94zm10 10l.94 2.06.94-2.06 2.06-.94-2.06-.94-.94-2.06-.94 2.06-2.06.94z\"/><path d=\"M17.41 7.96l-1.37-1.37c-.4-.4-.92-.59-1.43-.59-.52 0-1.04.2-1.43.59L10.3 9.45l-7.72 7.72c-.78.78-.78 2.05 0 2.83L4 21.41c.39.39.9.59 1.41.59.51 0 1.02-.2 1.41-.59l7.78-7.78 2.81-2.81c.8-.78.8-2.07 0-2.86zM5.41 20L4 18.59l7.72-7.72 1.47 1.35L5.41 20z\"/>\n",
              "  </svg>\n",
              "      </button>\n",
              "      \n",
              "  <style>\n",
              "    .colab-df-container {\n",
              "      display:flex;\n",
              "      flex-wrap:wrap;\n",
              "      gap: 12px;\n",
              "    }\n",
              "\n",
              "    .colab-df-convert {\n",
              "      background-color: #E8F0FE;\n",
              "      border: none;\n",
              "      border-radius: 50%;\n",
              "      cursor: pointer;\n",
              "      display: none;\n",
              "      fill: #1967D2;\n",
              "      height: 32px;\n",
              "      padding: 0 0 0 0;\n",
              "      width: 32px;\n",
              "    }\n",
              "\n",
              "    .colab-df-convert:hover {\n",
              "      background-color: #E2EBFA;\n",
              "      box-shadow: 0px 1px 2px rgba(60, 64, 67, 0.3), 0px 1px 3px 1px rgba(60, 64, 67, 0.15);\n",
              "      fill: #174EA6;\n",
              "    }\n",
              "\n",
              "    [theme=dark] .colab-df-convert {\n",
              "      background-color: #3B4455;\n",
              "      fill: #D2E3FC;\n",
              "    }\n",
              "\n",
              "    [theme=dark] .colab-df-convert:hover {\n",
              "      background-color: #434B5C;\n",
              "      box-shadow: 0px 1px 3px 1px rgba(0, 0, 0, 0.15);\n",
              "      filter: drop-shadow(0px 1px 2px rgba(0, 0, 0, 0.3));\n",
              "      fill: #FFFFFF;\n",
              "    }\n",
              "  </style>\n",
              "\n",
              "      <script>\n",
              "        const buttonEl =\n",
              "          document.querySelector('#df-376ebc70-a770-4f7c-b4a7-e02b5d3ff1a2 button.colab-df-convert');\n",
              "        buttonEl.style.display =\n",
              "          google.colab.kernel.accessAllowed ? 'block' : 'none';\n",
              "\n",
              "        async function convertToInteractive(key) {\n",
              "          const element = document.querySelector('#df-376ebc70-a770-4f7c-b4a7-e02b5d3ff1a2');\n",
              "          const dataTable =\n",
              "            await google.colab.kernel.invokeFunction('convertToInteractive',\n",
              "                                                     [key], {});\n",
              "          if (!dataTable) return;\n",
              "\n",
              "          const docLinkHtml = 'Like what you see? Visit the ' +\n",
              "            '<a target=\"_blank\" href=https://colab.research.google.com/notebooks/data_table.ipynb>data table notebook</a>'\n",
              "            + ' to learn more about interactive tables.';\n",
              "          element.innerHTML = '';\n",
              "          dataTable['output_type'] = 'display_data';\n",
              "          await google.colab.output.renderOutput(dataTable, element);\n",
              "          const docLink = document.createElement('div');\n",
              "          docLink.innerHTML = docLinkHtml;\n",
              "          element.appendChild(docLink);\n",
              "        }\n",
              "      </script>\n",
              "    </div>\n",
              "  </div>\n",
              "  "
            ]
          },
          "metadata": {},
          "execution_count": 76
        }
      ],
      "source": [
        "# Ranking songs based on the above recommendations\n",
        "ranking_songs(recommendations, final_play)"
      ]
    },
    {
      "cell_type": "markdown",
      "metadata": {
        "id": "_uJ_nZjBzvKH"
      },
      "source": [
        "**Observations and Insights:_________**"
      ]
    },
    {
      "cell_type": "markdown",
      "metadata": {
        "id": "5U56oSNsR-F2"
      },
      "source": [
        "### Content Based Recommendation Systems"
      ]
    },
    {
      "cell_type": "markdown",
      "metadata": {
        "id": "9aTEqaOjhoEg"
      },
      "source": [
        "**Think About It:** So far we have only used the play_count of songs to find recommendations but we have other information/features on songs as well. Can we take those song features into account?"
      ]
    },
    {
      "cell_type": "code",
      "execution_count": null,
      "metadata": {
        "id": "RhUx2jgp4frC"
      },
      "outputs": [],
      "source": [
        "\n"
      ]
    },
    {
      "cell_type": "code",
      "execution_count": null,
      "metadata": {
        "id": "UX826CsjR-F3",
        "colab": {
          "base_uri": "https://localhost:8080/",
          "height": 206
        },
        "outputId": "021da1a0-d93c-480e-e599-7d280bc0a1ff"
      },
      "outputs": [
        {
          "output_type": "execute_result",
          "data": {
            "text/plain": [
              "     user_id  song_id  play_count                            title  \\\n",
              "200     6958      447           1               Daisy And Prudence   \n",
              "202     6958      512           1  The Ballad of Michael Valentine   \n",
              "203     6958      549           1        I Stand Corrected (Album)   \n",
              "204     6958      703           1            They Might Follow You   \n",
              "205     6958      719           1                       Monkey Man   \n",
              "\n",
              "                  release      artist_name  year  \\\n",
              "200          Distillation     Erin McKeown  2000   \n",
              "202               Sawdust      The Killers  2004   \n",
              "203       Vampire Weekend  Vampire Weekend  2007   \n",
              "204           Tiny Vipers      Tiny Vipers  2007   \n",
              "205  You Know I'm No Good    Amy Winehouse  2007   \n",
              "\n",
              "                                                  text  \n",
              "200       Daisy And Prudence Distillation Erin McKeown  \n",
              "202  The Ballad of Michael Valentine Sawdust The Ki...  \n",
              "203  I Stand Corrected (Album) Vampire Weekend Vamp...  \n",
              "204      They Might Follow You Tiny Vipers Tiny Vipers  \n",
              "205      Monkey Man You Know I'm No Good Amy Winehouse  "
            ],
            "text/html": [
              "\n",
              "  <div id=\"df-39536d52-0585-48a7-bd65-0e54b095dd7c\">\n",
              "    <div class=\"colab-df-container\">\n",
              "      <div>\n",
              "<style scoped>\n",
              "    .dataframe tbody tr th:only-of-type {\n",
              "        vertical-align: middle;\n",
              "    }\n",
              "\n",
              "    .dataframe tbody tr th {\n",
              "        vertical-align: top;\n",
              "    }\n",
              "\n",
              "    .dataframe thead th {\n",
              "        text-align: right;\n",
              "    }\n",
              "</style>\n",
              "<table border=\"1\" class=\"dataframe\">\n",
              "  <thead>\n",
              "    <tr style=\"text-align: right;\">\n",
              "      <th></th>\n",
              "      <th>user_id</th>\n",
              "      <th>song_id</th>\n",
              "      <th>play_count</th>\n",
              "      <th>title</th>\n",
              "      <th>release</th>\n",
              "      <th>artist_name</th>\n",
              "      <th>year</th>\n",
              "      <th>text</th>\n",
              "    </tr>\n",
              "  </thead>\n",
              "  <tbody>\n",
              "    <tr>\n",
              "      <th>200</th>\n",
              "      <td>6958</td>\n",
              "      <td>447</td>\n",
              "      <td>1</td>\n",
              "      <td>Daisy And Prudence</td>\n",
              "      <td>Distillation</td>\n",
              "      <td>Erin McKeown</td>\n",
              "      <td>2000</td>\n",
              "      <td>Daisy And Prudence Distillation Erin McKeown</td>\n",
              "    </tr>\n",
              "    <tr>\n",
              "      <th>202</th>\n",
              "      <td>6958</td>\n",
              "      <td>512</td>\n",
              "      <td>1</td>\n",
              "      <td>The Ballad of Michael Valentine</td>\n",
              "      <td>Sawdust</td>\n",
              "      <td>The Killers</td>\n",
              "      <td>2004</td>\n",
              "      <td>The Ballad of Michael Valentine Sawdust The Ki...</td>\n",
              "    </tr>\n",
              "    <tr>\n",
              "      <th>203</th>\n",
              "      <td>6958</td>\n",
              "      <td>549</td>\n",
              "      <td>1</td>\n",
              "      <td>I Stand Corrected (Album)</td>\n",
              "      <td>Vampire Weekend</td>\n",
              "      <td>Vampire Weekend</td>\n",
              "      <td>2007</td>\n",
              "      <td>I Stand Corrected (Album) Vampire Weekend Vamp...</td>\n",
              "    </tr>\n",
              "    <tr>\n",
              "      <th>204</th>\n",
              "      <td>6958</td>\n",
              "      <td>703</td>\n",
              "      <td>1</td>\n",
              "      <td>They Might Follow You</td>\n",
              "      <td>Tiny Vipers</td>\n",
              "      <td>Tiny Vipers</td>\n",
              "      <td>2007</td>\n",
              "      <td>They Might Follow You Tiny Vipers Tiny Vipers</td>\n",
              "    </tr>\n",
              "    <tr>\n",
              "      <th>205</th>\n",
              "      <td>6958</td>\n",
              "      <td>719</td>\n",
              "      <td>1</td>\n",
              "      <td>Monkey Man</td>\n",
              "      <td>You Know I'm No Good</td>\n",
              "      <td>Amy Winehouse</td>\n",
              "      <td>2007</td>\n",
              "      <td>Monkey Man You Know I'm No Good Amy Winehouse</td>\n",
              "    </tr>\n",
              "  </tbody>\n",
              "</table>\n",
              "</div>\n",
              "      <button class=\"colab-df-convert\" onclick=\"convertToInteractive('df-39536d52-0585-48a7-bd65-0e54b095dd7c')\"\n",
              "              title=\"Convert this dataframe to an interactive table.\"\n",
              "              style=\"display:none;\">\n",
              "        \n",
              "  <svg xmlns=\"http://www.w3.org/2000/svg\" height=\"24px\"viewBox=\"0 0 24 24\"\n",
              "       width=\"24px\">\n",
              "    <path d=\"M0 0h24v24H0V0z\" fill=\"none\"/>\n",
              "    <path d=\"M18.56 5.44l.94 2.06.94-2.06 2.06-.94-2.06-.94-.94-2.06-.94 2.06-2.06.94zm-11 1L8.5 8.5l.94-2.06 2.06-.94-2.06-.94L8.5 2.5l-.94 2.06-2.06.94zm10 10l.94 2.06.94-2.06 2.06-.94-2.06-.94-.94-2.06-.94 2.06-2.06.94z\"/><path d=\"M17.41 7.96l-1.37-1.37c-.4-.4-.92-.59-1.43-.59-.52 0-1.04.2-1.43.59L10.3 9.45l-7.72 7.72c-.78.78-.78 2.05 0 2.83L4 21.41c.39.39.9.59 1.41.59.51 0 1.02-.2 1.41-.59l7.78-7.78 2.81-2.81c.8-.78.8-2.07 0-2.86zM5.41 20L4 18.59l7.72-7.72 1.47 1.35L5.41 20z\"/>\n",
              "  </svg>\n",
              "      </button>\n",
              "      \n",
              "  <style>\n",
              "    .colab-df-container {\n",
              "      display:flex;\n",
              "      flex-wrap:wrap;\n",
              "      gap: 12px;\n",
              "    }\n",
              "\n",
              "    .colab-df-convert {\n",
              "      background-color: #E8F0FE;\n",
              "      border: none;\n",
              "      border-radius: 50%;\n",
              "      cursor: pointer;\n",
              "      display: none;\n",
              "      fill: #1967D2;\n",
              "      height: 32px;\n",
              "      padding: 0 0 0 0;\n",
              "      width: 32px;\n",
              "    }\n",
              "\n",
              "    .colab-df-convert:hover {\n",
              "      background-color: #E2EBFA;\n",
              "      box-shadow: 0px 1px 2px rgba(60, 64, 67, 0.3), 0px 1px 3px 1px rgba(60, 64, 67, 0.15);\n",
              "      fill: #174EA6;\n",
              "    }\n",
              "\n",
              "    [theme=dark] .colab-df-convert {\n",
              "      background-color: #3B4455;\n",
              "      fill: #D2E3FC;\n",
              "    }\n",
              "\n",
              "    [theme=dark] .colab-df-convert:hover {\n",
              "      background-color: #434B5C;\n",
              "      box-shadow: 0px 1px 3px 1px rgba(0, 0, 0, 0.15);\n",
              "      filter: drop-shadow(0px 1px 2px rgba(0, 0, 0, 0.3));\n",
              "      fill: #FFFFFF;\n",
              "    }\n",
              "  </style>\n",
              "\n",
              "      <script>\n",
              "        const buttonEl =\n",
              "          document.querySelector('#df-39536d52-0585-48a7-bd65-0e54b095dd7c button.colab-df-convert');\n",
              "        buttonEl.style.display =\n",
              "          google.colab.kernel.accessAllowed ? 'block' : 'none';\n",
              "\n",
              "        async function convertToInteractive(key) {\n",
              "          const element = document.querySelector('#df-39536d52-0585-48a7-bd65-0e54b095dd7c');\n",
              "          const dataTable =\n",
              "            await google.colab.kernel.invokeFunction('convertToInteractive',\n",
              "                                                     [key], {});\n",
              "          if (!dataTable) return;\n",
              "\n",
              "          const docLinkHtml = 'Like what you see? Visit the ' +\n",
              "            '<a target=\"_blank\" href=https://colab.research.google.com/notebooks/data_table.ipynb>data table notebook</a>'\n",
              "            + ' to learn more about interactive tables.';\n",
              "          element.innerHTML = '';\n",
              "          dataTable['output_type'] = 'display_data';\n",
              "          await google.colab.output.renderOutput(dataTable, element);\n",
              "          const docLink = document.createElement('div');\n",
              "          docLink.innerHTML = docLinkHtml;\n",
              "          element.appendChild(docLink);\n",
              "        }\n",
              "      </script>\n",
              "    </div>\n",
              "  </div>\n",
              "  "
            ]
          },
          "metadata": {},
          "execution_count": 77
        }
      ],
      "source": [
        "# Concatenate the \"title\", \"release\", \"artist_name\" columns to create a different column named \"text\"\n",
        "df_final['text'] = df_final['title'] + ' ' + df_final['release'] + ' ' + df_final['artist_name']\n",
        "df_final.head()"
      ]
    },
    {
      "cell_type": "code",
      "execution_count": null,
      "metadata": {
        "id": "WdXw4U-wR-F4",
        "colab": {
          "base_uri": "https://localhost:8080/",
          "height": 238
        },
        "outputId": "714d0d7f-a923-4e63-88d0-802e336177cf"
      },
      "outputs": [
        {
          "output_type": "execute_result",
          "data": {
            "text/plain": [
              "                                 user_id  song_id  play_count  \\\n",
              "title                                                           \n",
              "Daisy And Prudence                  6958      447           1   \n",
              "The Ballad of Michael Valentine     6958      512           1   \n",
              "I Stand Corrected (Album)           6958      549           1   \n",
              "They Might Follow You               6958      703           1   \n",
              "Monkey Man                          6958      719           1   \n",
              "\n",
              "                                                                              text  \n",
              "title                                                                               \n",
              "Daisy And Prudence                    Daisy And Prudence Distillation Erin McKeown  \n",
              "The Ballad of Michael Valentine  The Ballad of Michael Valentine Sawdust The Ki...  \n",
              "I Stand Corrected (Album)        I Stand Corrected (Album) Vampire Weekend Vamp...  \n",
              "They Might Follow You                They Might Follow You Tiny Vipers Tiny Vipers  \n",
              "Monkey Man                           Monkey Man You Know I'm No Good Amy Winehouse  "
            ],
            "text/html": [
              "\n",
              "  <div id=\"df-f7d6e16a-238e-439f-bd91-02bfc0aa189c\">\n",
              "    <div class=\"colab-df-container\">\n",
              "      <div>\n",
              "<style scoped>\n",
              "    .dataframe tbody tr th:only-of-type {\n",
              "        vertical-align: middle;\n",
              "    }\n",
              "\n",
              "    .dataframe tbody tr th {\n",
              "        vertical-align: top;\n",
              "    }\n",
              "\n",
              "    .dataframe thead th {\n",
              "        text-align: right;\n",
              "    }\n",
              "</style>\n",
              "<table border=\"1\" class=\"dataframe\">\n",
              "  <thead>\n",
              "    <tr style=\"text-align: right;\">\n",
              "      <th></th>\n",
              "      <th>user_id</th>\n",
              "      <th>song_id</th>\n",
              "      <th>play_count</th>\n",
              "      <th>text</th>\n",
              "    </tr>\n",
              "    <tr>\n",
              "      <th>title</th>\n",
              "      <th></th>\n",
              "      <th></th>\n",
              "      <th></th>\n",
              "      <th></th>\n",
              "    </tr>\n",
              "  </thead>\n",
              "  <tbody>\n",
              "    <tr>\n",
              "      <th>Daisy And Prudence</th>\n",
              "      <td>6958</td>\n",
              "      <td>447</td>\n",
              "      <td>1</td>\n",
              "      <td>Daisy And Prudence Distillation Erin McKeown</td>\n",
              "    </tr>\n",
              "    <tr>\n",
              "      <th>The Ballad of Michael Valentine</th>\n",
              "      <td>6958</td>\n",
              "      <td>512</td>\n",
              "      <td>1</td>\n",
              "      <td>The Ballad of Michael Valentine Sawdust The Ki...</td>\n",
              "    </tr>\n",
              "    <tr>\n",
              "      <th>I Stand Corrected (Album)</th>\n",
              "      <td>6958</td>\n",
              "      <td>549</td>\n",
              "      <td>1</td>\n",
              "      <td>I Stand Corrected (Album) Vampire Weekend Vamp...</td>\n",
              "    </tr>\n",
              "    <tr>\n",
              "      <th>They Might Follow You</th>\n",
              "      <td>6958</td>\n",
              "      <td>703</td>\n",
              "      <td>1</td>\n",
              "      <td>They Might Follow You Tiny Vipers Tiny Vipers</td>\n",
              "    </tr>\n",
              "    <tr>\n",
              "      <th>Monkey Man</th>\n",
              "      <td>6958</td>\n",
              "      <td>719</td>\n",
              "      <td>1</td>\n",
              "      <td>Monkey Man You Know I'm No Good Amy Winehouse</td>\n",
              "    </tr>\n",
              "  </tbody>\n",
              "</table>\n",
              "</div>\n",
              "      <button class=\"colab-df-convert\" onclick=\"convertToInteractive('df-f7d6e16a-238e-439f-bd91-02bfc0aa189c')\"\n",
              "              title=\"Convert this dataframe to an interactive table.\"\n",
              "              style=\"display:none;\">\n",
              "        \n",
              "  <svg xmlns=\"http://www.w3.org/2000/svg\" height=\"24px\"viewBox=\"0 0 24 24\"\n",
              "       width=\"24px\">\n",
              "    <path d=\"M0 0h24v24H0V0z\" fill=\"none\"/>\n",
              "    <path d=\"M18.56 5.44l.94 2.06.94-2.06 2.06-.94-2.06-.94-.94-2.06-.94 2.06-2.06.94zm-11 1L8.5 8.5l.94-2.06 2.06-.94-2.06-.94L8.5 2.5l-.94 2.06-2.06.94zm10 10l.94 2.06.94-2.06 2.06-.94-2.06-.94-.94-2.06-.94 2.06-2.06.94z\"/><path d=\"M17.41 7.96l-1.37-1.37c-.4-.4-.92-.59-1.43-.59-.52 0-1.04.2-1.43.59L10.3 9.45l-7.72 7.72c-.78.78-.78 2.05 0 2.83L4 21.41c.39.39.9.59 1.41.59.51 0 1.02-.2 1.41-.59l7.78-7.78 2.81-2.81c.8-.78.8-2.07 0-2.86zM5.41 20L4 18.59l7.72-7.72 1.47 1.35L5.41 20z\"/>\n",
              "  </svg>\n",
              "      </button>\n",
              "      \n",
              "  <style>\n",
              "    .colab-df-container {\n",
              "      display:flex;\n",
              "      flex-wrap:wrap;\n",
              "      gap: 12px;\n",
              "    }\n",
              "\n",
              "    .colab-df-convert {\n",
              "      background-color: #E8F0FE;\n",
              "      border: none;\n",
              "      border-radius: 50%;\n",
              "      cursor: pointer;\n",
              "      display: none;\n",
              "      fill: #1967D2;\n",
              "      height: 32px;\n",
              "      padding: 0 0 0 0;\n",
              "      width: 32px;\n",
              "    }\n",
              "\n",
              "    .colab-df-convert:hover {\n",
              "      background-color: #E2EBFA;\n",
              "      box-shadow: 0px 1px 2px rgba(60, 64, 67, 0.3), 0px 1px 3px 1px rgba(60, 64, 67, 0.15);\n",
              "      fill: #174EA6;\n",
              "    }\n",
              "\n",
              "    [theme=dark] .colab-df-convert {\n",
              "      background-color: #3B4455;\n",
              "      fill: #D2E3FC;\n",
              "    }\n",
              "\n",
              "    [theme=dark] .colab-df-convert:hover {\n",
              "      background-color: #434B5C;\n",
              "      box-shadow: 0px 1px 3px 1px rgba(0, 0, 0, 0.15);\n",
              "      filter: drop-shadow(0px 1px 2px rgba(0, 0, 0, 0.3));\n",
              "      fill: #FFFFFF;\n",
              "    }\n",
              "  </style>\n",
              "\n",
              "      <script>\n",
              "        const buttonEl =\n",
              "          document.querySelector('#df-f7d6e16a-238e-439f-bd91-02bfc0aa189c button.colab-df-convert');\n",
              "        buttonEl.style.display =\n",
              "          google.colab.kernel.accessAllowed ? 'block' : 'none';\n",
              "\n",
              "        async function convertToInteractive(key) {\n",
              "          const element = document.querySelector('#df-f7d6e16a-238e-439f-bd91-02bfc0aa189c');\n",
              "          const dataTable =\n",
              "            await google.colab.kernel.invokeFunction('convertToInteractive',\n",
              "                                                     [key], {});\n",
              "          if (!dataTable) return;\n",
              "\n",
              "          const docLinkHtml = 'Like what you see? Visit the ' +\n",
              "            '<a target=\"_blank\" href=https://colab.research.google.com/notebooks/data_table.ipynb>data table notebook</a>'\n",
              "            + ' to learn more about interactive tables.';\n",
              "          element.innerHTML = '';\n",
              "          dataTable['output_type'] = 'display_data';\n",
              "          await google.colab.output.renderOutput(dataTable, element);\n",
              "          const docLink = document.createElement('div');\n",
              "          docLink.innerHTML = docLinkHtml;\n",
              "          element.appendChild(docLink);\n",
              "        }\n",
              "      </script>\n",
              "    </div>\n",
              "  </div>\n",
              "  "
            ]
          },
          "metadata": {},
          "execution_count": 78
        }
      ],
      "source": [
        "# Select the columns 'user_id', 'song_id', 'play_count', 'title', 'text' from df_small data\n",
        "df_small = df_final[['user_id', 'song_id', 'play_count', 'title', 'text']]\n",
        "\n",
        "# Drop the duplicates from the title column\n",
        "df_small = df_small.drop_duplicates(subset = ['title'])\n",
        "\n",
        "# Set the title column as the index\n",
        "df_small = df_small.set_index('title')\n",
        "\n",
        "# See the first 5 records of the df_small dataset\n",
        "df_small.head()"
      ]
    },
    {
      "cell_type": "code",
      "execution_count": null,
      "metadata": {
        "id": "qDcYHwZTR-F5"
      },
      "outputs": [],
      "source": [
        "# Create the series of indices from the data\n"
      ]
    },
    {
      "cell_type": "code",
      "execution_count": null,
      "metadata": {
        "id": "9UINF3Nwvwfr",
        "colab": {
          "base_uri": "https://localhost:8080/"
        },
        "outputId": "463f5aaf-77d9-478b-c441-f5658f6eafa7"
      },
      "outputs": [
        {
          "output_type": "stream",
          "name": "stderr",
          "text": [
            "[nltk_data] Downloading package omw-1.4 to /root/nltk_data...\n",
            "[nltk_data] Downloading package punkt to /root/nltk_data...\n",
            "[nltk_data]   Unzipping tokenizers/punkt.zip.\n",
            "[nltk_data] Downloading package stopwords to /root/nltk_data...\n",
            "[nltk_data]   Unzipping corpora/stopwords.zip.\n",
            "[nltk_data] Downloading package wordnet to /root/nltk_data...\n"
          ]
        }
      ],
      "source": [
        "# Importing necessary packages to work with text data\n",
        "import nltk\n",
        "nltk.download('omw-1.4')\n",
        "\n",
        "# Download punkt library\n",
        "nltk.download('punkt')\n",
        "\n",
        "# Download stopwords library\n",
        "nltk.download('stopwords')\n",
        "\n",
        "# Download wordnet\n",
        "nltk.download('wordnet')\n",
        "\n",
        "# Import regular expression\n",
        "import re\n",
        "\n",
        "# Import word_tokenizer\n",
        "from nltk import word_tokenize\n",
        "\n",
        "# Import WordNetLemmatizer\n",
        "from nltk.stem import WordNetLemmatizer\n",
        "\n",
        "# Import stopwords\n",
        "from nltk.corpus import stopwords\n",
        "\n",
        "# Import CountVectorizer and TfidfVectorizer\n",
        "from sklearn.feature_extraction.text import TfidfVectorizer"
      ]
    },
    {
      "cell_type": "markdown",
      "metadata": {
        "id": "Jt2vitlnhoEg"
      },
      "source": [
        "We will create a **function to pre-process the text data:**"
      ]
    },
    {
      "cell_type": "code",
      "execution_count": null,
      "metadata": {
        "id": "j5QSSeUvR-F6"
      },
      "outputs": [],
      "source": [
        "# Create a function to tokenize the text\n",
        "def tokenize(text):\n",
        "\n",
        "    # Making each letter as lowercase and removing non-alphabetical text\n",
        "    text = re.sub(r\"[^a-zA-Z]\",\" \", text.lower())\n",
        "\n",
        "    # Extracting each word in the text\n",
        "    tokens = word_tokenize(text)\n",
        "\n",
        "    # Removing stopwords\n",
        "    words = [word for word in tokens if word not in stopwords.words(\"english\")]\n",
        "\n",
        "    # Lemmatize the words\n",
        "    text_lems = [WordNetLemmatizer().lemmatize(lem).strip() for lem in words]\n",
        "\n",
        "    return text_lems"
      ]
    },
    {
      "cell_type": "code",
      "execution_count": null,
      "metadata": {
        "id": "RI_onIGdR-F6",
        "colab": {
          "base_uri": "https://localhost:8080/",
          "height": 424
        },
        "outputId": "2e290990-d061-4aab-b2c7-5ecae3dec4d6"
      },
      "outputs": [
        {
          "output_type": "execute_result",
          "data": {
            "text/plain": [
              "     0     1     2     3     4     5     6     7     8     9     ...  1427  \\\n",
              "0     0.0   0.0   0.0   0.0   0.0   0.0   0.0   0.0   0.0   0.0  ...   0.0   \n",
              "1     0.0   0.0   0.0   0.0   0.0   0.0   0.0   0.0   0.0   0.0  ...   0.0   \n",
              "2     0.0   0.0   0.0   0.0   0.0   0.0   0.0   0.0   0.0   0.0  ...   0.0   \n",
              "3     0.0   0.0   0.0   0.0   0.0   0.0   0.0   0.0   0.0   0.0  ...   0.0   \n",
              "4     0.0   0.0   0.0   0.0   0.0   0.0   0.0   0.0   0.0   0.0  ...   0.0   \n",
              "..    ...   ...   ...   ...   ...   ...   ...   ...   ...   ...  ...   ...   \n",
              "556   0.0   0.0   0.0   0.0   0.0   0.0   0.0   0.0   0.0   0.0  ...   0.0   \n",
              "557   0.0   0.0   0.0   0.0   0.0   0.0   0.0   0.0   0.0   0.0  ...   0.0   \n",
              "558   0.0   0.0   0.0   0.0   0.0   0.0   0.0   0.0   0.0   0.0  ...   0.0   \n",
              "559   0.0   0.0   0.0   0.0   0.0   0.0   0.0   0.0   0.0   0.0  ...   0.0   \n",
              "560   0.0   0.0   0.0   0.0   0.0   0.0   0.0   0.0   0.0   0.0  ...   0.0   \n",
              "\n",
              "     1428  1429  1430  1431  1432  1433  1434  1435  1436  \n",
              "0     0.0   0.0   0.0   0.0   0.0   0.0   0.0   0.0   0.0  \n",
              "1     0.0   0.0   0.0   0.0   0.0   0.0   0.0   0.0   0.0  \n",
              "2     0.0   0.0   0.0   0.0   0.0   0.0   0.0   0.0   0.0  \n",
              "3     0.0   0.0   0.0   0.0   0.0   0.0   0.0   0.0   0.0  \n",
              "4     0.0   0.0   0.0   0.0   0.0   0.0   0.0   0.0   0.0  \n",
              "..    ...   ...   ...   ...   ...   ...   ...   ...   ...  \n",
              "556   0.0   0.0   0.0   0.0   0.0   0.0   0.0   0.0   0.0  \n",
              "557   0.0   0.0   0.0   0.0   0.0   0.0   0.0   0.0   0.0  \n",
              "558   0.0   0.0   0.0   0.0   0.0   0.0   0.0   0.0   0.0  \n",
              "559   0.0   0.0   0.0   0.0   0.0   0.0   0.0   0.0   0.0  \n",
              "560   0.0   0.0   0.0   0.0   0.0   0.0   0.0   0.0   0.0  \n",
              "\n",
              "[561 rows x 1437 columns]"
            ],
            "text/html": [
              "\n",
              "  <div id=\"df-1324f15d-0f52-4d0d-a50f-d0a514227d00\">\n",
              "    <div class=\"colab-df-container\">\n",
              "      <div>\n",
              "<style scoped>\n",
              "    .dataframe tbody tr th:only-of-type {\n",
              "        vertical-align: middle;\n",
              "    }\n",
              "\n",
              "    .dataframe tbody tr th {\n",
              "        vertical-align: top;\n",
              "    }\n",
              "\n",
              "    .dataframe thead th {\n",
              "        text-align: right;\n",
              "    }\n",
              "</style>\n",
              "<table border=\"1\" class=\"dataframe\">\n",
              "  <thead>\n",
              "    <tr style=\"text-align: right;\">\n",
              "      <th></th>\n",
              "      <th>0</th>\n",
              "      <th>1</th>\n",
              "      <th>2</th>\n",
              "      <th>3</th>\n",
              "      <th>4</th>\n",
              "      <th>5</th>\n",
              "      <th>6</th>\n",
              "      <th>7</th>\n",
              "      <th>8</th>\n",
              "      <th>9</th>\n",
              "      <th>...</th>\n",
              "      <th>1427</th>\n",
              "      <th>1428</th>\n",
              "      <th>1429</th>\n",
              "      <th>1430</th>\n",
              "      <th>1431</th>\n",
              "      <th>1432</th>\n",
              "      <th>1433</th>\n",
              "      <th>1434</th>\n",
              "      <th>1435</th>\n",
              "      <th>1436</th>\n",
              "    </tr>\n",
              "  </thead>\n",
              "  <tbody>\n",
              "    <tr>\n",
              "      <th>0</th>\n",
              "      <td>0.0</td>\n",
              "      <td>0.0</td>\n",
              "      <td>0.0</td>\n",
              "      <td>0.0</td>\n",
              "      <td>0.0</td>\n",
              "      <td>0.0</td>\n",
              "      <td>0.0</td>\n",
              "      <td>0.0</td>\n",
              "      <td>0.0</td>\n",
              "      <td>0.0</td>\n",
              "      <td>...</td>\n",
              "      <td>0.0</td>\n",
              "      <td>0.0</td>\n",
              "      <td>0.0</td>\n",
              "      <td>0.0</td>\n",
              "      <td>0.0</td>\n",
              "      <td>0.0</td>\n",
              "      <td>0.0</td>\n",
              "      <td>0.0</td>\n",
              "      <td>0.0</td>\n",
              "      <td>0.0</td>\n",
              "    </tr>\n",
              "    <tr>\n",
              "      <th>1</th>\n",
              "      <td>0.0</td>\n",
              "      <td>0.0</td>\n",
              "      <td>0.0</td>\n",
              "      <td>0.0</td>\n",
              "      <td>0.0</td>\n",
              "      <td>0.0</td>\n",
              "      <td>0.0</td>\n",
              "      <td>0.0</td>\n",
              "      <td>0.0</td>\n",
              "      <td>0.0</td>\n",
              "      <td>...</td>\n",
              "      <td>0.0</td>\n",
              "      <td>0.0</td>\n",
              "      <td>0.0</td>\n",
              "      <td>0.0</td>\n",
              "      <td>0.0</td>\n",
              "      <td>0.0</td>\n",
              "      <td>0.0</td>\n",
              "      <td>0.0</td>\n",
              "      <td>0.0</td>\n",
              "      <td>0.0</td>\n",
              "    </tr>\n",
              "    <tr>\n",
              "      <th>2</th>\n",
              "      <td>0.0</td>\n",
              "      <td>0.0</td>\n",
              "      <td>0.0</td>\n",
              "      <td>0.0</td>\n",
              "      <td>0.0</td>\n",
              "      <td>0.0</td>\n",
              "      <td>0.0</td>\n",
              "      <td>0.0</td>\n",
              "      <td>0.0</td>\n",
              "      <td>0.0</td>\n",
              "      <td>...</td>\n",
              "      <td>0.0</td>\n",
              "      <td>0.0</td>\n",
              "      <td>0.0</td>\n",
              "      <td>0.0</td>\n",
              "      <td>0.0</td>\n",
              "      <td>0.0</td>\n",
              "      <td>0.0</td>\n",
              "      <td>0.0</td>\n",
              "      <td>0.0</td>\n",
              "      <td>0.0</td>\n",
              "    </tr>\n",
              "    <tr>\n",
              "      <th>3</th>\n",
              "      <td>0.0</td>\n",
              "      <td>0.0</td>\n",
              "      <td>0.0</td>\n",
              "      <td>0.0</td>\n",
              "      <td>0.0</td>\n",
              "      <td>0.0</td>\n",
              "      <td>0.0</td>\n",
              "      <td>0.0</td>\n",
              "      <td>0.0</td>\n",
              "      <td>0.0</td>\n",
              "      <td>...</td>\n",
              "      <td>0.0</td>\n",
              "      <td>0.0</td>\n",
              "      <td>0.0</td>\n",
              "      <td>0.0</td>\n",
              "      <td>0.0</td>\n",
              "      <td>0.0</td>\n",
              "      <td>0.0</td>\n",
              "      <td>0.0</td>\n",
              "      <td>0.0</td>\n",
              "      <td>0.0</td>\n",
              "    </tr>\n",
              "    <tr>\n",
              "      <th>4</th>\n",
              "      <td>0.0</td>\n",
              "      <td>0.0</td>\n",
              "      <td>0.0</td>\n",
              "      <td>0.0</td>\n",
              "      <td>0.0</td>\n",
              "      <td>0.0</td>\n",
              "      <td>0.0</td>\n",
              "      <td>0.0</td>\n",
              "      <td>0.0</td>\n",
              "      <td>0.0</td>\n",
              "      <td>...</td>\n",
              "      <td>0.0</td>\n",
              "      <td>0.0</td>\n",
              "      <td>0.0</td>\n",
              "      <td>0.0</td>\n",
              "      <td>0.0</td>\n",
              "      <td>0.0</td>\n",
              "      <td>0.0</td>\n",
              "      <td>0.0</td>\n",
              "      <td>0.0</td>\n",
              "      <td>0.0</td>\n",
              "    </tr>\n",
              "    <tr>\n",
              "      <th>...</th>\n",
              "      <td>...</td>\n",
              "      <td>...</td>\n",
              "      <td>...</td>\n",
              "      <td>...</td>\n",
              "      <td>...</td>\n",
              "      <td>...</td>\n",
              "      <td>...</td>\n",
              "      <td>...</td>\n",
              "      <td>...</td>\n",
              "      <td>...</td>\n",
              "      <td>...</td>\n",
              "      <td>...</td>\n",
              "      <td>...</td>\n",
              "      <td>...</td>\n",
              "      <td>...</td>\n",
              "      <td>...</td>\n",
              "      <td>...</td>\n",
              "      <td>...</td>\n",
              "      <td>...</td>\n",
              "      <td>...</td>\n",
              "      <td>...</td>\n",
              "    </tr>\n",
              "    <tr>\n",
              "      <th>556</th>\n",
              "      <td>0.0</td>\n",
              "      <td>0.0</td>\n",
              "      <td>0.0</td>\n",
              "      <td>0.0</td>\n",
              "      <td>0.0</td>\n",
              "      <td>0.0</td>\n",
              "      <td>0.0</td>\n",
              "      <td>0.0</td>\n",
              "      <td>0.0</td>\n",
              "      <td>0.0</td>\n",
              "      <td>...</td>\n",
              "      <td>0.0</td>\n",
              "      <td>0.0</td>\n",
              "      <td>0.0</td>\n",
              "      <td>0.0</td>\n",
              "      <td>0.0</td>\n",
              "      <td>0.0</td>\n",
              "      <td>0.0</td>\n",
              "      <td>0.0</td>\n",
              "      <td>0.0</td>\n",
              "      <td>0.0</td>\n",
              "    </tr>\n",
              "    <tr>\n",
              "      <th>557</th>\n",
              "      <td>0.0</td>\n",
              "      <td>0.0</td>\n",
              "      <td>0.0</td>\n",
              "      <td>0.0</td>\n",
              "      <td>0.0</td>\n",
              "      <td>0.0</td>\n",
              "      <td>0.0</td>\n",
              "      <td>0.0</td>\n",
              "      <td>0.0</td>\n",
              "      <td>0.0</td>\n",
              "      <td>...</td>\n",
              "      <td>0.0</td>\n",
              "      <td>0.0</td>\n",
              "      <td>0.0</td>\n",
              "      <td>0.0</td>\n",
              "      <td>0.0</td>\n",
              "      <td>0.0</td>\n",
              "      <td>0.0</td>\n",
              "      <td>0.0</td>\n",
              "      <td>0.0</td>\n",
              "      <td>0.0</td>\n",
              "    </tr>\n",
              "    <tr>\n",
              "      <th>558</th>\n",
              "      <td>0.0</td>\n",
              "      <td>0.0</td>\n",
              "      <td>0.0</td>\n",
              "      <td>0.0</td>\n",
              "      <td>0.0</td>\n",
              "      <td>0.0</td>\n",
              "      <td>0.0</td>\n",
              "      <td>0.0</td>\n",
              "      <td>0.0</td>\n",
              "      <td>0.0</td>\n",
              "      <td>...</td>\n",
              "      <td>0.0</td>\n",
              "      <td>0.0</td>\n",
              "      <td>0.0</td>\n",
              "      <td>0.0</td>\n",
              "      <td>0.0</td>\n",
              "      <td>0.0</td>\n",
              "      <td>0.0</td>\n",
              "      <td>0.0</td>\n",
              "      <td>0.0</td>\n",
              "      <td>0.0</td>\n",
              "    </tr>\n",
              "    <tr>\n",
              "      <th>559</th>\n",
              "      <td>0.0</td>\n",
              "      <td>0.0</td>\n",
              "      <td>0.0</td>\n",
              "      <td>0.0</td>\n",
              "      <td>0.0</td>\n",
              "      <td>0.0</td>\n",
              "      <td>0.0</td>\n",
              "      <td>0.0</td>\n",
              "      <td>0.0</td>\n",
              "      <td>0.0</td>\n",
              "      <td>...</td>\n",
              "      <td>0.0</td>\n",
              "      <td>0.0</td>\n",
              "      <td>0.0</td>\n",
              "      <td>0.0</td>\n",
              "      <td>0.0</td>\n",
              "      <td>0.0</td>\n",
              "      <td>0.0</td>\n",
              "      <td>0.0</td>\n",
              "      <td>0.0</td>\n",
              "      <td>0.0</td>\n",
              "    </tr>\n",
              "    <tr>\n",
              "      <th>560</th>\n",
              "      <td>0.0</td>\n",
              "      <td>0.0</td>\n",
              "      <td>0.0</td>\n",
              "      <td>0.0</td>\n",
              "      <td>0.0</td>\n",
              "      <td>0.0</td>\n",
              "      <td>0.0</td>\n",
              "      <td>0.0</td>\n",
              "      <td>0.0</td>\n",
              "      <td>0.0</td>\n",
              "      <td>...</td>\n",
              "      <td>0.0</td>\n",
              "      <td>0.0</td>\n",
              "      <td>0.0</td>\n",
              "      <td>0.0</td>\n",
              "      <td>0.0</td>\n",
              "      <td>0.0</td>\n",
              "      <td>0.0</td>\n",
              "      <td>0.0</td>\n",
              "      <td>0.0</td>\n",
              "      <td>0.0</td>\n",
              "    </tr>\n",
              "  </tbody>\n",
              "</table>\n",
              "<p>561 rows × 1437 columns</p>\n",
              "</div>\n",
              "      <button class=\"colab-df-convert\" onclick=\"convertToInteractive('df-1324f15d-0f52-4d0d-a50f-d0a514227d00')\"\n",
              "              title=\"Convert this dataframe to an interactive table.\"\n",
              "              style=\"display:none;\">\n",
              "        \n",
              "  <svg xmlns=\"http://www.w3.org/2000/svg\" height=\"24px\"viewBox=\"0 0 24 24\"\n",
              "       width=\"24px\">\n",
              "    <path d=\"M0 0h24v24H0V0z\" fill=\"none\"/>\n",
              "    <path d=\"M18.56 5.44l.94 2.06.94-2.06 2.06-.94-2.06-.94-.94-2.06-.94 2.06-2.06.94zm-11 1L8.5 8.5l.94-2.06 2.06-.94-2.06-.94L8.5 2.5l-.94 2.06-2.06.94zm10 10l.94 2.06.94-2.06 2.06-.94-2.06-.94-.94-2.06-.94 2.06-2.06.94z\"/><path d=\"M17.41 7.96l-1.37-1.37c-.4-.4-.92-.59-1.43-.59-.52 0-1.04.2-1.43.59L10.3 9.45l-7.72 7.72c-.78.78-.78 2.05 0 2.83L4 21.41c.39.39.9.59 1.41.59.51 0 1.02-.2 1.41-.59l7.78-7.78 2.81-2.81c.8-.78.8-2.07 0-2.86zM5.41 20L4 18.59l7.72-7.72 1.47 1.35L5.41 20z\"/>\n",
              "  </svg>\n",
              "      </button>\n",
              "      \n",
              "  <style>\n",
              "    .colab-df-container {\n",
              "      display:flex;\n",
              "      flex-wrap:wrap;\n",
              "      gap: 12px;\n",
              "    }\n",
              "\n",
              "    .colab-df-convert {\n",
              "      background-color: #E8F0FE;\n",
              "      border: none;\n",
              "      border-radius: 50%;\n",
              "      cursor: pointer;\n",
              "      display: none;\n",
              "      fill: #1967D2;\n",
              "      height: 32px;\n",
              "      padding: 0 0 0 0;\n",
              "      width: 32px;\n",
              "    }\n",
              "\n",
              "    .colab-df-convert:hover {\n",
              "      background-color: #E2EBFA;\n",
              "      box-shadow: 0px 1px 2px rgba(60, 64, 67, 0.3), 0px 1px 3px 1px rgba(60, 64, 67, 0.15);\n",
              "      fill: #174EA6;\n",
              "    }\n",
              "\n",
              "    [theme=dark] .colab-df-convert {\n",
              "      background-color: #3B4455;\n",
              "      fill: #D2E3FC;\n",
              "    }\n",
              "\n",
              "    [theme=dark] .colab-df-convert:hover {\n",
              "      background-color: #434B5C;\n",
              "      box-shadow: 0px 1px 3px 1px rgba(0, 0, 0, 0.15);\n",
              "      filter: drop-shadow(0px 1px 2px rgba(0, 0, 0, 0.3));\n",
              "      fill: #FFFFFF;\n",
              "    }\n",
              "  </style>\n",
              "\n",
              "      <script>\n",
              "        const buttonEl =\n",
              "          document.querySelector('#df-1324f15d-0f52-4d0d-a50f-d0a514227d00 button.colab-df-convert');\n",
              "        buttonEl.style.display =\n",
              "          google.colab.kernel.accessAllowed ? 'block' : 'none';\n",
              "\n",
              "        async function convertToInteractive(key) {\n",
              "          const element = document.querySelector('#df-1324f15d-0f52-4d0d-a50f-d0a514227d00');\n",
              "          const dataTable =\n",
              "            await google.colab.kernel.invokeFunction('convertToInteractive',\n",
              "                                                     [key], {});\n",
              "          if (!dataTable) return;\n",
              "\n",
              "          const docLinkHtml = 'Like what you see? Visit the ' +\n",
              "            '<a target=\"_blank\" href=https://colab.research.google.com/notebooks/data_table.ipynb>data table notebook</a>'\n",
              "            + ' to learn more about interactive tables.';\n",
              "          element.innerHTML = '';\n",
              "          dataTable['output_type'] = 'display_data';\n",
              "          await google.colab.output.renderOutput(dataTable, element);\n",
              "          const docLink = document.createElement('div');\n",
              "          docLink.innerHTML = docLinkHtml;\n",
              "          element.appendChild(docLink);\n",
              "        }\n",
              "      </script>\n",
              "    </div>\n",
              "  </div>\n",
              "  "
            ]
          },
          "metadata": {},
          "execution_count": 81
        }
      ],
      "source": [
        "# Create tfidf vectorizer\n",
        "tfidf = TfidfVectorizer(tokenizer = tokenize)\n",
        "# Fit_transfrom the above vectorizer on the text column and then convert the output into an array\n",
        "songs_tfidf = tfidf.fit_transform(df_small['text'].values).toarray()\n",
        "pd.DataFrame(songs_tfidf)"
      ]
    },
    {
      "cell_type": "code",
      "execution_count": null,
      "metadata": {
        "id": "Beak6ODRR-F7",
        "colab": {
          "base_uri": "https://localhost:8080/"
        },
        "outputId": "cd213638-fce2-43dd-c793-49376dc8fbf3"
      },
      "outputs": [
        {
          "output_type": "execute_result",
          "data": {
            "text/plain": [
              "array([[1., 0., 0., ..., 0., 0., 0.],\n",
              "       [0., 1., 0., ..., 0., 0., 0.],\n",
              "       [0., 0., 1., ..., 0., 0., 0.],\n",
              "       ...,\n",
              "       [0., 0., 0., ..., 1., 0., 0.],\n",
              "       [0., 0., 0., ..., 0., 1., 0.],\n",
              "       [0., 0., 0., ..., 0., 0., 1.]])"
            ]
          },
          "metadata": {},
          "execution_count": 82
        }
      ],
      "source": [
        "# Compute the cosine similarity for the tfidf above output\n",
        "similar_songs = cosine_similarity(songs_tfidf, songs_tfidf)\n",
        "\n",
        "# Let us see the above array\n",
        "similar_songs"
      ]
    },
    {
      "cell_type": "markdown",
      "metadata": {
        "id": "3Jjo3UHKhoEh"
      },
      "source": [
        " Finally, let's create a function to find most similar songs to recommend for a given song."
      ]
    },
    {
      "cell_type": "code",
      "execution_count": null,
      "metadata": {
        "id": "upANOISkR-F8"
      },
      "outputs": [],
      "source": [
        "# Function that takes in song title as input and returns the top 10 recommended songs\n",
        "def recommendations(title, similar_songs):\n",
        "\n",
        "    recommended_songs = []\n",
        "\n",
        "    indices = pd.Series(df_small.index)\n",
        "\n",
        "    # Getting the index of the movie that matches the title\n",
        "    idx = indices[indices == title].index[0]\n",
        "\n",
        "    # Creating a Series with the similarity scores in descending order\n",
        "    score_series = pd.Series(similar_songs[idx]).sort_values(ascending = False)\n",
        "\n",
        "    # Getting the indices of 10 most similar movies\n",
        "    top_10_indexes = list(score_series.iloc[1 : 11].index)\n",
        "    print(top_10_indexes)\n",
        "\n",
        "    # Populating the list with the titles of the best 10 matching movies\n",
        "    for i in top_10_indexes:\n",
        "        recommended_songs.append(list(df_small.index)[i])\n",
        "\n",
        "    return recommended_songs"
      ]
    },
    {
      "cell_type": "markdown",
      "metadata": {
        "id": "o4EINBmkR-F8"
      },
      "source": [
        "Recommending 10 songs similar to Learn to Fly"
      ]
    },
    {
      "cell_type": "code",
      "execution_count": null,
      "metadata": {
        "id": "ohEK5dkVR-F8",
        "colab": {
          "base_uri": "https://localhost:8080/"
        },
        "outputId": "05907ec5-5806-42ac-9b49-4030f30bc834"
      },
      "outputs": [
        {
          "output_type": "stream",
          "name": "stdout",
          "text": [
            "[509, 234, 423, 345, 394, 370, 371, 372, 373, 375]\n"
          ]
        },
        {
          "output_type": "execute_result",
          "data": {
            "text/plain": [
              "['Everlong',\n",
              " 'The Pretender',\n",
              " 'Nothing Better (Album)',\n",
              " 'From Left To Right',\n",
              " 'Lifespan Of A Fly',\n",
              " 'Under The Gun',\n",
              " 'I Need A Dollar',\n",
              " 'Feel The Love',\n",
              " 'All The Pretty Faces',\n",
              " 'Bones']"
            ]
          },
          "metadata": {},
          "execution_count": 84
        }
      ],
      "source": [
        "# Make the recommendation for the song with title 'Learn To Fly'\n",
        "recommendations('Learn To Fly', similar_songs)"
      ]
    },
    {
      "cell_type": "markdown",
      "metadata": {
        "id": "UQ7iI5QJ0oem"
      },
      "source": [
        "**Observations and Insights:_________**"
      ]
    },
    {
      "cell_type": "markdown",
      "metadata": {
        "id": "73367782"
      },
      "source": [
        "## **Conclusion and Recommendations**"
      ]
    },
    {
      "cell_type": "markdown",
      "source": [
        "**1. Comparison of various techniques and their relative performance based on chosen Metric (Measure of success)**:\n",
        "- How do different techniques perform? Which one is performing relatively better? Is there scope to improve the performance further?\n",
        "\n",
        "![image.png](data:image/png;base64,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)\n",
        "\n",
        "All the measureable techniques have F_1 score around 50%. Colloborative Filtering item-item seems to be slightley better."
      ],
      "metadata": {
        "id": "N5BT7Ocwqf5x"
      }
    },
    {
      "cell_type": "markdown",
      "source": [
        "**2. Refined insights**:\n",
        "- What are the most meaningful insights from the data relevant to the problem?\n",
        "\n",
        "All the measureable techniques have F_1 score around 50%. Colloborative Filtering item-item seems to be slightley better.\n",
        "\n"
      ],
      "metadata": {
        "id": "wjc6vTcoqp6v"
      }
    },
    {
      "cell_type": "markdown",
      "metadata": {
        "id": "hK6PMGUtoxVx"
      },
      "source": [
        "**3. Proposal for the final solution design:**\n",
        "- What model do you propose to be adopted? Why is this the best solution to adopt?\n",
        "\n",
        "**Executive summary**\n",
        "\n",
        "Colloborative Filtering using SVD is proposed to be adopted. This is chosen, because it has similar performance to other models and at the same time it is scalable compare to other models and it works better with sparsed data.\n",
        "\n",
        "As the data grows, scalability is an important aspect to consider and data is expected to be sparsed as it is now.\n",
        "\n",
        "However, SVD model suffers cold start, thus for new users, recommendation can be made based on popularity model.\n",
        "\n",
        "\n",
        "**Problem and solution summary**\n",
        "\n",
        "With rapidly growing volume of songs and limited time availability of users in fast paced society, choosing a song is a daunting task.\n",
        "\n",
        "Thus, when relevant songs are recommented to a user, time spent on platform will increase. This will in turn increase the user base and bring more revenue to the music platform. As user base increases more and interacts more with more songs, recommendation system will also get better.\n",
        "Producers/artists of music will also benefit from this solution, as the right songs reach the right users.\n",
        "\n",
        "**Recommendations for implementation**\n",
        "\n",
        "Additional data can be gathered about songs and users. This will help to find  similar users and similar songs more accurately using content based system.\n",
        "\n",
        "Also, there is not enough content like genre of songs in the data. Adding more attribute like genere of song, lyrics and user review will improve the performance.\n",
        "\n",
        "Need to find a way to measure the performance of Content based recommendation techniques.\n",
        "\n",
        "All the models should be trained and performance to be evaluated at a regular interval such as once a month as the data grows.\n",
        "\n"
      ]
    }
  ],
  "metadata": {
    "colab": {
      "provenance": []
    },
    "kernelspec": {
      "display_name": "Python 3 (ipykernel)",
      "language": "python",
      "name": "python3"
    },
    "language_info": {
      "codemirror_mode": {
        "name": "ipython",
        "version": 3
      },
      "file_extension": ".py",
      "mimetype": "text/x-python",
      "name": "python",
      "nbconvert_exporter": "python",
      "pygments_lexer": "ipython3",
      "version": "3.9.13"
    }
  },
  "nbformat": 4,
  "nbformat_minor": 0
}